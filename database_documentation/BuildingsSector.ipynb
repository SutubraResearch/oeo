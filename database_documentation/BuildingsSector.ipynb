{
 "cells": [
  {
   "cell_type": "code",
   "execution_count": 1,
   "metadata": {
    "hide_input": true,
    "init_cell": true,
    "jupyter": {
     "source_hidden": true
    }
   },
   "outputs": [],
   "source": [
    "import pandas as pd\n",
    "import numpy as np\n",
    "import os\n",
    "import sqlite3\n",
    "import shutil\n",
    "import datetime\n",
    "import matplotlib.pyplot as plt\n",
    "import tabulate\n",
    "from IPython.display import HTML, display, Markdown\n",
    "import csv\n",
    "import unicodedata\n",
    "import getopt\n",
    "from ipywidgets import HBox, VBox, Layout\n",
    "from matplotlib.ticker import MaxNLocator\n",
    "\n",
    "import ipywidgets as widgets\n",
    "from ipywidgets import HBox, VBox, Layout\n",
    "import graphviz\n",
    "from GraphVizUtil import *\n",
    "from GraphVizFormats import *\n",
    "import warnings\n",
    "warnings.filterwarnings('ignore')\n",
    "import seaborn as sb\n",
    "sb.set(style='darkgrid', font_scale=1.2)\n",
    "\n",
    "def filter_descriptions(tech_comm_desc):\n",
    "    try:\n",
    "        tech_comm_desc = tech_comm_desc.values[0][0].replace('#', '').replace('\"','').replace(\"\\n\",'').strip()\n",
    "    except:\n",
    "        tech_comm_desc = 'No description provided'\n",
    "    return tech_comm_desc\n",
    "\n",
    "def create_args_flowd(df_graph):\n",
    "    nodes, tech, ltech, to_tech, from_tech = set(), set(), set(), set(), set()\n",
    "    for ind,row in df_graph.iterrows():\n",
    "        #descriptions:\n",
    "        input_comm_des = filter_descriptions(pd.read_sql(\"SELECT comm_desc FROM commodities WHERE comm_name='\" + row['input_comm'] + \"'\", con))\n",
    "        output_comm_des = filter_descriptions(pd.read_sql(\"SELECT comm_desc FROM commodities WHERE comm_name='\" + row['output_comm'] + \"'\", con))\n",
    "        tech_des = filter_descriptions(pd.read_sql(\"SELECT tech_desc FROM technologies WHERE tech='\" + row['tech'] + \"'\", con))\n",
    "\n",
    "        if 'ethos' in row['input_comm']:\n",
    "            ltech.add('\"' + row['tech'] + '\"' +  ' [tooltip = \"' + tech_des + '\"]')\n",
    "        else :\n",
    "            nodes.add('\"' + row['input_comm'] + '\"' +  ' [tooltip = \"' + input_comm_des + '\"]')\n",
    "        nodes.add('\"' + row['output_comm'] + '\"' +  ' [tooltip = \"' + output_comm_des + '\"]')\n",
    "        tech.add('\"' + row['tech'] + '\"' +  ' [tooltip = \"' + tech_des + '\"]')\n",
    "\n",
    "        if row['input_comm'] != 'ethos':\n",
    "            to_tech.add('\"%s\"' % row['input_comm'] + '\\t->\\t\"%s\"' % row['tech']) \n",
    "        from_tech.add('\"%s\"' % row['tech'] + '\\t->\\t\"%s\"' % row['output_comm'])\n",
    "    args = dict(\n",
    "    enodes = \"\".join('%s;\\n\\t\\t' % x for x in nodes),\n",
    "    tnodes = \"\".join('%s;\\n\\t\\t' % x for x in tech),\n",
    "    iedges = \"\".join('%s;\\n\\t\\t' % x for x in to_tech),\n",
    "    oedges = \"\".join('%s;\\n\\t\\t' % x for x in from_tech),\n",
    "    snodes = \";\".join('%s' %x for x in ltech),\n",
    "    )\n",
    "    return args\n",
    "\n",
    "\n",
    "def return_format_colors():\n",
    "    colors = {}\n",
    "    colors.update(getColorConfig(False))\n",
    "    return colors, quick_run_dot_fmt\n",
    "\n",
    "def return_flowd_table(final_dem, level=1):\n",
    "    df = pd.read_sql(\"SELECT * FROM Efficiency\", con)\n",
    "    df_sel = df[df['output_comm']==final_dem]\n",
    "    if len(df_sel)==0:\n",
    "        df_sel = df[df['tech']==final_dem]\n",
    "    inputs = df_sel['input_comm'].unique()\n",
    "    iterval=0\n",
    "    if level!=0:\n",
    "        while len(inputs)>0:\n",
    "            df_append = df[df['output_comm'].isin(inputs)]\n",
    "            df_sel = pd.concat([df_sel, df_append])\n",
    "            inputs = df_append['input_comm'].unique()\n",
    "            iterval+=1\n",
    "            if iterval>level-1:\n",
    "                break\n",
    "    df_graph = df_sel[['input_comm', 'tech', 'output_comm']].drop_duplicates()\n",
    "    return df_graph\n",
    "\n",
    "def return_flowd_table_fwds(final_dem):\n",
    "    df = pd.read_sql(\"SELECT * FROM Efficiency\", con)\n",
    "    df_sel = df[df['output_comm']==final_dem]\n",
    "    if len(df_sel)==0:\n",
    "        df_sel = df[df['tech']==final_dem]\n",
    "    inputs = df_sel['input_comm'].unique()\n",
    "    outputs = df_sel['output_comm'].unique()\n",
    "\n",
    "    iterval=0\n",
    "    while len(inputs)>0:\n",
    "        df_append = df[df['output_comm'].isin(inputs)]\n",
    "        df_sel = pd.concat([df_sel, df_append])\n",
    "        inputs = df_append['input_comm'].unique()\n",
    "        iterval+=1\n",
    "        if iterval>2:\n",
    "            break\n",
    "    iterval=0\n",
    "    while len(outputs)>0:\n",
    "        df_append = df[df['input_comm'].isin(outputs)]\n",
    "        df_sel = pd.concat([df_sel, df_append])\n",
    "        outputs = df_append['output_comm'].unique()\n",
    "        iterval+=1\n",
    "        if iterval>=0:\n",
    "            break\n",
    "\n",
    "    df_graph = df_sel[['input_comm', 'tech', 'output_comm']].drop_duplicates()\n",
    "    return df_graph\n",
    "\n",
    "con = sqlite3.connect(r'../US_Regional.sqlite') #change path to database\n",
    "cur = con.cursor()   \n",
    "con.text_factory = str \n",
    "\n",
    "def controls_rows(w):\n",
    "    controls = HBox(w.children[:-1], layout = Layout(flex_flow='row wrap', width='max-content'))\n",
    "    output = w.children[-1]\n",
    "    display(VBox([controls, output],  layout = Layout(flex_flow='columns wrap', width='max-content', size=10)))\n",
    "    "
   ]
  },
  {
   "cell_type": "markdown",
   "metadata": {},
   "source": [
    "### Table of Contents\n",
    "\n",
    "[1. Buildings Sector Overview](#buildings)\n",
    "<br>\n",
    "&ensp;[1.1 Service Demands](#service_demands)\n",
    "<br>\n",
    "&emsp;[1.1.1 Annual Demand Projections](#annual_demands)\n",
    "<br>\n",
    "&emsp;[1.1.2 Hourly Demand Representation](#hourly_demands)\n",
    "<br>\n",
    "&ensp;[1.2 Technology/commodity description lookup tool](#description_look_up)\n",
    "<br>\n",
    "&ensp;[1.3 Network diagram lookup tool](#network_look_up)\n",
    "<br>\n",
    "&ensp;[1.4 Technology/commodity look-up tool](#lookup)\n",
    "<br>\n",
    "&ensp;[1.5 Demand Technology Specficiation](#demand_technology)\n",
    "<br>\n",
    "&emsp;[1.5.1 Investment Costs](#costinvest)\n",
    "<br>\n",
    "&emsp;[1.5.2 Efficiency](#efficiency)\n",
    "<br>\n",
    "&emsp;[1.5.3 Existing Capacity](#exist_cap)\n",
    "<br>\n",
    "&emsp;[1.5.4 Discount Rate](#disc_rates)\n",
    "\n",
    "\n"
   ]
  },
  {
   "cell_type": "markdown",
   "metadata": {},
   "source": [
    "### 1. Buildings Sector Overview <a class=\"anchor\" id=\"buildings\"></a>\n",
    "The buildings sector in the OEO database is broken down into the residential and commercial sectors. Both of these sectors consist of two key components: end-use service demands and the demand technologies used to meet those demands. The service demands in turn consist of two components: the annual regional demands projected to 2050, and the disaggregation of those annual demands to the hourly level so that they match the representative days modeled within the OEO database. The demand technologies are characterized by their capital costs, fixed and variable operation and maintenance costs, efficiencies, capacity factors, and fuel inputs."
   ]
  },
  {
   "cell_type": "markdown",
   "metadata": {},
   "source": [
    "#### 1.1 Service Demands <a class=\"anchor\" id=\"service_demands\"></a>\n",
    "The <a href=\"https://www.nrel.gov/analysis/electrification-futures.html\" rel=\"nofollow\">NREL Electrification Futures Study</a> has used the EnergyPATHWAYS tool to develop a set of energy demand and supply projections for the buildings sector (and other sectors) to 2050. These annual projections are available at the state level for subsectors such as space heating, air conditioning, cooking, and water heating. The study also has projections of hourly electricity demands for some of these subsectors, by state. We are currently using these two datasets to develop demand projections for the OEO database. In the future, we plan to utilize more detailed projections based on the <a href=\"https://im3.pnnl.gov/model?model=BEND\" rel=\"nofollow\">Building ENergy Demand (BEND) Model</a>.\n"
   ]
  },
  {
   "cell_type": "markdown",
   "metadata": {},
   "source": [
    "##### 1.1.1 Annual Demand Projections <a class=\"anchor\" id=\"annual_demands\"></a>\n",
    "The <a href=\"https://www.nrel.gov/docs/fy18osti/71500.pdf\" rel=\"nofollow\">Electrification Futures Study (EFS) Scenarios of Electric Technology Adoption and Power Consumption for the United States</a> report was published in 2018 and presents a range of demand scenarios for all the energy sectors in the United States. Specifically, the study estimates building-related service demands, as shown in Table 1, primarily by downscaling service demands data from the US EIA 2017 Annual Energy Outlook and the NEMS model.\n",
    "\n",
    "EIA service demand data were made available by US Census Division to the EFS study. These Census Division-level data were then downscaled to the state-level in the EFS by using factors relevant to each end-use demand. For example, residential space heating service demands at the Census Division were downscaled to states by taking the product of each state's share of heating-degree-days and residential square footage within a given region. Similarly, residential water heating was downscaled by using the number of households. These state-level demand projectons to 2050 were made available by the [EFS](https://data.nrel.gov/submissions/92), for the demand types listed in Table 1.\n",
    "\n",
    "These state-level demands are aggregated, by demand category, to the none OEO regions shown in Figure 1 of the Overview notebook. Using these aggregated data, the fraction of demand by category in each OEO region are estimated for every year. For example, residential space heating demand in the Northeast region is almost 20% of US total demand in 2050.\n",
    "\n",
    "The national level end-use demands, drawn from the US EPA MARKAL database [(Lenox, et al., 2013)](https://cfpub.epa.gov/si/si_public_record_report.cfm?Lab=NRMRL&dirEntryId=278925), were then scaled to each of the nine OEO regions using the regional demand fractions estimated using the EFS. The demand categories in the EFS were mapped to the OEO categories, as shown in Table 1.\n",
    "\n",
    "**Table 1.** Annual service demands categories in the EFS, mapped to the OEO demands\n",
    "\n",
    "| EFS Demand Category | Unit | OEO Demand Category |\n",
    "|-|-|-|\n",
    "| Commercial air conditioning<img width=150/> | TERABTU |commercial space cooling demand<img width=500/>|\n",
    "| Commercial cooking | TERABTU | commercial   cooking demand |\n",
    "| Commercial lighting | GIGALUMEN_YEAR | commercial lighting demand, commercial other electric demand, commercial electric demand for office equipment, commercial other residual fuel oil demand, Other demand in commercial sector |\n",
    "| Commercial refrigeration | TERABTU | commercial   refrigeration demand |\n",
    "| Commercial space heating | TERABTU | commercial space   heating demand |\n",
    "| Commercial ventilation | GIGACUBIC_FOOT | commercial   ventilation demand |\n",
    "| Commercial water heating | TERABTU | commercial water   heating demand |\n",
    "| Residential air conditioning | MMBTU | residential   space cooling demand |\n",
    "| Residential clothes drying | LB | Other demand in   resindetial sector |\n",
    "| Residential clothes washing | CUBIC_FOOT_CYCLE |  |\n",
    "| Residential cooking | MMBTU |  |\n",
    "| Residential dishwashing | CYCLE | residential   other electric demand |\n",
    "| Residential freezing | CUBIC_FEET | residential   freezing demand |\n",
    "| Residential lighting | KILOLUMEN_HOUR | residential   lighting demand |\n",
    "| Residential refrigeration | CUBIC_FEET | residential   refrigeration demand |\n",
    "| Residential space heating | MMBTU | residential   space heating demand |\n",
    "| Residential water heating | MMBTU | residential   water heating demand |\n",
    "\n",
    "\n",
    "End-use regional OEO demand projections can be explored in the tool below."
   ]
  },
  {
   "cell_type": "code",
   "execution_count": null,
   "metadata": {
    "hide_input": true,
    "jupyter": {
     "source_hidden": true
    }
   },
   "outputs": [],
   "source": [
    "def show_demand(con):\n",
    "\n",
    "    display_types = ['table', 'figure']\n",
    "\n",
    "    df_demand = pd.read_sql(\"SELECT * FROM Demand WHERE demand_comm in (SELECT comm_name FROM commodities WHERE flag='d') \\\n",
    "                            AND demand_comm in (SELECT output_comm FROM Efficiency WHERE tech IN (SELECT tech FROM technologies WHERE sector='transport'))\", con)\n",
    "   \n",
    "    df_tech_desc = pd.read_sql(\"SELECT comm_name, comm_desc FROM commodities\", con)\n",
    "    df_demand['demand_comm'] = df_demand['demand_comm'].map(lambda x: df_tech_desc.loc[df_tech_desc.comm_name==x,'comm_desc'].values[0].replace('#','').strip())\n",
    "\n",
    "    demand_comms = []\n",
    "    for unique_demand_comm in df_demand.demand_comm.unique():\n",
    "        demand_comms.append(unique_demand_comm)\n",
    "    demand_comms = list(set(demand_comms))\n",
    "    regions = df_demand.regions.unique()\n",
    "\n",
    "\n",
    "    def filter_demand_comm(demand_comm='', o_format=''):\n",
    "        #demand_comm_name = pd.read_sql(\"SELECT comm_desc FROM commodities where comm_name=='\" + demand_comm +\"'\", con)\n",
    "        df_sel = df_demand[(df_demand.demand_comm==demand_comm)]\n",
    "        df_sel = df_sel.pivot_table(\n",
    "            index=['regions', 'demand_comm', 'demand_units'],\n",
    "            columns='periods',\n",
    "            values='demand').reset_index().set_index('regions')\n",
    "        #df_sel['demand_comm'] = demand_comm_name.iloc[0,0].replace('#','').strip()\n",
    "        df_sel.rename(columns={'demand_units': 'units', 'demand_comm':'demand'}, inplace=True)\n",
    "        df_sel.units = df_sel.units.str.replace('#','').str.strip()\n",
    "        if o_format == 'table':\n",
    "            display(\n",
    "                HTML(\n",
    "                    tabulate.tabulate(df_sel,\n",
    "                                      ['region'] + list(df_sel.columns.values),\n",
    "                                      floatfmt=\".1f\",\n",
    "                                      tablefmt='html')))\n",
    "        elif o_format == 'figure':\n",
    "            fig, ax = plt.subplots(figsize=(10, 6))\n",
    "            df_sel.drop(columns=['demand', 'units']).transpose().plot.bar(stacked=True, ax = ax)\n",
    "            plt.legend(bbox_to_anchor=(0, 1), loc='upper left', ncol=1)\n",
    "            handles, labels = ax.get_legend_handles_labels()\n",
    "            ax.legend(handles[::-1], labels[::-1], loc='upper right',bbox_to_anchor=(1.2, 1))\n",
    "            plt.ylabel(demand_comm_name.iloc[0,0].replace('#','').strip() + ' (' + df_sel.units.unique()[0].replace('#','') + ')')\n",
    "            plt.xlabel('')\n",
    "    w2 = widgets.Select(options=demand_comms, description='demand')\n",
    "    w3 = widgets.Select(options=display_types)\n",
    "\n",
    "    w_filter = widgets.interactive(filter_demand_comm, demand_comm=w2, o_format=w3)\n",
    "    controls_rows(w_filter)\n",
    "\n",
    "display(Markdown('Annual end-use regional demand projections to 2050'))\n",
    "show_demand(con)\n"
   ]
  },
  {
   "cell_type": "markdown",
   "metadata": {},
   "source": [
    "#####  1.1.2 Hourly Demand Representation <a class=\"anchor\" id=\"hourly_demands\"></a>\n",
    "These service demands are not specified at the temporal resolution currently proposed for the OEO, where each model year is represented by a few days, at an hourly level.\n",
    "\n",
    "Therefore, we use regional electricity demand projections from the PowerGenome model (more details in the Electric Sector notebook) to apportion the annual demands to the hourly time scale across the representative days within the model. This apportionment is done for the time-varying demand categories in the residential and commercial sectors shown in Table 2."
   ]
  },
  {
   "cell_type": "code",
   "execution_count": null,
   "metadata": {
    "hide_input": true,
    "jupyter": {
     "source_hidden": true
    }
   },
   "outputs": [],
   "source": [
    "display(Markdown('**Table 2.** Demand categories that have hourly resolution in the OEO'))\n",
    "df = pd.read_sql(\"SELECT comm_name, comm_desc FROM commodities \\\n",
    "\tWHERE comm_name IN \\\n",
    "\t(SELECT DISTINCT(demand_name) FROM DemandSpecificDistribution)\", con)\n",
    "df.columns=['Demand','Description']\n",
    "df['Description'] = df['Description'].str.replace('#','').str.strip()\n",
    "display(HTML(tabulate.tabulate(df.set_index('Demand'),df.columns,tablefmt='html')))"
   ]
  },
  {
   "cell_type": "markdown",
   "metadata": {
    "jupyter": {
     "source_hidden": false
    }
   },
   "source": [
    "**We are planning to update this approach in the short-term.** NREL has developed and published [hourly level electricity demand profiles](https://data.nrel.gov/submissions/126) (for 8760 hours a year) for a few of the demand categories listed in Table 1 (space heating and cooling, water heating, clothes and dish washing/drying). NREL has used the outputs of models such as ResStock and ComStock and data (e.g. from metering studies, EPRI) to develop these representative hourly profiles for a range of future scenarios. Although these have been developed for electricity demands only, we assume for now that service demands follow the same profiles. We will select the electrification profiles from the 'High Electrification, Rapid End-use Technology Advancement' scenario for our estimates, since it is likely most representative of total service demands. For the subsectors for which no hourly profiles are available, we will assume service demands are constant throughout the year."
   ]
  },
  {
   "cell_type": "code",
   "execution_count": null,
   "metadata": {
    "hide_input": true,
    "jupyter": {
     "source_hidden": true
    }
   },
   "outputs": [],
   "source": [
    "display(Markdown('The downscaled hourly demand profiles for residential/commercial end use demand are shown below. Refer to Table 2 for a description of the technologies'))\n",
    "\n",
    "def show_hourly_dem(con):\n",
    "    df = pd.read_sql(\"SELECT * FROM DemandSpecificDistribution\", con)\n",
    "    regions = df.regions.unique()\n",
    "\n",
    "    def select_region(region=''):\n",
    "        df_sel = df[df.regions==region].copy()\n",
    "        fig, ax = plt.subplots(figsize=(10,6))\n",
    "        for dem in df_sel.demand_name.unique():\n",
    "            df_sel_dem = df_sel[df_sel.demand_name==dem]\n",
    "            plt.plot(np.arange(0, len(df_sel_dem['dds'])),df_sel_dem['dds'], label=dem)\n",
    "        plt.ylabel('Hourly demand fraction')\n",
    "        plt.xlabel('Hour')\n",
    "        plt.legend(loc='upper right',bbox_to_anchor=(1.2, 1))\n",
    "\n",
    "    w1 = widgets.Select(options=regions)\n",
    "    w = widgets.interactive(select_region, region=w1)\n",
    "\n",
    "    controls_rows(w)\n",
    "show_hourly_dem(con)"
   ]
  },
  {
   "cell_type": "markdown",
   "metadata": {},
   "source": [
    "#### 1.2 Technology/commodity description lookup tool <a class=\"anchor\" id=\"description_look_up\"></a>\n",
    "Use the tool below to search for any key words that may describe a technology or commodity of interest (e.g. heating, cooling). The tool provides a list of all the technologies in the database that may be relevant to the query."
   ]
  },
  {
   "cell_type": "code",
   "execution_count": 2,
   "metadata": {
    "hide_input": true,
    "init_cell": true,
    "jupyter": {
     "source_hidden": true
    }
   },
   "outputs": [
    {
     "data": {
      "application/vnd.jupyter.widget-view+json": {
       "model_id": "0fff355a71094963a1ef1964e4a56ba0",
       "version_major": 2,
       "version_minor": 0
      },
      "text/plain": [
       "Text(value='space heating demand')"
      ]
     },
     "metadata": {},
     "output_type": "display_data"
    },
    {
     "data": {
      "application/vnd.jupyter.widget-view+json": {
       "model_id": "d8a90d4af91a4b25a930a1b1ffcf9b07",
       "version_major": 2,
       "version_minor": 0
      },
      "text/plain": [
       "Output()"
      ]
     },
     "metadata": {},
     "output_type": "display_data"
    }
   ],
   "source": [
    "w = widgets.Text(value='space heating demand')\n",
    "display(w)\n",
    "def f(w):\n",
    "    if len(w)>0:\n",
    "        df1 = pd.read_sql(\"SELECT * FROM commodities WHERE comm_desc LIKE '%\" + w + \"%'\", con)\n",
    "        df1['desc'] = df1['comm_desc'].str.replace('#','').str.strip()\n",
    "        df1['comm_tech'] = df1['comm_name']\n",
    "        df1['type'] = 'commodity'\n",
    "\n",
    "        df2 = pd.read_sql(\"SELECT * FROM technologies WHERE tech_desc LIKE '%\" + w + \"%'\", con)\n",
    "        df2['desc'] = df2['tech_desc'].str.replace('#','').str.strip()\n",
    "        df2['comm_tech'] = df2['tech']\n",
    "        df2['type'] = 'technology'\n",
    "\n",
    "\n",
    "        df = pd.concat([df1[['comm_tech','type','desc']], df2[['comm_tech','type','desc']]])\n",
    "        \n",
    "        if len(df)>0:\n",
    "            display(HTML(tabulate.tabulate(df.set_index('comm_tech'),['technology/commodity','type','description'],tablefmt='html')))\n",
    "        else:\n",
    "            print('')\n",
    "    else:\n",
    "        print('')\n",
    "            \n",
    "\n",
    "\n",
    "out = widgets.interactive_output(f, {'w': w})\n",
    "display(out)"
   ]
  },
  {
   "cell_type": "markdown",
   "metadata": {},
   "source": [
    "#### 1.3 Network diagram lookup tool  <a class=\"anchor\" id=\"network_look_up\"></a>\n",
    "Use the [description lookup tool](#description_look_up) above to identify specific commodity or technology names. Type the name in the box below to generate a corresponding network diagram for that commodity or technology. The slider can be used to view different upstream levels of the network diagram."
   ]
  },
  {
   "cell_type": "code",
   "execution_count": 3,
   "metadata": {
    "hide_input": true,
    "init_cell": true,
    "jupyter": {
     "source_hidden": true
    }
   },
   "outputs": [
    {
     "data": {
      "application/vnd.jupyter.widget-view+json": {
       "model_id": "d3bdf11c64bb431f81e71dc3f72a21e5",
       "version_major": 2,
       "version_minor": 0
      },
      "text/plain": [
       "Text(value='RSH')"
      ]
     },
     "metadata": {},
     "output_type": "display_data"
    },
    {
     "data": {
      "application/vnd.jupyter.widget-view+json": {
       "model_id": "23a4599cfc424b09a4e9b0f4de627495",
       "version_major": 2,
       "version_minor": 0
      },
      "text/plain": [
       "Output()"
      ]
     },
     "metadata": {},
     "output_type": "display_data"
    }
   ],
   "source": [
    "w = widgets.Text(value='RSH')\n",
    "display(w)\n",
    "def f(w):\n",
    "    if len(w)>0:\n",
    "        \n",
    "        df1 = pd.read_sql(\"SELECT comm_name, comm_desc FROM commodities WHERE comm_name='\" + w + \"'\", con)\n",
    "        df1['desc'] = df1['comm_desc'].str.replace('#','').str.strip()\n",
    "        df1['comm_tech'] = df1['comm_name']\n",
    "        df1['type'] = 'commodity'\n",
    "\n",
    "        df2 = pd.read_sql(\"SELECT * FROM technologies WHERE tech='\" + w + \"'\", con)\n",
    "        df2['desc'] = df2['tech_desc'].str.replace('#','').str.strip()\n",
    "        df2['comm_tech'] = df2['tech']\n",
    "        df2['type'] = 'technology'\n",
    "\n",
    "        df = pd.concat([df1[['comm_tech','type','desc']], df2[['comm_tech','type','desc']]])\n",
    "\n",
    "    \n",
    "        if len(df)>0:\n",
    "            def show_desc(level):\n",
    "                display(Markdown(df['desc'][0]))\n",
    "                final_dem = df['comm_tech'][0]\n",
    "                df_graph = return_flowd_table(final_dem,level)\n",
    "                args = create_args_flowd(df_graph)\n",
    "                colors, quick_run_dot_fmt = return_format_colors()\n",
    "                args.update(colors)\n",
    "                #o_str = 'rankdir = \"LR\" ;'\n",
    "                #r_str = 'rankdir = \"LR\" ; \\n\\t size=\"12,12\";'\n",
    "                #quick_run_dot_fmt = quick_run_dot_fmt.replace(o_str, r_str)\n",
    "                dot_graph = quick_run_dot_fmt % args\n",
    "                display(graphviz.Source(dot_graph))\n",
    "            w2 = widgets.IntSlider(value=1,min=0,max=10,step=1,description='Level:',disabled=False,continuous_update=True,orientation='horizontal',readout=True,readout_format='d')\n",
    "            w = widgets.interactive(show_desc, level=w2)\n",
    "            controls_rows(w)\n",
    "        else:\n",
    "            print('')\n",
    "\n",
    "    else:\n",
    "        print('')\n",
    "            \n",
    "\n",
    "\n",
    "out = widgets.interactive_output(f, {'w': w})\n",
    "display(out)"
   ]
  },
  {
   "cell_type": "markdown",
   "metadata": {},
   "source": [
    "#### 1.4 Technology/commodity look-up tool <a class=\"anchor\" id=\"lookup\"></a>\n",
    "Use the tool below to retrieve the description for any technology or commodity within the database. Type the commodity or technology name in the box below to view the description. Note that names are case sensitive."
   ]
  },
  {
   "cell_type": "code",
   "execution_count": 4,
   "metadata": {
    "hide_input": true,
    "init_cell": true,
    "jupyter": {
     "source_hidden": true
    }
   },
   "outputs": [
    {
     "data": {
      "application/vnd.jupyter.widget-view+json": {
       "model_id": "bb2067d0241844d283c527fd161c2fea",
       "version_major": 2,
       "version_minor": 0
      },
      "text/plain": [
       "Text(value='RSH')"
      ]
     },
     "metadata": {},
     "output_type": "display_data"
    },
    {
     "data": {
      "application/vnd.jupyter.widget-view+json": {
       "model_id": "31f37d0b3f44453e8e4986390196fb28",
       "version_major": 2,
       "version_minor": 0
      },
      "text/plain": [
       "Output()"
      ]
     },
     "metadata": {},
     "output_type": "display_data"
    }
   ],
   "source": [
    "w = widgets.Text(value='RSH')\n",
    "display(w)\n",
    "def f(w):\n",
    "    df = pd.read_sql(\"SELECT * FROM commodities WHERE comm_name='\" + w + \"'\", con)\n",
    "    if len(df)==0:\n",
    "        df = pd.read_sql(\"SELECT * FROM technologies WHERE tech='\" + w + \"'\", con)\n",
    "\n",
    "    if len(df)>0:\n",
    "        try:\n",
    "            display(Markdown((df['comm_desc'].values[0].replace('#', '').strip())))\n",
    "        except:\n",
    "            display(Markdown(df['tech_desc'].values[0].replace('#', '').strip()))\n",
    "    else:\n",
    "        print('')\n",
    "\n",
    "\n",
    "out = widgets.interactive_output(f, {'w': w})\n",
    "display(out)\n"
   ]
  },
  {
   "cell_type": "markdown",
   "metadata": {},
   "source": [
    "#### 1.5 Demand Technology Specification <a class=\"anchor\" id=\"demand_technology\"></a>\n",
    "\n",
    "The specification of demand technologies within the residential and commercial sectors is based on the US EPA MARKAL database [(Lenox, et al., 2013)](https://cfpub.epa.gov/si/si_public_record_report.cfm?Lab=NRMRL&dirEntryId=278925). Techno-economic parameters for an individual technology are assumed to be the same for all regions. These technologies only have investment costs associated with them (no O\\&M). Currently, existing capacity has been divided equally among the nine regions, however, this will be revisited in the near-term, using the state-level representation in the MARKAL database, to aggregate to the OEO regions.\n",
    "\n",
    "Input values drawn directly from the database can be viewed below. Regarding discount rates, all existing capacity is given a technology-specific discount rate of 30%. Without this specification, Temoa's least cost optimization results in the early replacement of virtually all existing demand technologies with new capacity at higher efficiency. Thus this 30% rate is used to ensure that existing capacity is utilized for the remainder of its lifetime under base case assumptions.\n"
   ]
  },
  {
   "cell_type": "markdown",
   "metadata": {},
   "source": [
    "##### 1.5.1 Investment costs <a class=\"anchor\" id=\"costinvest\"></a>"
   ]
  },
  {
   "cell_type": "code",
   "execution_count": 5,
   "metadata": {
    "hide_input": true,
    "init_cell": true,
    "jupyter": {
     "source_hidden": true
    }
   },
   "outputs": [
    {
     "data": {
      "application/vnd.jupyter.widget-view+json": {
       "model_id": "9690dfcdb1c0425db520faa141a9ed5a",
       "version_major": 2,
       "version_minor": 0
      },
      "text/plain": [
       "VBox(children=(HBox(children=(Select(description='tech', options=('All', 'new EXTHPS lighting', 'new electric …"
      ]
     },
     "metadata": {},
     "output_type": "display_data"
    }
   ],
   "source": [
    "def show_cost_invest(con):\n",
    "    \n",
    "    df_tech_desc = pd.read_sql(\"SELECT tech, tech_desc FROM technologies\", con)\n",
    "\n",
    "    df = pd.read_sql(\n",
    "        \"SELECT regions, tech,vintage, cost_invest, cost_invest_units FROM CostInvest WHERE tech IN (SELECT tech FROM technologies WHERE sector=='residential' OR sector='commercial' ) ORDER BY tech, vintage\",\n",
    "        con)\n",
    "\n",
    "    display_types = ['table', 'figure']\n",
    "    \n",
    "    df['agg_tech'] = df['tech'].map(lambda x: df_tech_desc.loc[df_tech_desc.tech==x,'tech_desc'].values[0].replace('#','').strip())\n",
    "    techs = []\n",
    "    for unique_tech in df.agg_tech.unique():\n",
    "        try:\n",
    "            int(unique_tech.split('_')[-1])\n",
    "            techs.append('_'.join(unique_tech.split('_')[0:-1]))\n",
    "        except:\n",
    "            techs.append(unique_tech)\n",
    "    techs = ['All'] + list(set(techs))\n",
    "    regions = df.regions.unique()\n",
    "\n",
    "\n",
    "    def filter_tech(tech='', region='', o_format=''):\n",
    "        if tech == 'All':\n",
    "            df_sel = df[(df.regions == region)]\n",
    "        else:\n",
    "            df_sel = df[(df.agg_tech.str.contains(tech)) & (df.regions == region)]\n",
    "        if o_format == 'table':\n",
    "            df_sel = df_sel.pivot_table(\n",
    "                index=['regions', 'tech', 'agg_tech', 'cost_invest_units'],\n",
    "                columns='vintage',\n",
    "                values='cost_invest').reset_index().set_index('regions')\n",
    "            df_sel.rename(columns={'cost_invest_units': 'units', 'agg_tech':'description'}, inplace=True)\n",
    "            df_sel['units'] = df_sel['units'].str.replace('#','').str.replace('M$','$M').str.strip()\n",
    "            if len(df_sel['units'].unique())==1:\n",
    "                df_sel['units'] = df_sel['units'].unique()[0].replace('M$','$M')\n",
    "            display(\n",
    "                HTML(\n",
    "                    tabulate.tabulate(df_sel,\n",
    "                                      ['region'] + list(df_sel.columns.values),\n",
    "                                      floatfmt=\".0f\",\n",
    "                                      tablefmt='html')))\n",
    "        elif (o_format == 'figure') & (tech!='All') :\n",
    "            fig, ax = plt.subplots(figsize=(10, 6))\n",
    "            for ind_tech in df_sel.tech.unique():\n",
    "                plt.plot(df_sel[df_sel.tech == ind_tech].vintage,\n",
    "                         df_sel[df_sel.tech == ind_tech].cost_invest,\n",
    "                         label=ind_tech)\n",
    "            plt.legend()\n",
    "            plt.ylabel('Investment costs (' + df_sel['cost_invest_units'].unique()[0].replace('#','').strip().replace('M$','$M') + ')')\n",
    "            #plt.ylim([0, df.cost_invest.max() * 1.1])\n",
    "            plt.xlabel('Vintage')\n",
    "\n",
    "\n",
    "    w1 = widgets.Select(options=techs)\n",
    "    w2 = widgets.Select(options=regions)\n",
    "    w3 = widgets.Select(options=display_types)\n",
    "    w = widgets.interactive(filter_tech, tech=w1, region=w2, o_format=w3)\n",
    "\n",
    "    controls_rows(w)\n",
    "    \n",
    "show_cost_invest(con)"
   ]
  },
  {
   "cell_type": "markdown",
   "metadata": {},
   "source": [
    "##### 1.5.2 Efficiency <a class=\"anchor\" id=\"efficiency\"></a>"
   ]
  },
  {
   "cell_type": "code",
   "execution_count": 6,
   "metadata": {
    "hide_input": true,
    "init_cell": true,
    "jupyter": {
     "source_hidden": true
    }
   },
   "outputs": [
    {
     "data": {
      "application/vnd.jupyter.widget-view+json": {
       "model_id": "7f67bc33aadc46498d35aba15bfccd64",
       "version_major": 2,
       "version_minor": 0
      },
      "text/plain": [
       "VBox(children=(HBox(children=(Select(description='tech', options=('All', 'blending tech to blend NGA, ELC for …"
      ]
     },
     "metadata": {},
     "output_type": "display_data"
    }
   ],
   "source": [
    "def show_efficiency(con):\n",
    "    df_tech_desc = pd.read_sql(\"SELECT tech, tech_desc FROM technologies\", con)\n",
    "    df = pd.read_sql(\"SELECT regions, tech, vintage, efficiency FROM Efficiency WHERE tech IN (SELECT tech FROM technologies WHERE sector=='residential' OR sector='commercial')\", con)\n",
    "    df.loc[:,'agg_tech'] = df.loc[:,'tech'] #[map_plants[y] for x in df.tech for y in map_plants.keys() if y.lower() in x.lower()] #map agg technologies\n",
    "    df_sum = df#df.drop(\"vintage\", axis=1).groupby(by = ['regions','agg_tech']).sum().reset_index()\n",
    "    df_sum['agg_tech'] = df_sum['agg_tech'].map(lambda x: df_tech_desc.loc[df_tech_desc.tech==x,'tech_desc'].values[0].replace('#','').strip())\n",
    "    techs = ['All'] + list(df_sum.agg_tech.unique())\n",
    "    regions = df_sum.regions.unique()\n",
    "    def filter_tech(tech ='', region = ''):\n",
    "        if tech=='All':\n",
    "            df_sel = df_sum[(df_sum.regions==region)]\n",
    "        else:\n",
    "            df_sel = df_sum[(df_sum.agg_tech==tech) & (df_sum.regions==region)]\n",
    "            df_sel.efficiency = 100*df_sel.efficiency\n",
    "        df_sel = df_sel[['regions','tech','agg_tech','vintage','efficiency']]\n",
    "        display(HTML(tabulate.tabulate(df_sel.set_index('regions'), [\"regions\", \"technology\", \"description\",\"vintage\",'efficiency (%)' ], floatfmt=\".1f\", tablefmt='html')))\n",
    "\n",
    "    w1 = widgets.Select(options=techs)\n",
    "    w2 = widgets.Select(options=regions)\n",
    "    w = widgets.interactive(filter_tech, tech=w1, region=w2)\n",
    "\n",
    "    controls_rows(w)\n",
    "    \n",
    "show_efficiency(con)"
   ]
  },
  {
   "cell_type": "markdown",
   "metadata": {},
   "source": [
    "##### 1.5.3 Existing Capacity <a class=\"anchor\" id=\"exist_cap\"></a>"
   ]
  },
  {
   "cell_type": "code",
   "execution_count": 7,
   "metadata": {
    "hide_input": true,
    "init_cell": true,
    "jupyter": {
     "source_hidden": true
    },
    "scrolled": true
   },
   "outputs": [
    {
     "data": {
      "application/vnd.jupyter.widget-view+json": {
       "model_id": "f8e7d19b2ec442de87d4f911db71bc4a",
       "version_major": 2,
       "version_minor": 0
      },
      "text/plain": [
       "VBox(children=(HBox(children=(Select(description='tech', options=('All', 'existing natural gas furnace for spa…"
      ]
     },
     "metadata": {},
     "output_type": "display_data"
    }
   ],
   "source": [
    "def show_exist_cap(con):\n",
    "    df_tech_desc = pd.read_sql(\"SELECT tech, tech_desc FROM technologies\", con)\n",
    "    df = pd.read_sql(\"SELECT regions, tech,vintage, exist_cap, exist_cap_units FROM ExistingCapacity WHERE tech IN (SELECT tech FROM technologies WHERE sector=='residential' OR sector='commercial')\", con)\n",
    "    df.loc[:,'agg_tech'] = df.loc[:,'tech'] #[map_plants[y] for x in df.tech for y in map_plants.keys() if y.lower() in x.lower()] #map agg technologies\n",
    "    df_sum = df.drop(\"vintage\", axis=1).groupby(by = ['regions','tech','agg_tech','exist_cap_units']).sum().reset_index()\n",
    "    df_sum.sort_values(by='exist_cap', ascending=False, inplace=True)\n",
    "    df_sum['agg_tech'] = df_sum['agg_tech'].map(lambda x: df_tech_desc.loc[df_tech_desc.tech==x,'tech_desc'].values[0].replace('#','').strip())\n",
    "    techs = ['All'] + list(df_sum.agg_tech.unique())\n",
    "    regions = df_sum.regions.unique()\n",
    "    def filter_tech(tech ='', region = ''):\n",
    "        if tech=='All':\n",
    "            df_sel = df_sum[(df_sum.regions==region)]\n",
    "        else:\n",
    "            df_sel = df_sum[(df_sum.agg_tech==tech) & (df_sum.regions==region)]\n",
    "        display(HTML(tabulate.tabulate(df_sel.set_index('regions'), [\"regions\", \"technology\", \"description\", \"units\",\"capacity\" ], floatfmt=\".1f\", tablefmt='html')))\n",
    "    w1 = widgets.Select(options=techs)\n",
    "    w2 = widgets.Select(options=regions)\n",
    "    w = widgets.interactive(filter_tech, tech=w1, region=w2)\n",
    "\n",
    "    controls_rows(w)\n",
    "    \n",
    "show_exist_cap(con)\n"
   ]
  },
  {
   "cell_type": "markdown",
   "metadata": {
    "jupyter": {
     "source_hidden": false
    }
   },
   "source": [
    "##### 1.5.4 Discount Rate <a class=\"anchor\" id=\"disc_rates\"></a>"
   ]
  },
  {
   "cell_type": "code",
   "execution_count": 8,
   "metadata": {
    "hide_input": true,
    "init_cell": true,
    "jupyter": {
     "source_hidden": true
    },
    "scrolled": true
   },
   "outputs": [
    {
     "data": {
      "application/vnd.jupyter.widget-view+json": {
       "model_id": "0e34005a901146839db5fa3479b43689",
       "version_major": 2,
       "version_minor": 0
      },
      "text/plain": [
       "VBox(children=(HBox(children=(Select(description='tech', options=('All', 'new EXTHPS lighting', 'new electric …"
      ]
     },
     "metadata": {},
     "output_type": "display_data"
    }
   ],
   "source": [
    "def show_disc_rate(con):\n",
    "    df_tech_desc = pd.read_sql(\"SELECT tech, tech_desc FROM technologies\", con)\n",
    "    df = pd.read_sql(\"SELECT regions, tech, vintage, tech_rate FROM DiscountRate \\\n",
    "    WHERE tech in (SELECT tech FROM technologies WHERE sector='residential' OR sector='commercial')\", con)\n",
    "    df['agg_tech'] = df['tech'].map(lambda x: df_tech_desc.loc[df_tech_desc.tech==x,'tech_desc'].values[0].replace('#','').strip())\n",
    "    techs = []\n",
    "    for unique_tech in df.agg_tech.unique():\n",
    "        techs.append(unique_tech)\n",
    "    techs = ['All'] + list(set(techs))\n",
    "    regions = df.regions.unique()\n",
    "    def filter_tech(tech='', region =''):\n",
    "        if tech=='All':\n",
    "            df_sel = df[(df.regions==region)]\n",
    "        else:\n",
    "            df_sel = df[(df.agg_tech==tech) & (df.regions==region)]\n",
    "        df_sel = df_sel.pivot_table(index=['regions','tech', 'agg_tech'], columns='vintage', values='tech_rate').reset_index()\n",
    "        df_sel.rename(columns={'agg_tech':'description'},inplace=True)\n",
    "        header = list(df_sel.columns.values)\n",
    "        display(HTML(tabulate.tabulate(df_sel.set_index('regions'), header, floatfmt=\".3f\", tablefmt='html')))\n",
    "    w1 = widgets.Select(options=techs)\n",
    "    w2 = widgets.Select(options=regions)\n",
    "    w = widgets.interactive(filter_tech, tech=w1, region=w2)\n",
    "\n",
    "    controls_rows(w)\n",
    "    \n",
    "show_disc_rate(con)"
   ]
  }
 ],
 "metadata": {
  "celltoolbar": "Initialization Cell",
  "kernelspec": {
   "display_name": "Python 3",
   "language": "python",
   "name": "python3"
  },
  "language_info": {
   "codemirror_mode": {
    "name": "ipython",
    "version": 3
   },
   "file_extension": ".py",
   "mimetype": "text/x-python",
   "name": "python",
   "nbconvert_exporter": "python",
   "pygments_lexer": "ipython3",
   "version": "3.7.3"
  }
 },
 "nbformat": 4,
 "nbformat_minor": 4
}
