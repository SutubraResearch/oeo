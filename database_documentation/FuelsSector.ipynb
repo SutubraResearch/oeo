{
 "cells": [
  {
   "cell_type": "code",
   "execution_count": 1,
   "metadata": {
    "hide_input": true,
    "init_cell": true,
    "jupyter": {
     "source_hidden": true
    }
   },
   "outputs": [],
   "source": [
    "import pandas as pd\n",
    "import numpy as np\n",
    "import os\n",
    "import sqlite3\n",
    "import shutil\n",
    "import datetime\n",
    "import matplotlib.pyplot as plt\n",
    "from matplotlib.ticker import MaxNLocator\n",
    "import matplotlib.ticker as tick\n",
    "from IPython.display import HTML, display, Markdown\n",
    "import tabulate\n",
    "import ipywidgets as widgets\n",
    "from ipywidgets import HBox, VBox, Layout\n",
    "import graphviz\n",
    "from GraphVizUtil import *\n",
    "from GraphVizFormats import *\n",
    "import warnings\n",
    "warnings.filterwarnings('ignore')\n",
    "import seaborn as sb\n",
    "sb.set(style='darkgrid', font_scale=1.2)\n",
    "\n",
    "def filter_descriptions(tech_comm_desc):\n",
    "    try:\n",
    "        tech_comm_desc = tech_comm_desc.values[0][0].replace('#', '').replace('\"','').replace(\"\\n\",'').strip()\n",
    "    except:\n",
    "        tech_comm_desc = 'No description provided'\n",
    "    return tech_comm_desc\n",
    "\n",
    "def create_args_flowd(df_graph):\n",
    "    nodes, tech, ltech, to_tech, from_tech = set(), set(), set(), set(), set()\n",
    "    for ind,row in df_graph.iterrows():\n",
    "        #descriptions:\n",
    "        input_comm_des = filter_descriptions(pd.read_sql(\"SELECT comm_desc FROM commodities WHERE comm_name='\" + row['input_comm'] + \"'\", con))\n",
    "        output_comm_des = filter_descriptions(pd.read_sql(\"SELECT comm_desc FROM commodities WHERE comm_name='\" + row['output_comm'] + \"'\", con))\n",
    "        tech_des = filter_descriptions(pd.read_sql(\"SELECT tech_desc FROM technologies WHERE tech='\" + row['tech'] + \"'\", con))\n",
    "\n",
    "        if 'ethos' in row['input_comm']:\n",
    "            ltech.add('\"' + row['tech'] + '\"' +  ' [tooltip = \"' + tech_des + '\"]')\n",
    "        else :\n",
    "            nodes.add('\"' + row['input_comm'] + '\"' +  ' [tooltip = \"' + input_comm_des + '\"]')\n",
    "        nodes.add('\"' + row['output_comm'] + '\"' +  ' [tooltip = \"' + output_comm_des + '\"]')\n",
    "        tech.add('\"' + row['tech'] + '\"' +  ' [tooltip = \"' + tech_des + '\"]')\n",
    "\n",
    "        if row['input_comm'] != 'ethos':\n",
    "            to_tech.add('\"%s\"' % row['input_comm'] + '\\t->\\t\"%s\"' % row['tech']) \n",
    "        from_tech.add('\"%s\"' % row['tech'] + '\\t->\\t\"%s\"' % row['output_comm'])\n",
    "    args = dict(\n",
    "    enodes = \"\".join('%s;\\n\\t\\t' % x for x in nodes),\n",
    "    tnodes = \"\".join('%s;\\n\\t\\t' % x for x in tech),\n",
    "    iedges = \"\".join('%s;\\n\\t\\t' % x for x in to_tech),\n",
    "    oedges = \"\".join('%s;\\n\\t\\t' % x for x in from_tech),\n",
    "    snodes = \";\".join('%s' %x for x in ltech),\n",
    "    )\n",
    "    return args\n",
    "\n",
    "def return_format_colors():\n",
    "    colors = {}\n",
    "    colors.update(getColorConfig(False))\n",
    "    return colors, quick_run_dot_fmt\n",
    "\n",
    "def return_flowd_table(final_dem, level=1):\n",
    "    df = pd.read_sql(\"SELECT * FROM Efficiency\", con)\n",
    "    df_sel = df[df['output_comm']==final_dem]\n",
    "    if len(df_sel)==0:\n",
    "        df_sel = df[df['tech']==final_dem]\n",
    "    inputs = df_sel['input_comm'].unique()\n",
    "    iterval=0\n",
    "    if level!=0:\n",
    "        while len(inputs)>0:\n",
    "            df_append = df[df['output_comm'].isin(inputs)]\n",
    "            df_sel = pd.concat([df_sel, df_append])\n",
    "            inputs = df_append['input_comm'].unique()\n",
    "            iterval+=1\n",
    "            if iterval>level-1:\n",
    "                break\n",
    "    df_graph = df_sel[['input_comm', 'tech', 'output_comm']].drop_duplicates()\n",
    "    return df_graph\n",
    "\n",
    "def return_flowd_table_fwds(final_dem):\n",
    "    df = pd.read_sql(\"SELECT * FROM Efficiency\", con)\n",
    "    df_sel = df[df['output_comm']==final_dem]\n",
    "    if len(df_sel)==0:\n",
    "        df_sel = df[df['tech']==final_dem]\n",
    "    inputs = df_sel['input_comm'].unique()\n",
    "    outputs = df_sel['output_comm'].unique()\n",
    "\n",
    "    iterval=0\n",
    "    while len(inputs)>0:\n",
    "        df_append = df[df['output_comm'].isin(inputs)]\n",
    "        df_sel = pd.concat([df_sel, df_append])\n",
    "        inputs = df_append['input_comm'].unique()\n",
    "        iterval+=1\n",
    "        if iterval>2:\n",
    "            break\n",
    "    iterval=0\n",
    "    while len(outputs)>0:\n",
    "        df_append = df[df['input_comm'].isin(outputs)]\n",
    "        df_sel = pd.concat([df_sel, df_append])\n",
    "        outputs = df_append['output_comm'].unique()\n",
    "        iterval+=1\n",
    "        if iterval>=0:\n",
    "            break\n",
    "\n",
    "    df_graph = df_sel[['input_comm', 'tech', 'output_comm']].drop_duplicates()\n",
    "    return df_graph\n",
    "\n",
    "con = sqlite3.connect(r'../US_9R_8D.sqlite') #change path to database\n",
    "cur = con.cursor()   \n",
    "con.text_factory = str \n",
    "\n",
    "def controls_rows(w):\n",
    "    controls = HBox(w.children[:-1], layout = Layout(flex_flow='row wrap', width='max-content'))\n",
    "    output = w.children[-1]\n",
    "    display(VBox([controls, output],  layout = Layout(flex_flow='columns wrap', width='max-content', size=10)))\n",
    "    \n",
    "#https://www.eia.gov/energyexplained/units-and-calculators/\n",
    "btu_per_oil_bbl = 5698000\n",
    "PJ_per_oil_bbl = btu_per_oil_bbl*1.05506e-12"
   ]
  },
  {
   "cell_type": "markdown",
   "metadata": {
    "hide_input": true
   },
   "source": [
    "# Introduction\n",
    "The fuel supply sector consists of commodities and technologies that provide refined petroleum products, coal, natural gas and biomass resources to the energy modeling system. These resources are discussed separately in the sections that follow."
   ]
  },
  {
   "cell_type": "markdown",
   "metadata": {},
   "source": [
    "# Fossil fuels\n",
    "\n",
    "We use exogenous, regional petroleum, coal and natural gas fuel prices from the [US EIA Annual Energy Outlook 2022](https://www.eia.gov/outlooks/aeo/) as input to the OEO scenarios. For the No New Policy scenario, we use prices from the AEO's Reference case. For all other scenarios (States Action, COP26 and Net Zero) we use the AEO's Low Oil price case, consistent with expected price impacts due to reductions in petroleum demand. Fuel prices consistent with the different end-use sectors are used. For example, we use specific projections for gasoline supplied to the CA region in the transport sector. Since fuel supply is modeled as exogenous prices with no resource constraints, we do not consider the inter-regional transport of these fuels.\n",
    "\n",
    "We consider three types of coal (lignite, bituminous and sub-bituminous), although they currently have the same techno-economic and environmental parameters in the database. This is a relic from a previous version of the database and we plan to condense coal to a single commodity in future database iterations. \n",
    "\n",
    "In addition, we consider a range of petroleum fuels such as gasoline, diesel, resdidual and distillate fuel oil, jet fuel and marine gas oil\n",
    "\n",
    "<!-- Fuels to specific sectors are prefixed differently, as shown in the table below.\n",
    "\n",
    "| Sector | Prefix | \n",
    "| ---- | ------------- |\n",
    "| Electric | ELC | \n",
    "| Industrial | IND | \n",
    "| Transport | TRN | \n",
    "| Residential | RES | \n",
    "| Commercial | COM |  -->\n",
    "\n",
    "The widget below can be used to explore fossil fuel prices supplied across different regions and energy sectors within the OEO."
   ]
  },
  {
   "cell_type": "code",
   "execution_count": 2,
   "metadata": {
    "hide_input": true,
    "init_cell": true
   },
   "outputs": [
    {
     "data": {
      "application/vnd.jupyter.widget-view+json": {
       "model_id": "c9f565260c054d029e0bf00639080373",
       "version_major": 2,
       "version_minor": 0
      },
      "text/plain": [
       "VBox(children=(HBox(children=(Select(description='tech', options=('Commercial: Distillate oil', 'Commercial: N…"
      ]
     },
     "metadata": {},
     "output_type": "display_data"
    }
   ],
   "source": [
    "def show_cost_variable(con):\n",
    "    \n",
    "    sector_map = dict()\n",
    "    sector_map['IMPTRN'] = 'Transport: '\n",
    "    sector_map['IMPELC'] = 'Electric: '\n",
    "    sector_map['IMPIND'] = 'Industrial: '\n",
    "    sector_map['IMPCOM'] = 'Commercial: '\n",
    "    sector_map['IMPRES'] = 'Residential: '\n",
    "    \n",
    "    fuel_map = dict()\n",
    "    fuel_map['DISTOIL'] = 'Distillate oil'\n",
    "    fuel_map['DFO'] = 'Distillate oil'\n",
    "    fuel_map['JTF'] = 'Jet Fuel'\n",
    "    fuel_map['RFO'] = 'Residual fuel oil '\n",
    "    fuel_map['NGA'] = 'Natural gas'\n",
    "    fuel_map[': NG'] = ': Natural gas'\n",
    "    fuel_map['_S3'] = ''\n",
    "    fuel_map[': COAL'] = ': Coal'\n",
    "    fuel_map[': COAS'] = ': Coal'\n",
    "    fuel_map[': COAB'] = ': Coal'\n",
    "    fuel_map['URN'] = 'Nuclear'\n",
    "    fuel_map['GSL'] = 'Gasoline'\n",
    "    fuel_map['GAS'] = 'Gasoline'\n",
    "    fuel_map['MGO'] = 'Marine gas oil'\n",
    "    fuel_map['GAS'] = 'Gasoline'\n",
    "    fuel_map['OTH'] = 'Other'\n",
    "\n",
    "    query = \"SELECT regions, vintage, periods, tech, cost_variable FROM CostVariable WHERE tech LIKE 'IMP%'\\\n",
    "     AND tech NOT LIKE '%BIO%'\"\n",
    "    df_fuelcosts_nnp = pd.read_sql_query(query, con)\n",
    "    con_low = sqlite3.connect(r'../US_9R_8D_NZ.sqlite') #change path to database\n",
    "    df_fuelcosts_nz = pd.read_sql_query(query, con_low)\n",
    "    \n",
    "    for keyv in sector_map.keys():\n",
    "        df_fuelcosts_nnp['tech'] = df_fuelcosts_nnp['tech'].str.replace(keyv, sector_map[keyv])\n",
    "        df_fuelcosts_nz['tech'] = df_fuelcosts_nz['tech'].str.replace(keyv, sector_map[keyv])\n",
    "    for keyv in fuel_map.keys():\n",
    "        df_fuelcosts_nnp['tech'] = df_fuelcosts_nnp['tech'].str.replace(keyv, fuel_map[keyv])\n",
    "        df_fuelcosts_nz['tech'] = df_fuelcosts_nz['tech'].str.replace(keyv, fuel_map[keyv])\n",
    "\n",
    "    techs = df_fuelcosts_nnp['tech'].unique()\n",
    "    regions = df_fuelcosts_nnp['regions'].unique()\n",
    "    \n",
    "    def filter_tech(tech ='', region=''):\n",
    "        df_fuelcosts_nnp_sel = df_fuelcosts_nnp[(df_fuelcosts_nnp['tech'].str.contains(tech)) &\\\n",
    "                                               (df_fuelcosts_nnp['regions']==region)]\n",
    "        df_fuelcosts_nz_sel = df_fuelcosts_nz[(df_fuelcosts_nz['tech'].str.contains(tech)) &\\\n",
    "                                             (df_fuelcosts_nz['regions']==region)]\n",
    "        \n",
    "        df_fuelcosts_nz_sel = df_fuelcosts_nz_sel.drop_duplicates()\n",
    "        df_fuelcosts_nnp_sel = df_fuelcosts_nnp_sel.drop_duplicates()\n",
    "\n",
    "        fig, ax = plt.subplots(figsize=(10,6))\n",
    "        plt.plot(df_fuelcosts_nnp_sel['periods'], df_fuelcosts_nnp_sel['cost_variable'], \\\n",
    "                    label='No New Policy')\n",
    "        plt.plot(df_fuelcosts_nz_sel['periods'], df_fuelcosts_nz_sel['cost_variable'], \\\n",
    "                    label='Net Zero')\n",
    "        plt.legend()\n",
    "        plt.ylabel('Variable costs ($M/PJ)')\n",
    "\n",
    "    w1 = widgets.Select(options=techs)\n",
    "    w3 = widgets.Select(options=regions)\n",
    "    w = widgets.interactive(filter_tech, tech=w1, region=w3)\n",
    "\n",
    "\n",
    "    controls_rows(w)\n",
    "\n",
    "show_cost_variable(con)\n",
    "\n"
   ]
  },
  {
   "cell_type": "markdown",
   "metadata": {},
   "source": [
    "# Biomass\n",
    "\n",
    "Unlike coal, oil, and natural gas, where we assume exogenous prices that varies with time period, we construct supply curves of domestic biomass resources given their limited supply. We use the [Billion Ton Report](https://www.energy.gov/eere/bioenergy/2016-billion-ton-report) produced by Oak Ridge National Laboratory and process the publicly available raw data into a set of supply curves.\n",
    "\n",
    "As described below, these biomass resources can be used in electric generation, the production of biofuels, including ethanol, jet fuel, biodiesel and the production of hydrogen. These conversion pathways may include carbon capture and storage (BECCS) as well. Biofuel conversion processes represented in the database include ethanol production via corn and corn stover, transesterification to produce biodiesel, HEFA to produce jet fuel, and Fischer-Tropsch to produce biodiesel and jet fuel. "
   ]
  },
  {
   "cell_type": "markdown",
   "metadata": {},
   "source": [
    "## Biomass Resources\n",
    "\n",
    "Biomass supply curves are derived by largely following the approach in [Net Zero America (NZA)](https://netzeroamerica.princeton.edu/img/NZA%20Annex%20H%20-%20Bioenergy%20transition.pdf). Data from three sources are taken to construct the supply curves used in NZA and consequently the Open Energy Outlook (OEO): \n",
    "* [Billion Ton Study (BTS16)](https://bioenergykdf.net/2016-billion-ton-report) from Oak Ridge National Laboratory\n",
    "* [Conservation Reserve Program Land data](https://www.fsa.usda.gov/programs-and-services/conservation-programs/reports-and-statistics/conservation-reserve-program-statistics/index) from USDA\n",
    "* [Corn Ethanol Land data](https://quickstats.nass.usda.gov/#B9AA9E09-0486-3B84-8A9A-0C28BB4242D3) from USDA\n",
    "\n",
    "BTS16 data includes production in dry tons and biomass prices in $2016/dry tons for energy crops like corn and soy, agricultural residues, woody biomass and wastes (raw data available [here](https://bioenergykdf.net/sites/default/files/BillionTonDownloads/billionton_county_all.zip)). Perennial grasses were modeled using acreage by U.S. State estimates from the conservation reserve program and corn ethanol land data. The acreage data from these two resources are subsequently represented on a dry ton basis using the yield data provided in NZA (Annex H Section 2.3 and Table 3). An energy density of 19.8 GJ/dry metric ton of biomass was assumed for representation on an energy basis (NZA Annex H). \n",
    "\n",
    "From BTS16, estimates from 2040 are used to build future projections of biomass potential while 2020 data is used to describe currently utilized resources. BTS16 projections end in 2040 and like in NZA we assume that the 2040 levels are the maximum available in 2040 and beyond. Table 1 in [NZA's Annex H](https://netzeroamerica.princeton.edu/img/NZA%20Annex%20H%20-%20Bioenergy%20transition.pdf) lists the subset of resources that are considered in their biomass representation from BTS16. Supply curves for OEO are constructed using the 'delimited' scenario by selecting only the respective feedstocks listed in this table. This scenario reflects the biomass potential projected from agriculture residues, woody residues, wastes and energy grasses grown on lands from conservation research program lands and from growing corn for ethanol. \n",
    "\n",
    "The steps taken from raw production/price data to final OEO supply curve representations are detailed in the *BiomassSupplyCurves* Jupyter notebook. Briefly, state level production data was aggregated by binning the biomass feedstocks listed in Table 1 into the following broad categories: 1) waste 2) herbaceous and 3) woody biomass resources along with specific representations for corn, corn stover and soybeans. Production data was aggregated by the OEO regions. Finally, supply curves were constructed as the price versus quantity relationship for each of the aggregated resource categories (as well as corn, corn stover and soybeans).\n",
    "\n",
    "Regional biomass supply curves can be viewed using the tool below. "
   ]
  },
  {
   "cell_type": "code",
   "execution_count": 3,
   "metadata": {
    "hide_input": true,
    "init_cell": true
   },
   "outputs": [
    {
     "data": {
      "application/vnd.jupyter.widget-view+json": {
       "model_id": "516a043ea90c47df915c6144d878400a",
       "version_major": 2,
       "version_minor": 0
      },
      "text/plain": [
       "VBox(children=(HBox(children=(Select(description='region', options=('All', 'CA', 'NE', 'SE', 'TX', 'NW', 'N_CE…"
      ]
     },
     "metadata": {},
     "output_type": "display_data"
    }
   ],
   "source": [
    "def bio_supply_curve(con):\n",
    "    query = \"SELECT * FROM MaxActivity WHERE tech LIKE '%_STEP%' AND periods = 2050\"\n",
    "    df_maxact = pd.read_sql_query(query, con)\n",
    "\n",
    "    query = \"SELECT * FROM CostVariable WHERE tech LIKE '%_STEP%' AND periods = 2050\"\n",
    "    df_stepcost = pd.read_sql_query(query, con)\n",
    "\n",
    "    df_supply_curve_bio = pd.merge(df_maxact, df_stepcost, on =['regions','tech', 'periods'])\n",
    "\n",
    "    regions = ['All'] + list(set(df_supply_curve_bio['regions']))    \n",
    "\n",
    "    cb = dict()\n",
    "    cb['Woody'] = 'indianred'\n",
    "    cb['Herbaceous'] = 'orange'\n",
    "    cb['Waste'] = 'g'\n",
    "    cb['Corn'] = 'grey'\n",
    "    cb['Soybeans'] = 'b'\n",
    "    cb['Corn stover'] = 'red'\n",
    "\n",
    "    def select_region(region):\n",
    "        if region !='All':\n",
    "            df_supply_curve_bio_plot = df_supply_curve_bio[df_supply_curve_bio['regions']==region]\n",
    "        else:\n",
    "            df_supply_curve_bio_plot = df_supply_curve_bio\n",
    "\n",
    "        df_supply_curve_bio_plot = df_supply_curve_bio_plot.sort_values(by='cost_variable')\n",
    "        df_supply_curve_bio_plot['Crop Form'] = [x[0] for x in df_supply_curve_bio_plot['tech'].str.split('_')]\n",
    "        df_supply_curve_bio_plot['Cumulative_Production'] = df_supply_curve_bio_plot['maxact'].cumsum()\n",
    "\n",
    "        fig, ax = plt.subplots(figsize=(10,6))\n",
    "        start = 0\n",
    "        for ind, row in df_supply_curve_bio_plot.iterrows():\n",
    "            x = start + (row['Cumulative_Production']-start)/2\n",
    "            plt.bar(x, row['cost_variable'] , width=row['Cumulative_Production']-start, color=cb[row['Crop Form']], \\\n",
    "                    label=row['Crop Form'], linewidth = 1, edgecolor= cb[row['Crop Form']])\n",
    "            start = row['Cumulative_Production']\n",
    "\n",
    "        plt.xlabel('Biomass resource (PJ)')\n",
    "        plt.ylabel('Biomass price ($M/PJ)')\n",
    "        plt.legend()\n",
    "        handles, labels = ax.get_legend_handles_labels()\n",
    "        unique = [(h, l) for i, (h, l) in enumerate(zip(handles, labels))\n",
    "                  if l not in labels[:i]]\n",
    "        plt.legend(*zip(*unique))\n",
    "        ax.get_xaxis().set_major_formatter(\n",
    "        tick.FuncFormatter(lambda x, p: format(int(x), ',')))\n",
    "\n",
    "    w3 = widgets.Select(options=regions)\n",
    "    w = widgets.interactive(select_region, region=w3)\n",
    "\n",
    "\n",
    "    controls_rows(w)\n",
    "bio_supply_curve(con)\n"
   ]
  },
  {
   "cell_type": "markdown",
   "metadata": {},
   "source": [
    "## Biomass emissions factors\n",
    "All biomass (except corn) is assumed to have an upstream emissions factor that characterizes life cycle steps such as feedstock production, transport and land-use change - these include corn stover, herbaceous, soybeans, woody and waste biomass. An emissions factor based on the recent [IPCC Working Group III, 6th Assessment Report](https://www.ipcc.ch/working-group/wg3/) (Box 7.7, Fig 1, IAM median value at 200 EJ of biomass utilization globally) of 20 kt CO<sub>2</sub>/PJ is applied to these biomass feedstocks. Combustion emissions for woody, herbaceous and waste feedstocks are assumed to be 93.8 kg CO<sub>2</sub>/MMBtu, based on EPA data. For biofuels produced from corn, life cycle emissions factors are applied to the ethanol production pathway. "
   ]
  },
  {
   "cell_type": "markdown",
   "metadata": {},
   "source": [
    "## Biomass in electric sector\n",
    "\n",
    "The biomass feedstocks described above contribute to three different electric generation technologies, as described below."
   ]
  },
  {
   "cell_type": "markdown",
   "metadata": {},
   "source": [
    "### Existing biopower capacity\n",
    "\n",
    "The technology (\"E_BIO_R\") represents existing bio-power in the electric sector; approximately 4 GW of capacity exist. *E_BIO_R* can accept herbaceous feedstocks from the supply curves referenced above. Data to characterize the process is drawn from the NREL Annual Technology Baseline (ATB) via PowerGenome."
   ]
  },
  {
   "cell_type": "markdown",
   "metadata": {},
   "source": [
    "### New biopower capacity\n",
    "\n",
    "The technology (\"E_BIO_N\") represents new bio-power in the electric sector. The underlying technology is assumed to be a fluidized bed reactor, which can accept a wide variety of biomass feedstocks. In the OEO, we assume that *E_BIO_N* can accept herbaceous feedstocks. Data to chacterize the process is drawn from the NREL Annual Technology Baseline via PowerGenome. NREL, in turn, drawns on the EIA's [Assumptions to the Annual Energy Outlook](https://www.eia.gov/outlooks/aeo/assumptions/pdf/electricity.pdf) to chacterize the technical and economic performance of the fluidized bed reactor."
   ]
  },
  {
   "cell_type": "markdown",
   "metadata": {},
   "source": [
    "### Biomass energy with carbon capture and storage (BECCS)\n",
    "\n",
    "Biomass energy with carbon capture and storage (BECCS) is a negative emissions technology, as it captures carbon neutral biomass and geologically sequesters the emissions after combustion. \n",
    "\n",
    "We assume that BECCS can make use of woody biomass, agricultural residues, and waste feedstocks. [Emenike et al. (2020)](https://www.sciencedirect.com/science/article/abs/pii/S2213138820300916) indicate that the performance differences between three different feedstock types (white wood, miscanthus, straw) are relatively minor. In addition, costs appear to be driven by differences in feedstock prices and capital costs. While differences in material handling and processing differ by feedstock type, we make the simplifying assumption that those cost differences are within the current range of cost uncertainty. \n",
    "\n",
    "The cited range of capital costs for BECCS is quite large. [Krey et al. (2019)](https://www.sciencedirect.com/science/article/pii/S0360544218325039) compare techno-economic assumptions across different integrated assessment models. Appendix C of the paper includes BECCS assumptions for capital cost, fixed operations and maintenance costs, and efficiency, which are drawn from the GCAM, IMAGE, MESSAGEix-GLOBIOM_1.0, POLES MILES, REMIND 1.6 models. We take the average across the models by 5-year time period from 2020-2050."
   ]
  },
  {
   "cell_type": "markdown",
   "metadata": {},
   "source": [
    "## Biofuel production\n",
    "\n",
    "The OEO database represents several pathways to convert biomass feedstocks into transportation fuels. Those pathways are outlined below."
   ]
  },
  {
   "cell_type": "markdown",
   "metadata": {},
   "source": [
    "### Ethanol production\n",
    "\n",
    "As described above, the supply of corn and corn stover is drawn from the Oak Ridge Billion Ton Study. For the corn-to-ethanol conversion process, the technology used is dry milling (\"DRY_MILL\"), which involves grinding the corn into a fine granular powder, which is then treated with enzymes, and the resulting fermentation produces ethanol. Estimates of efficiency and emissions factors (including life cycle CO<sub>2</sub> emissions) are drawn from the Greenhouse gases, Regulated Emissions, and Energy use in Technologies ([GREET](https://greet.es.anl.gov/)) model developed at Argonne National Laboratory. Capital costs as well as fixed and variable operations and maintenance costs are drawn from [Tao et al. (2014)](https://onlinelibrary.wiley.com/doi/full/10.1002/bbb.1431).\n",
    "\n",
    "\n",
    "For cellulosic ethanol, capital costs as well as fixed and variable operations and maintenance costs are drawn from [Zhao et al. (2015)](https://www.mdpi.com/1996-1073/8/5/4096). \n",
    "Conversion efficiency is obtained from [Luo et al. (2009)](https://www.sciencedirect.com/science/article/abs/pii/S136403210900029X). As with conventional corn ethanol, emissions estimates for cellulosic ethanol are drawn from GREET.\n",
    "\n",
    "Maximum ethanol consumption levels are based on the land requirements for current ethanol production, plus the addition of minimum estimated residual lands on which biofuel feedstocks could be grown at a minimum yield value ([Cai et al., 2010](https://pubs.acs.org/doi/10.1021/es103338e); [Hay, 2015](https://farm-energy.extension.org/corn-for-biofuel-production/); [National Agricultural Statistics Service, 2016](https://downloads.usda.library.cornell.edu/usda-esmis/files/k3569432s/kh04dr985/cc08hh91c/CropProdSu-01-12-2016.pdf))\n",
    "\n",
    "Minimum consumption levels are based on the 2007 Renewable Fuel Standard (RFS). The RFS has been updated several times since its initial implementation in 2007. Most recently (December 7th, 2021), EPA proposed total volume requirements for years 2020, 2021, and 2022 of 17.13, 18.52, and 20.77 billion gallons, respectively. These proposed standards have not been implemented, though, so we use the [most recent finalized fuel standards](https://www.epa.gov/renewable-fuel-standard-program/renewable-fuel-annual-standards). Historical ethanol growth projections in the RFS were based partially on the expectation of a growing cellulosic ethanol industry, which has not come to fruition. Due to this and other factors, RFS targets have not been met in recent years, as reported by the Congressional Research Service [(CRS)](https://sgp.fas.org/crs/misc/R43325.pdf). As a result of this noncompliance and the OEO's goals of modeling deep decarbonization, our modeled minimum ethanol use constraint stops in 2030.\n",
    "\n",
    "\n",
    "The table below represents the minimum total ethanol use and reflect the latest standards.\n",
    "\n",
    "\n",
    "| Year | Minimum total ethanol use | Maximum total ethanol use (land constraint) |\n",
    "| ---- | ------------------------- | ------------------------------------------- |\n",
    "| 2020 | 1598 | 3689 |\n",
    "| 2025 | 1611 | 3689 |\n",
    "| 2030 | 1611 | 3689 |\n",
    "| 2035 |  | 3689 |\n",
    "| 2040 |  | 3689 |\n",
    "| 2045 |  | 3689 |\n",
    "| 2050 | | 3689 |\n",
    "\n",
    "These values are based on a volumetric energy density of 80.2 MJ per gallon."
   ]
  },
  {
   "cell_type": "markdown",
   "metadata": {},
   "source": [
    "### HEFA fuels\n",
    "Oils and fats can be processed via hydroprocessing to produce hydroprocessed esters and fatty acids (HEFA) in the form of bio-jetfuel and biodiesel. In the OEO database, we assume that soybeans are the input feedstock to the \"HEFA\" process, and that bio-jetfuel (BIOJTF) or biodiesel (BIODSL) can be produced. Once produced, bio-jetfuel can be blended into conventional jet fuel up to 50\\% based on an existing ASTM standard. More information on HEFA fuels is available from [EIA (2015)](https://www.eia.gov/todayinenergy/detail.php?id=23692).\n",
    "\n",
    "Efficiency data for the HEFA process is drawn from [de Jong (2018)](https://dspace.library.uu.nl/handle/1874/364514), while emissions data is drawn from [GREET (2018)](https://greet.es.anl.gov/). Data on capital costs as well as fixed and variable O&M costs are drawn from a range of sources including [de Jong (2018)](https://dspace.library.uu.nl/handle/1874/364514), [Wormslev et al. (2016)](https://www.nordicenergy.org/wp-content/uploads/2016/09/FULLTEXT_Sustainable_Jet_Fuel_for_Aviation.pdf), [Pavlenko et al. (2019)](https://theicct.org/publication/the-cost-of-supporting-alternative-jet-fuels-in-the-european-union/) and [Bann et al. (2017)](https://www.sciencedirect.com/science/article/abs/pii/S0960852416316911)."
   ]
  },
  {
   "cell_type": "markdown",
   "metadata": {},
   "source": [
    "### Biodiesel from transesterification\n",
    "According to [ScienceDirect (2021)](https://www.sciencedirect.com/topics/engineering/transesterification), transesterification is a process in which triacylglycerides from a variety of feedstock such as nonedible oil seeds, vegetable oils, animal fats or tallow, waste cooking oil, and microbial lipids or single cell oil (from algae, oleaginous yeast, filamentous fungi and bacteria) are converted into fatty acid methyl esters (biodiesel) in the presence of alcohol (methanol or ethanol).\n",
    "\n",
    "In the OEO database, the \"TRANSEST\" process converts soybeans (SOY) into biodiesel (BIODSL) via the transesterification process. Emissions data associated with the HEFA process is drawn from [GREET (2018)](https://greet.es.anl.gov/). Data on capital cost as well as fixed and variable O&M cost and efficiency data is based on [Huang et al. (2016)](https://onlinelibrary.wiley.com/doi/full/10.1002/bbb.1640)."
   ]
  },
  {
   "cell_type": "markdown",
   "metadata": {},
   "source": [
    "### Biomass to Fischer-Tropsch fuels\n",
    "Biomass feedstocks can also be converted to biodiesel and bio-jetfuel via the Fischer-Tropsch (FT) process. Efficiency and emissions data associated with the FT process (FISCH_TROP) are drawn from [GREET (2018)](https://greet.es.anl.gov/). Data on capital costs as well as fixed and variable O&M costs are drawn from a range of sources including [de Jong (2018)](https://dspace.library.uu.nl/handle/1874/364514), [Wormslev et al. (2016)](https://www.nordicenergy.org/wp-content/uploads/2016/09/FULLTEXT_Sustainable_Jet_Fuel_for_Aviation.pdf), [Pavlenko et al. (2019)](https://theicct.org/publication/the-cost-of-supporting-alternative-jet-fuels-in-the-european-union/) and [Bann et al. (2017)](https://www.sciencedirect.com/science/article/abs/pii/S0960852416316911). We assume that the process can accept woody biomass as input. "
   ]
  },
  {
   "cell_type": "markdown",
   "metadata": {},
   "source": [
    "# Technology/commodity description lookup tool <a class=\"anchor\" id=\"description_look_up\"></a>\n",
    "Use the tool below to search for any key words that may describe a technology or commodity of interest (e.g. heating, cooling). The tool provides a list of all the technologies or commodities in the database that may be relevant to the query.\n"
   ]
  },
  {
   "cell_type": "code",
   "execution_count": 4,
   "metadata": {
    "hide_input": true,
    "init_cell": true
   },
   "outputs": [
    {
     "data": {
      "application/vnd.jupyter.widget-view+json": {
       "model_id": "b170bbf40c3b4e2a9806b307f7007cf4",
       "version_major": 2,
       "version_minor": 0
      },
      "text/plain": [
       "Text(value='HEFA')"
      ]
     },
     "metadata": {},
     "output_type": "display_data"
    },
    {
     "data": {
      "application/vnd.jupyter.widget-view+json": {
       "model_id": "1f9e8806bc3240e5a94180b600b265a1",
       "version_major": 2,
       "version_minor": 0
      },
      "text/plain": [
       "Output()"
      ]
     },
     "metadata": {},
     "output_type": "display_data"
    }
   ],
   "source": [
    "w = widgets.Text(value='HEFA')\n",
    "display(w)\n",
    "def f(w):\n",
    "    if len(w)>0:\n",
    "        df1 = pd.read_sql(\"SELECT * FROM commodities WHERE comm_desc LIKE '%\" + w + \"%'\", con)\n",
    "        df1['desc'] = df1['comm_desc'].str.replace('#','').str.strip()\n",
    "        df1['comm_tech'] = df1['comm_name']\n",
    "        df1['type'] = 'commodity'\n",
    "\n",
    "        df2 = pd.read_sql(\"SELECT * FROM technologies WHERE tech_desc LIKE '%\" + w + \"%'\", con)\n",
    "        df2['desc'] = df2['tech_desc'].str.replace('#','').str.strip()\n",
    "        df2['comm_tech'] = df2['tech']\n",
    "        df2['type'] = 'technology'\n",
    "\n",
    "\n",
    "        df = pd.concat([df1[['comm_tech','type','desc']], df2[['comm_tech','type','desc']]])\n",
    "        \n",
    "        if len(df)>0:\n",
    "            display(HTML(tabulate.tabulate(df.set_index('comm_tech'),['technology/commodity','type','description'],stralign='left',tablefmt='html')))\n",
    "        else:\n",
    "            print('')\n",
    "    else:\n",
    "        print('')\n",
    "            \n",
    "\n",
    "\n",
    "out = widgets.interactive_output(f, {'w': w})\n",
    "display(out)"
   ]
  },
  {
   "cell_type": "markdown",
   "metadata": {
    "hide_input": false
   },
   "source": [
    "# Network diagram lookup tool  <a class=\"anchor\" id=\"network_look_up\"></a>\n",
    "Use the [description lookup tool](#description_look_up) above to identify specific commodity or technology names. Type the name in the box below to generate a corresponding network diagram for that commodity or technology. The slider can be used to view different upstream levels of the network diagram."
   ]
  },
  {
   "cell_type": "code",
   "execution_count": 5,
   "metadata": {
    "hide_input": true,
    "init_cell": true
   },
   "outputs": [
    {
     "data": {
      "application/vnd.jupyter.widget-view+json": {
       "model_id": "46681dfe936d420292c49499edc546f9",
       "version_major": 2,
       "version_minor": 0
      },
      "text/plain": [
       "Text(value='HEFA')"
      ]
     },
     "metadata": {},
     "output_type": "display_data"
    },
    {
     "data": {
      "application/vnd.jupyter.widget-view+json": {
       "model_id": "581265bad6424df0bec037527f814449",
       "version_major": 2,
       "version_minor": 0
      },
      "text/plain": [
       "Output()"
      ]
     },
     "metadata": {},
     "output_type": "display_data"
    }
   ],
   "source": [
    "w = widgets.Text(value='HEFA')\n",
    "display(w)\n",
    "def f(w):\n",
    "    if len(w)>0:\n",
    "        \n",
    "        df1 = pd.read_sql(\"SELECT comm_name, comm_desc FROM commodities WHERE comm_name='\" + w + \"'\", con)\n",
    "        df1['desc'] = df1['comm_desc'].str.replace('#','').str.strip()\n",
    "        df1['comm_tech'] = df1['comm_name']\n",
    "        df1['type'] = 'commodity'\n",
    "\n",
    "        df2 = pd.read_sql(\"SELECT * FROM technologies WHERE tech='\" + w + \"'\", con)\n",
    "        df2['desc'] = df2['tech_desc'].str.replace('#','').str.strip()\n",
    "        df2['comm_tech'] = df2['tech']\n",
    "        df2['type'] = 'technology'\n",
    "\n",
    "        df = pd.concat([df1[['comm_tech','type','desc']], df2[['comm_tech','type','desc']]])\n",
    "\n",
    "    \n",
    "        if len(df)>0:\n",
    "            def show_desc(level):\n",
    "                display(Markdown(df['desc'][0]))\n",
    "                final_dem = df['comm_tech'][0]\n",
    "                df_graph = return_flowd_table(final_dem,level)\n",
    "                args = create_args_flowd(df_graph)\n",
    "                colors, quick_run_dot_fmt = return_format_colors()\n",
    "                args.update(colors)\n",
    "                #o_str = 'rankdir = \"LR\" ;'\n",
    "                #r_str = 'rankdir = \"LR\" ; \\n\\t size=\"8,8\";'\n",
    "                #quick_run_dot_fmt = quick_run_dot_fmt.replace(o_str, r_str)\n",
    "                dot_graph = quick_run_dot_fmt % args\n",
    "                display(graphviz.Source(dot_graph))\n",
    "            w2 = widgets.IntSlider(value=1,min=0,max=10,step=1,description='Level:',disabled=False,continuous_update=True,orientation='horizontal',readout=True,readout_format='d')\n",
    "            w = widgets.interactive(show_desc, level=w2)\n",
    "            controls_rows(w)\n",
    "        else:\n",
    "            print('')\n",
    "\n",
    "    else:\n",
    "        print('')\n",
    "            \n",
    "\n",
    "\n",
    "out = widgets.interactive_output(f, {'w': w})\n",
    "display(out)"
   ]
  }
 ],
 "metadata": {
  "celltoolbar": "Initialization Cell",
  "kernelspec": {
   "display_name": "Python 3 (ipykernel)",
   "language": "python",
   "name": "python3"
  },
  "language_info": {
   "codemirror_mode": {
    "name": "ipython",
    "version": 3
   },
   "file_extension": ".py",
   "mimetype": "text/x-python",
   "name": "python",
   "nbconvert_exporter": "python",
   "pygments_lexer": "ipython3",
   "version": "3.7.3"
  },
  "toc": {
   "base_numbering": 1,
   "nav_menu": {},
   "number_sections": true,
   "sideBar": true,
   "skip_h1_title": false,
   "title_cell": "Table of Contents",
   "title_sidebar": "Contents",
   "toc_cell": false,
   "toc_position": {
    "height": "calc(100% - 180px)",
    "left": "10px",
    "top": "150px",
    "width": "341.333px"
   },
   "toc_section_display": true,
   "toc_window_display": true
  }
 },
 "nbformat": 4,
 "nbformat_minor": 4
}
