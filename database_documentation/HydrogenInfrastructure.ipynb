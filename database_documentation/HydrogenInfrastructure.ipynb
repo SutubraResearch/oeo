{
 "cells": [
  {
   "cell_type": "code",
   "execution_count": 1,
   "id": "4bc3b6e6",
   "metadata": {
    "hide_input": true,
    "init_cell": true
   },
   "outputs": [],
   "source": [
    "import pandas as pd\n",
    "import numpy as np\n",
    "import os\n",
    "import sqlite3\n",
    "import shutil\n",
    "import datetime\n",
    "import matplotlib.pyplot as plt\n",
    "from matplotlib.ticker import MaxNLocator\n",
    "import matplotlib.ticker as tick\n",
    "from IPython.display import HTML, display, Markdown\n",
    "import tabulate\n",
    "import ipywidgets as widgets\n",
    "from ipywidgets import HBox, VBox, Layout\n",
    "import graphviz\n",
    "from GraphVizUtil import *\n",
    "from GraphVizFormats import *\n",
    "import warnings\n",
    "warnings.filterwarnings('ignore')\n",
    "import seaborn as sb\n",
    "sb.set(style='darkgrid', font_scale=1.2)\n",
    "\n",
    "def filter_descriptions(tech_comm_desc):\n",
    "    try:\n",
    "        tech_comm_desc = tech_comm_desc.values[0][0].replace('#', '').replace('\"','').replace(\"\\n\",'').strip()\n",
    "    except:\n",
    "        tech_comm_desc = 'No description provided'\n",
    "    return tech_comm_desc\n",
    "\n",
    "def create_args_flowd(df_graph):\n",
    "    nodes, tech, ltech, to_tech, from_tech = set(), set(), set(), set(), set()\n",
    "    for ind,row in df_graph.iterrows():\n",
    "        #descriptions:\n",
    "        input_comm_des = filter_descriptions(pd.read_sql(\"SELECT comm_desc FROM commodities WHERE comm_name='\" + row['input_comm'] + \"'\", con))\n",
    "        output_comm_des = filter_descriptions(pd.read_sql(\"SELECT comm_desc FROM commodities WHERE comm_name='\" + row['output_comm'] + \"'\", con))\n",
    "        tech_des = filter_descriptions(pd.read_sql(\"SELECT tech_desc FROM technologies WHERE tech='\" + row['tech'] + \"'\", con))\n",
    "\n",
    "        if 'ethos' in row['input_comm']:\n",
    "            ltech.add('\"' + row['tech'] + '\"' +  ' [tooltip = \"' + tech_des + '\"]')\n",
    "        else :\n",
    "            nodes.add('\"' + row['input_comm'] + '\"' +  ' [tooltip = \"' + input_comm_des + '\"]')\n",
    "        nodes.add('\"' + row['output_comm'] + '\"' +  ' [tooltip = \"' + output_comm_des + '\"]')\n",
    "        tech.add('\"' + row['tech'] + '\"' +  ' [tooltip = \"' + tech_des + '\"]')\n",
    "\n",
    "        if row['input_comm'] != 'ethos':\n",
    "            to_tech.add('\"%s\"' % row['input_comm'] + '\\t->\\t\"%s\"' % row['tech']) \n",
    "        from_tech.add('\"%s\"' % row['tech'] + '\\t->\\t\"%s\"' % row['output_comm'])\n",
    "    args = dict(\n",
    "    enodes = \"\".join('%s;\\n\\t\\t' % x for x in nodes),\n",
    "    tnodes = \"\".join('%s;\\n\\t\\t' % x for x in tech),\n",
    "    iedges = \"\".join('%s;\\n\\t\\t' % x for x in to_tech),\n",
    "    oedges = \"\".join('%s;\\n\\t\\t' % x for x in from_tech),\n",
    "    snodes = \";\".join('%s' %x for x in ltech),\n",
    "    )\n",
    "    return args\n",
    "\n",
    "def return_format_colors():\n",
    "    colors = {}\n",
    "    colors.update(getColorConfig(False))\n",
    "    return colors, quick_run_dot_fmt\n",
    "\n",
    "def return_flowd_table(final_dem, level=1):\n",
    "    df = pd.read_sql(\"SELECT * FROM Efficiency\", con)\n",
    "    df_sel = df[df['output_comm']==final_dem]\n",
    "    if len(df_sel)==0:\n",
    "        df_sel = df[df['tech']==final_dem]\n",
    "    inputs = df_sel['input_comm'].unique()\n",
    "    iterval=0\n",
    "    if level!=0:\n",
    "        while len(inputs)>0:\n",
    "            df_append = df[df['output_comm'].isin(inputs)]\n",
    "            df_sel = pd.concat([df_sel, df_append])\n",
    "            inputs = df_append['input_comm'].unique()\n",
    "            iterval+=1\n",
    "            if iterval>level-1:\n",
    "                break\n",
    "    df_graph = df_sel[['input_comm', 'tech', 'output_comm']].drop_duplicates()\n",
    "    return df_graph\n",
    "\n",
    "def return_flowd_table_fwds(final_dem):\n",
    "    df = pd.read_sql(\"SELECT * FROM Efficiency\", con)\n",
    "    df_sel = df[df['output_comm']==final_dem]\n",
    "    if len(df_sel)==0:\n",
    "        df_sel = df[df['tech']==final_dem]\n",
    "    inputs = df_sel['input_comm'].unique()\n",
    "    outputs = df_sel['output_comm'].unique()\n",
    "\n",
    "    iterval=0\n",
    "    while len(inputs)>0:\n",
    "        df_append = df[df['output_comm'].isin(inputs)]\n",
    "        df_sel = pd.concat([df_sel, df_append])\n",
    "        inputs = df_append['input_comm'].unique()\n",
    "        iterval+=1\n",
    "        if iterval>2:\n",
    "            break\n",
    "    iterval=0\n",
    "    while len(outputs)>0:\n",
    "        df_append = df[df['input_comm'].isin(outputs)]\n",
    "        df_sel = pd.concat([df_sel, df_append])\n",
    "        outputs = df_append['output_comm'].unique()\n",
    "        iterval+=1\n",
    "        if iterval>=0:\n",
    "            break\n",
    "\n",
    "    df_graph = df_sel[['input_comm', 'tech', 'output_comm']].drop_duplicates()\n",
    "    return df_graph\n",
    "\n",
    "con = sqlite3.connect(r'../US_9R_8D.sqlite') #change path to database\n",
    "cur = con.cursor()   \n",
    "con.text_factory = str \n",
    "\n",
    "def controls_rows(w):\n",
    "    controls = HBox(w.children[:-1], layout = Layout(flex_flow='row wrap', width='max-content'))\n",
    "    output = w.children[-1]\n",
    "    display(VBox([controls, output],  layout = Layout(flex_flow='columns wrap', width='max-content', size=10)))\n",
    "    \n",
    "#https://www.eia.gov/energyexplained/units-and-calculators/\n",
    "btu_per_oil_bbl = 5698000\n",
    "PJ_per_oil_bbl = btu_per_oil_bbl*1.05506e-12"
   ]
  },
  {
   "cell_type": "markdown",
   "id": "00c2bac0",
   "metadata": {},
   "source": [
    "## Overview\n",
    "\n",
    "Hydrogen infrastructure in the OEO database includes pathways for hydrogen production, transport, conversion and utilization in the end-use sectors. These pathways are described in the sections that follow. "
   ]
  },
  {
   "cell_type": "markdown",
   "id": "d1cfa476",
   "metadata": {},
   "source": [
    "### Hydrogen production\n",
    "We consider four separate pathways to produce hydrogen."
   ]
  },
  {
   "cell_type": "markdown",
   "id": "b79fa937",
   "metadata": {},
   "source": [
    "#### Electrolysis \n",
    "In the electrolysis pathway (\"ELEC_H2\"), energy is consumed in the form of electricity to produce hydrogen (we do not consider water use). Process efficiencies, capital and fixed costs are based on data from the IEA Future of Hydrogen Report [(Annex: Production pathways table)](https://iea.blob.core.windows.net/assets/29b027e5-fefc-47df-aed0-456b1bb38844/IEA-The-Future-of-Hydrogen-Assumptions-Annex_CORR.pdf). "
   ]
  },
  {
   "cell_type": "markdown",
   "id": "25d5bc00",
   "metadata": {},
   "source": [
    "#### Natural gas steam methane reforming  \n",
    "In the steam methane reforming pathway (\"NG_SMR\"), natural gas is consumed to produce hydrogen. Since this is a mature, commercial process, associated techno-economic data are reported to be constant over the modeling time frame. Process efficiencies, capital and fixed costs are based on data from the IEA Future of Hydrogen Report [(Annex: Production pathways table)](https://iea.blob.core.windows.net/assets/29b027e5-fefc-47df-aed0-456b1bb38844/IEA-The-Future-of-Hydrogen-Assumptions-Annex_CORR.pdf) as well."
   ]
  },
  {
   "cell_type": "markdown",
   "id": "e86af273",
   "metadata": {},
   "source": [
    "#### Natural gas steam methane reforming  with carbon capture and storage\n",
    "In the steam methane reforming pathway with carbon capture and storage (\"NG_SMR_CCS\"), natural gas is consumed to produce hydrogen. In addition, emissions from natural gas combustion are captured and can be either sequestered or utilized elsewhere within the energy system. Process efficiencies, capital and fixed costs are based on data from the IEA Future of Hydrogen Report [(Annex: Production pathways table)](https://iea.blob.core.windows.net/assets/29b027e5-fefc-47df-aed0-456b1bb38844/IEA-The-Future-of-Hydrogen-Assumptions-Annex_CORR.pdf) as well. "
   ]
  },
  {
   "cell_type": "markdown",
   "id": "86b57426",
   "metadata": {},
   "source": [
    "#### Bioenergy with carbon capture and storage \n",
    "In this pathway (\"BECCS_H2_N\"), biomass (herbaceous, woody and waste) is used in a gasification process to produce hydrogen, with electricity as an additional input. Around 80\\% of the associated CO<sub>2</sub> produced is captured and either sequestered or utilized elsewhere in the energy system. Technoeconomic parameters for this process are drawn from the Princeton Net-Zero America report [(Annex L, Appendix A)](https://netzeroamerica.princeton.edu/img/NZA%20Annex%20L%20-%20Hydrogen%20and%20synthesized%20fuels.pdf)."
   ]
  },
  {
   "cell_type": "markdown",
   "id": "9e4a5f69",
   "metadata": {},
   "source": [
    "#### Hydrogen production technoeconomic data\n",
    "Efficiency and capital cost data for the hydrogen production processes can be viewed in the tables below. "
   ]
  },
  {
   "cell_type": "code",
   "execution_count": 2,
   "id": "4b08cc78",
   "metadata": {
    "hide_input": true,
    "init_cell": true
   },
   "outputs": [
    {
     "data": {
      "text/markdown": [
       "**Table 1.** Hydrogen production pathways - efficiency (%)"
      ],
      "text/plain": [
       "<IPython.core.display.Markdown object>"
      ]
     },
     "metadata": {},
     "output_type": "display_data"
    },
    {
     "data": {
      "text/html": [
       "<table>\n",
       "<thead>\n",
       "<tr><th>technology  </th><th>2020  </th><th>2025  </th><th style=\"text-align: right;\">  2030</th><th style=\"text-align: right;\">  2035</th><th style=\"text-align: right;\">  2040</th><th style=\"text-align: right;\">  2045</th><th style=\"text-align: right;\">  2050</th></tr>\n",
       "</thead>\n",
       "<tbody>\n",
       "<tr><td>BECCS_H2_N  </td><td>-     </td><td>-     </td><td style=\"text-align: right;\">    56</td><td style=\"text-align: right;\">    56</td><td style=\"text-align: right;\">    56</td><td style=\"text-align: right;\">    56</td><td style=\"text-align: right;\">    56</td></tr>\n",
       "<tr><td>ELEC_H2     </td><td>64.0  </td><td>66.0  </td><td style=\"text-align: right;\">    69</td><td style=\"text-align: right;\">    70</td><td style=\"text-align: right;\">    72</td><td style=\"text-align: right;\">    73</td><td style=\"text-align: right;\">    74</td></tr>\n",
       "<tr><td>NG_SMR      </td><td>76.0  </td><td>76.0  </td><td style=\"text-align: right;\">    76</td><td style=\"text-align: right;\">    76</td><td style=\"text-align: right;\">    76</td><td style=\"text-align: right;\">    76</td><td style=\"text-align: right;\">    76</td></tr>\n",
       "<tr><td>NG_SMR_CCS  </td><td>69.0  </td><td>69.0  </td><td style=\"text-align: right;\">    69</td><td style=\"text-align: right;\">    69</td><td style=\"text-align: right;\">    69</td><td style=\"text-align: right;\">    69</td><td style=\"text-align: right;\">    69</td></tr>\n",
       "</tbody>\n",
       "</table>"
      ],
      "text/plain": [
       "<IPython.core.display.HTML object>"
      ]
     },
     "metadata": {},
     "output_type": "display_data"
    }
   ],
   "source": [
    "query = \"SELECT vintage, tech, efficiency FROM Efficiency WHERE output_comm = 'hydrogen'\"\n",
    "df_efficiency = pd.read_sql_query(query, con)\n",
    "df_efficiency = df_efficiency.drop_duplicates()\n",
    "df_efficiency['efficiency'] = np.round(df_efficiency['efficiency'],2)*100\n",
    "df_efficiency = df_efficiency.pivot_table(index=['tech'], columns=[ 'vintage'], \\\n",
    "                                         values='efficiency').reset_index()\n",
    "df_efficiency.fillna('-', inplace=True)\n",
    "header = ['technology', '2020', '2025', '2030', '2035', '2040','2045', '2050']\n",
    "display(Markdown('**Table 1.** Hydrogen production pathways - efficiency (%)'))\n",
    "display(HTML(tabulate.tabulate(df_efficiency.set_index('tech'), header,  floatfmt=\".0f\" , tablefmt='html')))"
   ]
  },
  {
   "cell_type": "code",
   "execution_count": 3,
   "id": "f60189e5",
   "metadata": {
    "hide_input": true,
    "init_cell": true
   },
   "outputs": [
    {
     "data": {
      "text/markdown": [
       "**Table 2.** Hydrogen production pathways - capital costs (\\$M/(PJ/year))"
      ],
      "text/plain": [
       "<IPython.core.display.Markdown object>"
      ]
     },
     "metadata": {},
     "output_type": "display_data"
    },
    {
     "data": {
      "text/html": [
       "<table>\n",
       "<thead>\n",
       "<tr><th>technology  </th><th>2020  </th><th>2025  </th><th style=\"text-align: right;\">  2030</th><th style=\"text-align: right;\">  2035</th><th style=\"text-align: right;\">  2040</th><th style=\"text-align: right;\">  2045</th><th style=\"text-align: right;\">  2050</th></tr>\n",
       "</thead>\n",
       "<tbody>\n",
       "<tr><td>BECCS_H2_N  </td><td>-     </td><td>-     </td><td style=\"text-align: right;\">    82</td><td style=\"text-align: right;\">    82</td><td style=\"text-align: right;\">    82</td><td style=\"text-align: right;\">    82</td><td style=\"text-align: right;\">    82</td></tr>\n",
       "<tr><td>ELEC_H2     </td><td>45.0  </td><td>38.0  </td><td style=\"text-align: right;\">    32</td><td style=\"text-align: right;\">    29</td><td style=\"text-align: right;\">    26</td><td style=\"text-align: right;\">    22</td><td style=\"text-align: right;\">    19</td></tr>\n",
       "<tr><td>NG_SMR      </td><td>29.0  </td><td>29.0  </td><td style=\"text-align: right;\">    29</td><td style=\"text-align: right;\">    29</td><td style=\"text-align: right;\">    29</td><td style=\"text-align: right;\">    29</td><td style=\"text-align: right;\">    29</td></tr>\n",
       "<tr><td>NG_SMR_CCS  </td><td>53.0  </td><td>48.0  </td><td style=\"text-align: right;\">    43</td><td style=\"text-align: right;\">    42</td><td style=\"text-align: right;\">    42</td><td style=\"text-align: right;\">    41</td><td style=\"text-align: right;\">    41</td></tr>\n",
       "</tbody>\n",
       "</table>"
      ],
      "text/plain": [
       "<IPython.core.display.HTML object>"
      ]
     },
     "metadata": {},
     "output_type": "display_data"
    }
   ],
   "source": [
    "query = \"SELECT vintage, tech, cost_invest FROM CostInvest WHERE tech IN ('\" + \\\n",
    "\"','\".join(df_efficiency['tech'].unique()) + \"')\"\n",
    "df_efficiency = pd.read_sql_query(query, con)\n",
    "df_efficiency = df_efficiency.drop_duplicates()\n",
    "df_efficiency['efficiency'] = np.round(df_efficiency['cost_invest'])\n",
    "df_efficiency = df_efficiency.pivot_table(index=['tech'], columns=[ 'vintage'], \\\n",
    "                                         values='efficiency').reset_index()\n",
    "df_efficiency.fillna('-', inplace=True)\n",
    "header = ['technology', '2020', '2025', '2030', '2035', '2040','2045', '2050']\n",
    "display(Markdown('**Table 2.** Hydrogen production pathways - capital costs (\\$M/(PJ/year))'))\n",
    "display(HTML(tabulate.tabulate(df_efficiency.set_index('tech'), header,  floatfmt=\".0f\" , tablefmt='html')))\n"
   ]
  },
  {
   "cell_type": "markdown",
   "id": "bc7305dc",
   "metadata": {},
   "source": [
    "### Hydrogen transport"
   ]
  },
  {
   "cell_type": "markdown",
   "id": "fa5850dd",
   "metadata": {},
   "source": [
    "#### Hydrogen distribution\n",
    "We consider hydrogen distribution via pipelines only, based on data from the [IEA Future of Hydrogen 2019 report](https://iea.blob.core.windows.net/assets/9e3a3493-b9a6-4b7d-b499-7ca48e357561/The_Future_of_Hydrogen.pdf). This report suggests that while trucks will remain the primary source of hydrogen distribution in the next decade, higher hydrogen demand will likely require distribution pipelines. Further, given sufficient demand, pipelines will likely be the cheapest option for distribution distances of less than 1500 km. For simplicity, therefore, we only consider hydrogen distribution via pipelines, with no efficiency losses, and at an average pressure of 10 bar. \n",
    "While costs per unit of hydrogen transported vary depending on pipeline size, data presented in the IEA report suggests that transporting hydrogen in a 100 tpd pipeline over 250 km would have similar costs as transporting it in a 500 tpd pipeline over 500 km, about 0.5\\$/kg H<sub>2</sub>. We assume this variable cost applies to all intra-regional hydrogen distribution starting in 2020."
   ]
  },
  {
   "cell_type": "markdown",
   "id": "5febd4ec",
   "metadata": {},
   "source": [
    "#### Hydrogen transmission \n",
    "We consider hydrogen transmission via pipelines between different OEO regions at an average pressure of 100 bar. Capital cost and lifetime data for hydrogen transmission are drawn from the IEA Future of Hydrogen Report [(Annex: Transmission table)](https://iea.blob.core.windows.net/assets/29b027e5-fefc-47df-aed0-456b1bb38844/IEA-The-Future-of-Hydrogen-Assumptions-Annex_CORR.pdf). They report a pipeline capital cost of \\$1.21M/km with a throughput of 340 ktH<sub>2</sub>/year and a lifetime of 40 years. The capital cost data per km are merged with average distances between OEO regions to represent capital costs on a $M/(PJ/year) basis between regions. Distances between the OEO regions are drawn from the PowerGenome tool, which is used to create input datasets for the electric sector. For simplicity, we assume transmission between regions with no efficiency losses. Costs are reported in the table below."
   ]
  },
  {
   "cell_type": "code",
   "execution_count": 4,
   "id": "d0013bfd",
   "metadata": {
    "hide_input": true,
    "init_cell": true
   },
   "outputs": [
    {
     "data": {
      "text/markdown": [
       "**Table 2.** Inter-regional hydrogen transmission - capital costs (\\$M/(PJ/year))"
      ],
      "text/plain": [
       "<IPython.core.display.Markdown object>"
      ]
     },
     "metadata": {},
     "output_type": "display_data"
    },
    {
     "data": {
      "text/html": [
       "<table>\n",
       "<thead>\n",
       "<tr><th>      </th><th>CA   </th><th>CEN  </th><th>MID_AT  </th><th>NE   </th><th>NW  </th><th>N_CEN  </th><th>SE  </th><th>SW  </th><th>TX  </th></tr>\n",
       "</thead>\n",
       "<tbody>\n",
       "<tr><td>CA    </td><td>-    </td><td>58.2 </td><td>101.6   </td><td>117.4</td><td>29.7</td><td>70.1   </td><td>94.2</td><td>23.4</td><td>57.9</td></tr>\n",
       "<tr><td>CEN   </td><td>58.2 </td><td>-    </td><td>44.2    </td><td>63.0 </td><td>48.4</td><td>23.2   </td><td>37.2</td><td>34.9</td><td>23.6</td></tr>\n",
       "<tr><td>MID_AT</td><td>101.6</td><td>44.2 </td><td>-       </td><td>22.6 </td><td>85.5</td><td>35.8   </td><td>23.5</td><td>78.8</td><td>58.5</td></tr>\n",
       "<tr><td>NE    </td><td>117.4</td><td>63.0 </td><td>22.6    </td><td>-    </td><td>96.9</td><td>47.6   </td><td>45.6</td><td>95.7</td><td>80.1</td></tr>\n",
       "<tr><td>NW    </td><td>29.7 </td><td>48.4 </td><td>85.5    </td><td>96.9 </td><td>-   </td><td>50.1   </td><td>85.1</td><td>27.6</td><td>60.3</td></tr>\n",
       "<tr><td>N_CEN </td><td>70.1 </td><td>23.2 </td><td>35.8    </td><td>47.6 </td><td>50.1</td><td>-      </td><td>42.5</td><td>49.3</td><td>46.6</td></tr>\n",
       "<tr><td>SE    </td><td>94.2 </td><td>37.2 </td><td>23.5    </td><td>45.6 </td><td>85.1</td><td>42.5   </td><td>-   </td><td>70.9</td><td>41.8</td></tr>\n",
       "<tr><td>SW    </td><td>23.4 </td><td>34.9 </td><td>78.8    </td><td>95.7 </td><td>27.6</td><td>49.3   </td><td>70.9</td><td>-   </td><td>36.6</td></tr>\n",
       "<tr><td>TX    </td><td>57.9 </td><td>23.6 </td><td>58.5    </td><td>80.1 </td><td>60.3</td><td>46.6   </td><td>41.8</td><td>36.6</td><td>-   </td></tr>\n",
       "</tbody>\n",
       "</table>"
      ],
      "text/plain": [
       "<IPython.core.display.HTML object>"
      ]
     },
     "metadata": {},
     "output_type": "display_data"
    }
   ],
   "source": [
    "query = \"SELECT regions, tech, cost_invest FROM CostInvest WHERE tech ='H2_TRANS_N'\"\n",
    "df_cost = pd.read_sql_query(query, con)\n",
    "df_cost = df_cost.drop_duplicates()\n",
    "\n",
    "\n",
    "df_cost['cost_invest'] = np.round(df_cost['cost_invest'],1)\n",
    "df_cost.loc[:,'region 1'] = df_cost.regions.str.split('-').apply(lambda x: x[0])\n",
    "df_cost.loc[:,'region 2'] = df_cost.regions.str.split('-').apply(lambda x: x[1])\n",
    "    \n",
    "df_cost = df_cost.pivot_table(index=['region 1'], columns=[ 'region 2'], \\\n",
    "                                         values='cost_invest').reset_index()\n",
    "df_cost.fillna('-', inplace=True)\n",
    "\n",
    "header = df_cost.columns[1:]\n",
    "display(Markdown('**Table 2.** Inter-regional hydrogen transmission - capital costs (\\$M/(PJ/year))'))\n",
    "display(HTML(tabulate.tabulate(df_cost.set_index('region 1'), header, floatfmt=\".0f\" , tablefmt='html')))\n"
   ]
  },
  {
   "cell_type": "markdown",
   "id": "43caf1ee",
   "metadata": {},
   "source": [
    "### Hydrogen storage\n",
    "We currently include a simplistic representation of underground hydrogen storage. We assume no leakage or losses, based on data summarized in [Colbertaldo et al, 2019](https://www.sciencedirect.com/science/article/abs/pii/S0360319918336449) that suggest low leakage rates in existing underground facilities. We assume a storage duration of 2000 hours (nearly 3 months). There is considerable variability in capital cost estimates for hydrogen storage - estimates for above ground storage tanks are around \\\\$12/kWh while [Amos, 1999](https://www.nrel.gov/docs/fy99osti/25106.pdf) suggests that underground storage could cost up to \\\\$0.35/kWh. \n",
    "Using a conservative estimate of \\\\$1.05/kWh along with the assumed storage duration, we estimate capital costs of around 730 \\\\$M/GW. We ignore any associated operating costs. \n",
    "We assume a discount (hurdle) rate of 6\\% to reflect the lack of experience with this technology, broadly. Further, we assume a lifetime of 30 years. We currently do not model resource limits on available underground storage across the different OEO regions, although this is planned for future work. \n",
    "\n",
    "For more detail on how this process was modeled for the OEO, see [Eshraghi 2020](https://repository.lib.ncsu.edu/bitstream/handle/1840.20/37269/etd.pdf?sequence=1&isAllowed=y), Section B.7.6. "
   ]
  },
  {
   "cell_type": "markdown",
   "id": "2c7a6839",
   "metadata": {},
   "source": [
    "### Hydrogen compression"
   ]
  },
  {
   "cell_type": "markdown",
   "id": "3e0ddfaa",
   "metadata": {},
   "source": [
    "#### 10 bar to 100 bar\n",
    "Hydrogen produced at 10 bar and transmitted via distribution pipelines is assumed to be compressed to around 100 bar before it can be utilized or transported via high pressure pipelines. This explicitly does not account for any costs or savings that may be incurred by delivering hydrogen at a pressure fit for different end-uses. Process efficiency (i.e., electricity input requirements) are derived based on an estimate of the electricity required to drive an adiabatic compressor. An overall efficiency of 94\\% is thus derived and represented in the TechInputSplit table in the OEO database. \n",
    "\n",
    "Investment costs are based on data from [Niaz et al, 2015](https://www.sciencedirect.com/science/article/pii/S1364032115004694), who report a range of 1200 - 1800 \\\\$/kW<sub>e</sub>. We use an average of 1500 $/kW<sub>e</sub>, which is then scaled to hydrogen output of 90 \\\\$/kW H<sub>2</sub>. We further apply a factor of 1.15 to account for installation costs based on [ENEA, 2016](https://www.enea-consulting.com/static/3663dbb115f833de23e4c94c8fa399ec/enea-the-potential-of-power-to-gas.pdf). Fixed O\\&M costs are assumed to be 4\\% of capital costs, which falls within the range reported by [Ferreroa et al, 2015](https://www.sciencedirect.com/science/article/pii/S1876610216312164) (2\\%) and [ENEA, 2016](https://www.enea-consulting.com/static/3663dbb115f833de23e4c94c8fa399ec/enea-the-potential-of-power-to-gas.pdf) (6\\%). We assume a technology lifetime of 15 years, based on data from [ENEA, 2016](https://www.enea-consulting.com/static/3663dbb115f833de23e4c94c8fa399ec/enea-the-potential-of-power-to-gas.pdf)\n",
    "\n",
    "For more detail on how this process was modeled for the OEO, see [Eshraghi 2020](https://repository.lib.ncsu.edu/bitstream/handle/1840.20/37269/etd.pdf?sequence=1&isAllowed=y), Section B.7.5. "
   ]
  },
  {
   "cell_type": "markdown",
   "id": "b9317efa",
   "metadata": {},
   "source": [
    "#### 100 bar to 700 bar\n",
    "Fuel cell vehicles typically store hydrogen onboard in tanks operating at a pressure of around 700 bar. Therefore hydrogen at 100 bar needs to be compressed before it can be used in the light and heavy duty vehicle fleet. Electricity requirements are estimated using an approach that is similar to what is presented above, for compression to 100 bar, resulting in a process efficiency of around 95\\%. Compression costs are assumed to be 20\\% higher than costs for compressing hydrogen to 100 bar, while the process lifetime remains 15 years. \n",
    "\n",
    "For more detail on how this process was modeled for the OEO, see [Eshraghi 2020](https://repository.lib.ncsu.edu/bitstream/handle/1840.20/37269/etd.pdf?sequence=1&isAllowed=y), Section B.7.7. "
   ]
  },
  {
   "cell_type": "markdown",
   "id": "3519c677",
   "metadata": {},
   "source": [
    "#### Hydrogen liquefaction\n",
    "Hydrogen produced at 10 bar can be liquefied and used in the heavy-duty transport sector. Technoeconomic  data for hydrogen liquefaction are primarily drawn from the IEA Future of Hydrogen Report [(Annex: Transmission table)](https://iea.blob.core.windows.net/assets/29b027e5-fefc-47df-aed0-456b1bb38844/IEA-The-Future-of-Hydrogen-Assumptions-Annex_CORR.pdf). Based on the report, we assume 6.1 kWh of electricity is required per kg H<sub>2</sub> as process input, which is represented in the TechInputSplit table in the OEO database. The capital and fixed cost assumptions are based on a typical facility with a capacity of 260 ktons H<sub>2</sub>/year."
   ]
  },
  {
   "cell_type": "markdown",
   "id": "889f5f25",
   "metadata": {},
   "source": [
    "### Hydrogen utilization"
   ]
  },
  {
   "cell_type": "markdown",
   "id": "f6c18ddb",
   "metadata": {},
   "source": [
    "#### Industrial boilers\n",
    "For details on the parameterization of how hydrogen can be used to in conventional boilers in the industrial sector, please refer to the IndustrialSector notebook in this directory."
   ]
  },
  {
   "cell_type": "markdown",
   "id": "0b2f04a5",
   "metadata": {},
   "source": [
    "#### Industrial process heat\n",
    "For details on the parameterization of how hydrogen can be used to provide industrial process heat, please refer to the IndustrialSector notebook in this directory."
   ]
  },
  {
   "cell_type": "markdown",
   "id": "335b655b",
   "metadata": {},
   "source": [
    "#### Combined-cycle turbines\n",
    "For details on the parametrization of hydrogen combined-cycle turbines in the power system, please refer to the ElectricSector notebook in this directory."
   ]
  },
  {
   "cell_type": "markdown",
   "id": "9470d784",
   "metadata": {},
   "source": [
    "#### F-T fuels\n",
    "We include a pathway that that generates liquid fuels from hydrogen and CO<sub>2</sub> via the Fischer-Tropsch (FT) process, which can be used as carbon-free liquid fuel in the transportation sector. Electricity is also required as an energy input to this process. Process parameterization is based on data from [Zang et al, 2021](https://www.sciencedirect.com/science/article/abs/pii/S2212982021000263). We assume a 52\\% efficiency on an energy basis. Further, we assume a range of fuels can be produced via this process including diesel, jet fuel, LPG, residual fuel oil and marine gas oil and that the process is flexible enough to produce any of these commodities based on internal model demand; i.e., we do not assumed a fixed share of output fuels.\n",
    "Capital and fixed costs are also based on [Zang et al, 2021](https://www.sciencedirect.com/science/article/abs/pii/S2212982021000263). The report a plant capacity of 16.5 TJ/year and associated capital cost of \\\\$378 million and annual fixed costs of \\\\$20 million. They suggest that the variable costs are dominated by feedstock costs, and therefore we ignore any additional process related variable costs. The techno-economic input data are summarized in the table below. The ratio of CO<sub>2</sub>, hydrogen and electricity inputs are specified in the TechInputSplit table. "
   ]
  },
  {
   "cell_type": "code",
   "execution_count": 5,
   "id": "b8f2e897",
   "metadata": {
    "hide_input": true,
    "init_cell": true
   },
   "outputs": [
    {
     "data": {
      "text/html": [
       "<div>\n",
       "<style scoped>\n",
       "    .dataframe tbody tr th:only-of-type {\n",
       "        vertical-align: middle;\n",
       "    }\n",
       "\n",
       "    .dataframe tbody tr th {\n",
       "        vertical-align: top;\n",
       "    }\n",
       "\n",
       "    .dataframe thead th {\n",
       "        text-align: right;\n",
       "    }\n",
       "</style>\n",
       "<table border=\"1\" class=\"dataframe\">\n",
       "  <thead>\n",
       "    <tr style=\"text-align: right;\">\n",
       "      <th></th>\n",
       "      <th>Parameter value</th>\n",
       "      <th>Units</th>\n",
       "    </tr>\n",
       "  </thead>\n",
       "  <tbody>\n",
       "    <tr>\n",
       "      <th>Efficiency</th>\n",
       "      <td>52</td>\n",
       "      <td>%</td>\n",
       "    </tr>\n",
       "    <tr>\n",
       "      <th>Capital cost</th>\n",
       "      <td>63.01</td>\n",
       "      <td>$M/(PJ/year)</td>\n",
       "    </tr>\n",
       "    <tr>\n",
       "      <th>Fixed O&amp;M</th>\n",
       "      <td>3.35</td>\n",
       "      <td>$M/(PJ/year)</td>\n",
       "    </tr>\n",
       "    <tr>\n",
       "      <th>Lifetime</th>\n",
       "      <td>40</td>\n",
       "      <td>years</td>\n",
       "    </tr>\n",
       "  </tbody>\n",
       "</table>\n",
       "</div>"
      ],
      "text/plain": [
       "             Parameter value         Units\n",
       "Efficiency                52             %\n",
       "Capital cost           63.01  $M/(PJ/year)\n",
       "Fixed O&M               3.35  $M/(PJ/year)\n",
       "Lifetime                  40         years"
      ]
     },
     "execution_count": 5,
     "metadata": {},
     "output_type": "execute_result"
    }
   ],
   "source": [
    "query = \"SELECT efficiency*100 FROM Efficiency WHERE tech = 'T_FT' AND input_comm LIKE '%H2%'\"\n",
    "df_eff = pd.read_sql_query(query, con)\n",
    "df_eff.drop_duplicates(inplace=True)\n",
    "\n",
    "query = \"SELECT cost_invest FROM CostInvest WHERE tech = 'T_FT'\"\n",
    "df_cap = pd.read_sql_query(query, con)\n",
    "df_cap.drop_duplicates(inplace=True)\n",
    "df_cap\n",
    "\n",
    "\n",
    "query = \"SELECT cost_fixed FROM CostFixed WHERE tech = 'T_FT'\"\n",
    "df_fom = pd.read_sql_query(query, con)\n",
    "df_fom.drop_duplicates(inplace=True)\n",
    "df_fom\n",
    "\n",
    "query = \"SELECT life FROM LifetimeTech WHERE tech = 'T_FT'\"\n",
    "df_life = pd.read_sql_query(query, con)\n",
    "df_life.drop_duplicates(inplace=True)\n",
    "\n",
    "data = [str(int(df_eff['efficiency*100'][0])), \n",
    "df_cap['cost_invest'][0],\n",
    "df_fom['cost_fixed'][0], str(int(df_life['life'][0]))]\n",
    "\n",
    "df_data = pd.DataFrame(data, columns = ['Parameter value'], index = ['Efficiency','Capital cost', 'Fixed O&M', 'Lifetime'])\n",
    "df_data.loc[:,'Units'] = ['%', '$M/(PJ/year)',  '$M/(PJ/year)', 'years']\n",
    "df_data"
   ]
  },
  {
   "cell_type": "markdown",
   "id": "e56e7b70",
   "metadata": {},
   "source": [
    "#### Methanol\n",
    "\n",
    "We include a pathway that that generates methanol from hydrogen and CO<sub>2</sub>, which can be used as carbon-free liquid fuel in the transportation sector. The 2020 efficiency of 80.4\\% is drawn from [Pérez-Fortes et al. 2016](https://www.sciencedirect.com/science/article/pii/S0306261915009071), and we model minor improvements until 2040 up to 82\\% efficiency. Technology capital costs for 2015 are drawn from [Atsonios et al. 2016](https://www.sciencedirect.com/science/article/abs/pii/S0360319915302718). [ENEA, 2016](https://www.enea-consulting.com/static/3663dbb115f833de23e4c94c8fa399ec/enea-the-potential-of-power-to-gas.pdf) suggests that capital costs may decline by a third by 2030 and by around 53% by 2050. Both projections are used to develop capital costs within the database. Fixed O\\&M costs are also drawn from [ENEA, 2016](https://www.enea-consulting.com/static/3663dbb115f833de23e4c94c8fa399ec/enea-the-potential-of-power-to-gas.pdf), which projects that they would likely be 7.5\\% of the capital costs, similar to values reported in [Atsonios et al. 2016](https://www.sciencedirect.com/science/article/abs/pii/S0360319915302718). Variable costs are attributed primarily to CO<sub>2</sub> at an additional cost of 10\\$/ton CO<sub>2</sub> which is converted to $M/PJ MEOH based on the stoichiometry of the reaction that converts CO<sub>2</sub> to methanol. This variable cost is a relic from a previous version of the database and we plan to update this data in future database iterations. We assume a technology lifetime of 20 years, based on data from [ENEA, 2016](https://www.enea-consulting.com/static/3663dbb115f833de23e4c94c8fa399ec/enea-the-potential-of-power-to-gas.pdf). The ratio of CO<sub>2</sub> and hydrogen inputs are specified in the TechInputSplit table. For more detail on how this process was modeled for the OEO, see [Eshraghi 2020](https://repository.lib.ncsu.edu/bitstream/handle/1840.20/37269/etd.pdf?sequence=1&isAllowed=y), Section B.7.13. \n",
    "\n",
    "We also include a simple representation of methanol storage at the production site. Since methanol is stored as a liquid around ambient temperatures, we assume that methanol storage costs are negligble compared to other system costs. Energy losses are primarily due to pumping, and are therefore assumed negligible as well. Further, a 20 year process lifetime is assumed. For more detail on how methanol storage was modeled for the OEO, see [Eshraghi 2020](https://repository.lib.ncsu.edu/bitstream/handle/1840.20/37269/etd.pdf?sequence=1&isAllowed=y), Section B.7.14. \n",
    "\n",
    "Methanol can be blended with gasoline and used as a lower-carbon transportation fuel, as E10 or E85. E10 is assumed to be blended as 15% methanol and 85% gasoline, while E85 can accept a minimum blending value of 80% methanol. Further details on transportation vehicles that use E10 and E85 are described in the TransportationSector notebook in this directory. For more detail on how this process was modeled for the OEO, see [Eshraghi 2020](https://repository.lib.ncsu.edu/bitstream/handle/1840.20/37269/etd.pdf?sequence=1&isAllowed=y), Section B.7.15. "
   ]
  },
  {
   "cell_type": "markdown",
   "id": "da74cb4e",
   "metadata": {},
   "source": [
    "#### Synthetic natural gas\n",
    "\n",
    "We include a pathway that that generates synthetic natural gas (SNG) from hydrogen and CO<sub>2</sub> via the Sabatier process, which can be used as carbon-free gaseous fuel in several of the end-use sectors, as a replacement for fossil-based natural gas. We assume a process efficiency of 80\\% in 2020, based on data from  [ENEA, 2016](https://www.enea-consulting.com/static/3663dbb115f833de23e4c94c8fa399ec/enea-the-potential-of-power-to-gas.pdf), [Gotz et al, 2016](https://www.sciencedirect.com/science/article/pii/S0960148115301610) and [Ahern et al, 2015](https://www.sciencedirect.com/science/article/abs/pii/S096014811500066X). [Schiebahn et al, 2015](https://www.sciencedirect.com/science/article/abs/pii/S0360319915001913) suggest that the maximum  efficiency of the Sabatier process can reach 83\\%, and so we assume that process efficiency improves slightly to 81\\% by 2030. We also assume that this synthetic gas is produced at 20 bar.\n",
    "\n",
    "Technology capital costs for 2020 are drawn from [Gotz et al, 2016](https://www.sciencedirect.com/science/article/pii/S0960148115301610) who report a range of 360 to 720 \\\\$/kW: a median value of 540 \\$/kW is assumed. [ENEA, 2016](https://www.enea-consulting.com/static/3663dbb115f833de23e4c94c8fa399ec/enea-the-potential-of-power-to-gas.pdf) suggests that capital costs may decline to a third by 2050. More conservatively, we assume costs may fall to half by 2040. Fixed O\\&M costs are also drawn from [ENEA, 2016](https://www.enea-consulting.com/static/3663dbb115f833de23e4c94c8fa399ec/enea-the-potential-of-power-to-gas.pdf), which projects that they would likely be 7.5\\% of the capital costs. Variable costs are attributed primarily to CO<sub>2</sub> at an additional cost of 10\\$/ton CO<sub>2</sub> which is converted to $M/PJ SNG based on the stoichiometry of the reaction that converts CO<sub>2</sub> to methane. This variable cost is a relic from a previous version of the database and we plan to update this data in future database iterations. We assume a technology lifetime of 20 years, based on data from [ENEA, 2016](https://www.enea-consulting.com/static/3663dbb115f833de23e4c94c8fa399ec/enea-the-potential-of-power-to-gas.pdf). The ratio of CO<sub>2</sub> and hydrogen inputs are specified in the TechInputSplit table. For more detail on how this process was modeled for the OEO, see [Eshraghi 2020](https://repository.lib.ncsu.edu/bitstream/handle/1840.20/37269/etd.pdf?sequence=1&isAllowed=y), Section B.7.10. \n",
    "\n",
    "The produced gas at 20 bar will typically be compressed before it can be used within the existing natural gas transmission pipeline infrastructure which can be pressurized at anywhere between 16 and 100 bar. As a conservative estimate, we assume the produced gas will be pressurized to 100 bar. For more detail on how this process was modeled for the OEO, see [Eshraghi 2020](https://repository.lib.ncsu.edu/bitstream/handle/1840.20/37269/etd.pdf?sequence=1&isAllowed=y), Section B.7.11. "
   ]
  },
  {
   "cell_type": "markdown",
   "id": "1f547d6a",
   "metadata": {},
   "source": [
    "#### Fuel cell vehicles and liquid hydrogen\n",
    "For details on the parameterization of fuel cell vehicles, liquid hydrogen use and hydrogen refueling infrastructure for transportation, please refer to the TransportationSector notebook in this directory."
   ]
  },
  {
   "cell_type": "markdown",
   "id": "a2cd098c",
   "metadata": {},
   "source": [
    "## Technology/commodity description lookup tool <a class=\"anchor\" id=\"description_look_up\"></a>\n",
    "Use the tool below to search for any key words that may describe a technology or commodity of interest (e.g. hydrogen). The tool provides a list of all the technologies or commodities in the database that may be relevant to the query.\n"
   ]
  },
  {
   "cell_type": "code",
   "execution_count": 6,
   "id": "378db0ff",
   "metadata": {
    "hide_input": true,
    "init_cell": true
   },
   "outputs": [
    {
     "data": {
      "application/vnd.jupyter.widget-view+json": {
       "model_id": "85aa72b9a5214333911437131b2bef04",
       "version_major": 2,
       "version_minor": 0
      },
      "text/plain": [
       "Text(value='hydrogen compression')"
      ]
     },
     "metadata": {},
     "output_type": "display_data"
    },
    {
     "data": {
      "application/vnd.jupyter.widget-view+json": {
       "model_id": "600d41a4e1b84a33a68a52e349c825ad",
       "version_major": 2,
       "version_minor": 0
      },
      "text/plain": [
       "Output()"
      ]
     },
     "metadata": {},
     "output_type": "display_data"
    }
   ],
   "source": [
    "w = widgets.Text(value='hydrogen compression')\n",
    "display(w)\n",
    "def f(w):\n",
    "    if len(w)>0:\n",
    "        df1 = pd.read_sql(\"SELECT * FROM commodities WHERE comm_desc LIKE '%\" + w + \"%'\", con)\n",
    "        df1['desc'] = df1['comm_desc'].str.replace('#','').str.strip()\n",
    "        df1['comm_tech'] = df1['comm_name']\n",
    "        df1['type'] = 'commodity'\n",
    "\n",
    "        df2 = pd.read_sql(\"SELECT * FROM technologies WHERE tech_desc LIKE '%\" + w + \"%'\", con)\n",
    "        df2['desc'] = df2['tech_desc'].str.replace('#','').str.strip()\n",
    "        df2['comm_tech'] = df2['tech']\n",
    "        df2['type'] = 'technology'\n",
    "\n",
    "\n",
    "        df = pd.concat([df1[['comm_tech','type','desc']], df2[['comm_tech','type','desc']]])\n",
    "        \n",
    "        if len(df)>0:\n",
    "            display(HTML(tabulate.tabulate(df.set_index('comm_tech'),['technology/commodity','type','description'],stralign='left',tablefmt='html')))\n",
    "        else:\n",
    "            print('')\n",
    "    else:\n",
    "        print('')\n",
    "            \n",
    "\n",
    "\n",
    "out = widgets.interactive_output(f, {'w': w})\n",
    "display(out)"
   ]
  },
  {
   "cell_type": "markdown",
   "id": "203242ab",
   "metadata": {},
   "source": [
    "## Network diagram lookup tool  <a class=\"anchor\" id=\"network_look_up\"></a>\n",
    "Use the [description lookup tool](#description_look_up) above to identify specific commodity or technology names. Type the name in the box below to generate a corresponding network diagram for that commodity or technology. The slider can be used to view different upstream levels of the network diagram."
   ]
  },
  {
   "cell_type": "code",
   "execution_count": 7,
   "id": "766e7702",
   "metadata": {
    "hide_input": true,
    "init_cell": true
   },
   "outputs": [
    {
     "data": {
      "application/vnd.jupyter.widget-view+json": {
       "model_id": "2ff770809a8a47a7a7f96aa34fe40d87",
       "version_major": 2,
       "version_minor": 0
      },
      "text/plain": [
       "Text(value='hydrogen')"
      ]
     },
     "metadata": {},
     "output_type": "display_data"
    },
    {
     "data": {
      "application/vnd.jupyter.widget-view+json": {
       "model_id": "5d17bc77aecf47bfafd9b5de7ba3fd58",
       "version_major": 2,
       "version_minor": 0
      },
      "text/plain": [
       "Output()"
      ]
     },
     "metadata": {},
     "output_type": "display_data"
    }
   ],
   "source": [
    "w = widgets.Text(value='hydrogen')\n",
    "display(w)\n",
    "def f(w):\n",
    "    if len(w)>0:\n",
    "        \n",
    "        df1 = pd.read_sql(\"SELECT comm_name, comm_desc FROM commodities WHERE comm_name='\" + w + \"'\", con)\n",
    "        df1['desc'] = df1['comm_desc'].str.replace('#','').str.strip()\n",
    "        df1['comm_tech'] = df1['comm_name']\n",
    "        df1['type'] = 'commodity'\n",
    "\n",
    "        df2 = pd.read_sql(\"SELECT * FROM technologies WHERE tech='\" + w + \"'\", con)\n",
    "        df2['desc'] = df2['tech_desc'].str.replace('#','').str.strip()\n",
    "        df2['comm_tech'] = df2['tech']\n",
    "        df2['type'] = 'technology'\n",
    "\n",
    "        df = pd.concat([df1[['comm_tech','type','desc']], df2[['comm_tech','type','desc']]])\n",
    "\n",
    "    \n",
    "        if len(df)>0:\n",
    "            def show_desc(level):\n",
    "                display(Markdown(df['desc'][0]))\n",
    "                final_dem = df['comm_tech'][0]\n",
    "                df_graph = return_flowd_table(final_dem,level)\n",
    "                args = create_args_flowd(df_graph)\n",
    "                colors, quick_run_dot_fmt = return_format_colors()\n",
    "                args.update(colors)\n",
    "                #o_str = 'rankdir = \"LR\" ;'\n",
    "                #r_str = 'rankdir = \"LR\" ; \\n\\t size=\"8,8\";'\n",
    "                #quick_run_dot_fmt = quick_run_dot_fmt.replace(o_str, r_str)\n",
    "                dot_graph = quick_run_dot_fmt % args\n",
    "                display(graphviz.Source(dot_graph))\n",
    "            w2 = widgets.IntSlider(value=1,min=0,max=10,step=1,description='Level:',disabled=False,continuous_update=True,orientation='horizontal',readout=True,readout_format='d')\n",
    "            w = widgets.interactive(show_desc, level=w2)\n",
    "            controls_rows(w)\n",
    "        else:\n",
    "            print('')\n",
    "\n",
    "    else:\n",
    "        print('')\n",
    "            \n",
    "\n",
    "\n",
    "out = widgets.interactive_output(f, {'w': w})\n",
    "display(out)"
   ]
  }
 ],
 "metadata": {
  "celltoolbar": "Initialization Cell",
  "kernelspec": {
   "display_name": "Python 3 (ipykernel)",
   "language": "python",
   "name": "python3"
  },
  "language_info": {
   "codemirror_mode": {
    "name": "ipython",
    "version": 3
   },
   "file_extension": ".py",
   "mimetype": "text/x-python",
   "name": "python",
   "nbconvert_exporter": "python",
   "pygments_lexer": "ipython3",
   "version": "3.7.3"
  },
  "toc": {
   "base_numbering": 1,
   "nav_menu": {},
   "number_sections": true,
   "sideBar": true,
   "skip_h1_title": false,
   "title_cell": "Table of Contents",
   "title_sidebar": "Contents",
   "toc_cell": false,
   "toc_position": {},
   "toc_section_display": true,
   "toc_window_display": true
  }
 },
 "nbformat": 4,
 "nbformat_minor": 5
}
