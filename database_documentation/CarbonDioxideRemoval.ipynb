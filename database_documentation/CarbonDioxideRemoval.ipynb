{
 "cells": [
  {
   "cell_type": "code",
   "execution_count": 4,
   "id": "724ec0d5",
   "metadata": {
    "hide_input": true,
    "init_cell": true
   },
   "outputs": [],
   "source": [
    "import pandas as pd\n",
    "import numpy as np\n",
    "import os\n",
    "import sqlite3\n",
    "import shutil\n",
    "import datetime\n",
    "import matplotlib.pyplot as plt\n",
    "import tabulate\n",
    "from IPython.display import HTML, display, Markdown\n",
    "import csv\n",
    "import unicodedata\n",
    "import getopt\n",
    "from ipywidgets import HBox, VBox, Layout\n",
    "\n",
    "import ipywidgets as widgets\n",
    "from ipywidgets import HBox, VBox, Layout\n",
    "import graphviz\n",
    "from GraphVizUtil import *\n",
    "from GraphVizFormats import *\n",
    "import warnings\n",
    "warnings.filterwarnings('ignore')\n",
    "import seaborn as sb\n",
    "sb.set(style='darkgrid', font_scale=1.2)\n",
    "\n",
    "def filter_descriptions(tech_comm_desc):\n",
    "    try:\n",
    "        tech_comm_desc = tech_comm_desc.values[0][0].replace('#', '').replace('\"','').replace(\"\\n\",'').strip()\n",
    "    except:\n",
    "        tech_comm_desc = 'No description provided'\n",
    "    return tech_comm_desc\n",
    "\n",
    "def create_args_flowd(df_graph):\n",
    "    nodes, tech, ltech, to_tech, from_tech = set(), set(), set(), set(), set()\n",
    "    for ind,row in df_graph.iterrows():\n",
    "        #descriptions:\n",
    "        input_comm_des = filter_descriptions(pd.read_sql(\"SELECT comm_desc FROM commodities WHERE comm_name='\" + row['input_comm'] + \"'\", con))\n",
    "        output_comm_des = filter_descriptions(pd.read_sql(\"SELECT comm_desc FROM commodities WHERE comm_name='\" + row['output_comm'] + \"'\", con))\n",
    "        tech_des = filter_descriptions(pd.read_sql(\"SELECT tech_desc FROM technologies WHERE tech='\" + row['tech'] + \"'\", con))\n",
    "\n",
    "        if 'ethos' in row['input_comm']:\n",
    "            ltech.add('\"' + row['tech'] + '\"' +  ' [tooltip = \"' + tech_des + '\"]')\n",
    "        else :\n",
    "            nodes.add('\"' + row['input_comm'] + '\"' +  ' [tooltip = \"' + input_comm_des + '\"]')\n",
    "        nodes.add('\"' + row['output_comm'] + '\"' +  ' [tooltip = \"' + output_comm_des + '\"]')\n",
    "        tech.add('\"' + row['tech'] + '\"' +  ' [tooltip = \"' + tech_des + '\"]')\n",
    "\n",
    "        if row['input_comm'] != 'ethos':\n",
    "            to_tech.add('\"%s\"' % row['input_comm'] + '\\t->\\t\"%s\"' % row['tech']) \n",
    "        from_tech.add('\"%s\"' % row['tech'] + '\\t->\\t\"%s\"' % row['output_comm'])\n",
    "    args = dict(\n",
    "    enodes = \"\".join('%s;\\n\\t\\t' % x for x in nodes),\n",
    "    tnodes = \"\".join('%s;\\n\\t\\t' % x for x in tech),\n",
    "    iedges = \"\".join('%s;\\n\\t\\t' % x for x in to_tech),\n",
    "    oedges = \"\".join('%s;\\n\\t\\t' % x for x in from_tech),\n",
    "    snodes = \";\".join('%s' %x for x in ltech),\n",
    "    )\n",
    "    return args\n",
    "\n",
    "\n",
    "def return_format_colors():\n",
    "    colors = {}\n",
    "    colors.update(getColorConfig(False))\n",
    "    return colors, quick_run_dot_fmt\n",
    "\n",
    "def return_flowd_table(final_dem, level=1):\n",
    "    df = pd.read_sql(\"SELECT * FROM Efficiency\", con)\n",
    "    df_sel = df[df['output_comm']==final_dem]\n",
    "    if len(df_sel)==0:\n",
    "        df_sel = df[df['tech']==final_dem]\n",
    "    inputs = df_sel['input_comm'].unique()\n",
    "    iterval=0\n",
    "    if level!=0:\n",
    "        while len(inputs)>0:\n",
    "            df_append = df[df['output_comm'].isin(inputs)]\n",
    "            df_sel = pd.concat([df_sel, df_append])\n",
    "            inputs = df_append['input_comm'].unique()\n",
    "            iterval+=1\n",
    "            if iterval>level-1:\n",
    "                break\n",
    "    df_graph = df_sel[['input_comm', 'tech', 'output_comm']].drop_duplicates()\n",
    "    return df_graph\n",
    "\n",
    "def return_flowd_table_fwds(final_dem):\n",
    "    df = pd.read_sql(\"SELECT * FROM Efficiency\", con)\n",
    "    df_sel = df[df['output_comm']==final_dem]\n",
    "    if len(df_sel)==0:\n",
    "        df_sel = df[df['tech']==final_dem]\n",
    "    inputs = df_sel['input_comm'].unique()\n",
    "    outputs = df_sel['output_comm'].unique()\n",
    "\n",
    "    iterval=0\n",
    "    while len(inputs)>0:\n",
    "        df_append = df[df['output_comm'].isin(inputs)]\n",
    "        df_sel = pd.concat([df_sel, df_append])\n",
    "        inputs = df_append['input_comm'].unique()\n",
    "        iterval+=1\n",
    "        if iterval>2:\n",
    "            break\n",
    "    iterval=0\n",
    "    while len(outputs)>0:\n",
    "        df_append = df[df['input_comm'].isin(outputs)]\n",
    "        df_sel = pd.concat([df_sel, df_append])\n",
    "        outputs = df_append['output_comm'].unique()\n",
    "        iterval+=1\n",
    "        if iterval>=0:\n",
    "            break\n",
    "\n",
    "    df_graph = df_sel[['input_comm', 'tech', 'output_comm']].drop_duplicates()\n",
    "    return df_graph\n",
    "\n",
    "con = sqlite3.connect(r'../US_9R_8D.sqlite') #change path to database\n",
    "cur = con.cursor()   \n",
    "con.text_factory = str \n",
    "\n",
    "def controls_rows(w):\n",
    "    controls = HBox(w.children[:-1], layout = Layout(flex_flow='row wrap', width='max-content'))\n",
    "    output = w.children[-1]\n",
    "    display(VBox([controls, output],  layout = Layout(flex_flow='columns wrap', width='max-content', size=10)))"
   ]
  },
  {
   "cell_type": "markdown",
   "id": "03355353",
   "metadata": {},
   "source": [
    "### Carbon Dioxide Removal (CDR)  Overview <a class=\"anchor\" id=\"CDR\"></a>\n",
    "Technologies broadly include direct air capture and geologic sequestration and storage.\n",
    "\n"
   ]
  },
  {
   "cell_type": "markdown",
   "id": "9378b499",
   "metadata": {},
   "source": [
    "#### Direct air capture <a class=\"anchor\" id=\"DAC\"></a>\n",
    "We model two direct air capture technologies based on <a href=\"https://www.cell.com/joule/fulltext/S2542-4351(18)30225-3#tbl2\" rel=\"nofollow\">Keith et al. (2018)</a>. One technology converts captured CO<sub>2</sub> into synthetic fuels, while the other sequesters it. Table 2 in Keith et al. outlines key technoeconomic parameters for 5 direct air capture systems, plants A, B, C, D, and D'. We model plants A, B, and D. Capital costs, fixed O&M costs, and efficiencies for the DAC to synthetic fuel pathway are based on plant D. Technoeconomic parameters for the DAC to sequestration pathway are based on plant A in 2030, with costs decreasing linearly to plant B's costs by 2050. Plant A and plant B are identical, plant B merely represents a more mature, and therefore less expensive, technology. \n",
    "\n",
    "The DAC to sequestration technology has only natural gas as an energy input, while the synthetic fuels pathway requires both natural gas and electricity. \n",
    "\n",
    "**Table 1.** Key DAC parameters\n",
    "\n",
    "|Technology|Parameter | Value | Units | Source |\n",
    "| :----- | :----- | :-- |:-- |:--------- |\n",
    "|Synthetic fuels|Capital Cost| 609  | \\$/t-CO<sub>2</sub>/year| <a href=\"https://www.cell.com/joule/fulltext/S2542-4351(18)30225-3#tbl2\" rel=\"nofollow\">Keith et al. (2018)</a>|\n",
    "||Variable O&M Cost| 23 | \\$/t-CO<sub>2</sub>| <a href=\"https://www.cell.com/joule/fulltext/S2542-4351(18)30225-3#tbl2\" rel=\"nofollow\">Keith et al. (2018)</a>|\n",
    "||Energy Consumption| 5.25 / 77  |PJ NG / kWh electricity| <a href=\"https://www.cell.com/joule/fulltext/S2542-4351(18)30225-3#tbl2\" rel=\"nofollow\">Keith et al. (2018)</a>,  <a href=\"https://pubs.rsc.org/en/content/articlelanding/2020/SE/c9se00479c#!divAbstractlife\" rel=\"nofollow\">Liu et al.</a>|\n",
    "|Sequestration|Capital Cost| 1146 (2030) - 793 (2050)  | \\$/t-CO<sub>2</sub>/year| <a href=\"https://www.cell.com/joule/fulltext/S2542-4351(18)30225-3#tbl2\" rel=\"nofollow\">Keith et al. (2018)</a>|\n",
    "||Variable O&M Cost| 42 (2030) - 30 (2050) | \\$/t-CO<sub>2</sub>| <a href=\"https://www.cell.com/joule/fulltext/S2542-4351(18)30225-3#tbl2\" rel=\"nofollow\">Keith et al. (2018)</a>|\n",
    "||Energy Consumption| 8.81  |PJ Natural Gas | <a href=\"https://www.cell.com/joule/fulltext/S2542-4351(18)30225-3#tbl2\" rel=\"nofollow\">Keith et al. (2018)</a>,  <a href=\"https://pubs.rsc.org/en/content/articlelanding/2020/SE/c9se00479c#!divAbstractlife\" rel=\"nofollow\">Liu et al.</a>|"
   ]
  },
  {
   "cell_type": "markdown",
   "id": "38d3baac",
   "metadata": {},
   "source": [
    "#### Geologic Sequestration and Storage <a class=\"anchor\" id=\"CCS\"></a>\n",
    "\n",
    "If captured CO$_2$ (from DAC or other CCS technologies) is not transformed into synthetic fuels, it must be sequestered underground. Our database models geologic storage based on the <a href=\"https://acee.princeton.edu/rapidswitch/projects/net-zero-america-project/\" rel=\"nofollow\">Princeton Net-Zero America Study (2021)</a>.  In line with Net-Zero America (NZA), we model cost curves for CO$_2$ transport and storage based on capacity. We diverge from NZA in that we do not model enhanced oil recovery. We model 8 steps on the CO$_2$ storage supply curve, each with a maximum annual activity. We also model a total US storage potential of 480 gigatonnes CO$_2$ <a href=\"https://acee.princeton.edu/rapidswitch/projects/net-zero-america-project/\" rel=\"nofollow\">(NZA, 2021)</a>. Cumulative and annual national capacities are outlined in Table 2. We estimate regional annual capacities with NZA data, but cumulative regional storage potential is estimated using data from <a href=\"https://papers.ssrn.com/sol3/papers.cfm?abstract_id=3366176\" rel=\"nofollow\">Teletzke et al (2020)</a>. Currently, we assume no CO$_2$ leakage occurs. We also do not model inter-regional CO$_2$ transport.\n",
    "\n",
    "\n",
    "**Table 2.** Key National CCS parameters\n",
    "\n",
    "| **Parameter**                                       | **Value \\[units\\]**                | **Source**                                                                       |\n",
    "| --------------------------------------------------- | ---------------------------------- | -------------------------------------------------------------------------------- |\n",
    "| Variable Cost (includes transportation and storage) | 0.0198 – 0.0703 \\[$M/kt-CO<sub>2</sub>/year\\] | [NZA](https://acee.princeton.edu/rapidswitch/projects/net-zero-america-project/) |\n",
    "| Total US capacity                                   | 480 \\[Gt CO<sub>2</sub>\\]                       | [NZA](https://acee.princeton.edu/rapidswitch/projects/net-zero-america-project/) |\n",
    "| Annual Capacity, step 1                             | 100,000 \\[kt CO<sub>2</sub>\\]                 | [NZA](https://acee.princeton.edu/rapidswitch/projects/net-zero-america-project/) |\n",
    "| Annual Capacity, step 2                             | 100,000 \\[kt CO<sub>2</sub>\\]                 | [NZA](https://acee.princeton.edu/rapidswitch/projects/net-zero-america-project/) |\n",
    "| Annual Capacity, step 3                             | 700,000 \\[kt CO<sub>2</sub>\\]                 | [NZA](https://acee.princeton.edu/rapidswitch/projects/net-zero-america-project/) |\n",
    "| Annual Capacity, step 4                             | 500,000 \\[kt CO<sub>2</sub>\\]                 | [NZA](https://acee.princeton.edu/rapidswitch/projects/net-zero-america-project/) |\n",
    "| Annual Capacity, step 5                             | 260,000 \\[kt CO<sub>2</sub>\\]                 | [NZA](https://acee.princeton.edu/rapidswitch/projects/net-zero-america-project/) |\n",
    "| Annual Capacity, step 6                             | 100,000 \\[kt CO<sub>2</sub>\\]                 | [NZA](https://acee.princeton.edu/rapidswitch/projects/net-zero-america-project/) |\n",
    "| Annual Capacity, step 7                             | 60,000 \\[kt CO<sub>2</sub>\\]                  | [NZA](https://acee.princeton.edu/rapidswitch/projects/net-zero-america-project/) |\n",
    "| Annual Capacity, step 8                             | 40,000 \\[kt CO<sub>2</sub>\\]                  | [NZA](https://acee.princeton.edu/rapidswitch/projects/net-zero-america-project/) |\n"
   ]
  },
  {
   "cell_type": "markdown",
   "id": "5c2473d1",
   "metadata": {},
   "source": [
    "### Technology/commodity description lookup tool <a class=\"anchor\" id=\"description_look_up\"></a>\n",
    "Use the tool below to search for any key words that may describe a technology or commodity of interest (e.g. heating, cooling). The tool provides a list of all the technologies or commodities in the database that may be relevant to the query."
   ]
  },
  {
   "cell_type": "code",
   "execution_count": 5,
   "id": "16eebaf9",
   "metadata": {
    "hide_input": true,
    "init_cell": true
   },
   "outputs": [
    {
     "data": {
      "application/vnd.jupyter.widget-view+json": {
       "model_id": "89547d5485f14c948ec94d413721f79f",
       "version_major": 2,
       "version_minor": 0
      },
      "text/plain": [
       "Text(value='DAC')"
      ]
     },
     "metadata": {},
     "output_type": "display_data"
    },
    {
     "data": {
      "application/vnd.jupyter.widget-view+json": {
       "model_id": "9611774465904f7da9f3b72f3c6839df",
       "version_major": 2,
       "version_minor": 0
      },
      "text/plain": [
       "Output()"
      ]
     },
     "metadata": {},
     "output_type": "display_data"
    }
   ],
   "source": [
    "w = widgets.Text(value='DAC')\n",
    "display(w)\n",
    "def f(w):\n",
    "    if len(w)>0:\n",
    "        df1 = pd.read_sql(\"SELECT * FROM commodities WHERE comm_desc LIKE '%\" + w + \"%'\", con)\n",
    "        df1['desc'] = df1['comm_desc'].str.replace('#','').str.strip()\n",
    "        df1['comm_tech'] = df1['comm_name']\n",
    "        df1['type'] = 'commodity'\n",
    "\n",
    "        df2 = pd.read_sql(\"SELECT * FROM technologies WHERE tech_desc LIKE '%\" + w + \"%'\", con)\n",
    "        df2['desc'] = df2['tech_desc'].str.replace('#','').str.strip()\n",
    "        df2['comm_tech'] = df2['tech']\n",
    "        df2['type'] = 'technology'\n",
    "\n",
    "\n",
    "        df = pd.concat([df1[['comm_tech','type','desc']], df2[['comm_tech','type','desc']]])\n",
    "        \n",
    "        if len(df)>0:\n",
    "            display(HTML(tabulate.tabulate(df.set_index('comm_tech'),['technology/commodity','type','description'],stralign='left',tablefmt='html')))\n",
    "        else:\n",
    "            print('')\n",
    "    else:\n",
    "        print('')\n",
    "            \n",
    "\n",
    "\n",
    "out = widgets.interactive_output(f, {'w': w})\n",
    "display(out)"
   ]
  },
  {
   "cell_type": "markdown",
   "id": "97930116",
   "metadata": {},
   "source": [
    "### Network diagram lookup tool  <a class=\"anchor\" id=\"network_look_up\"></a>\n",
    "Use the [description lookup tool](#description_look_up) above to identify specific commodity or technology names. Type the name in the box below to generate a corresponding network diagram for that commodity or technology. The slider can be used to view different upstream levels of the network diagram."
   ]
  },
  {
   "cell_type": "code",
   "execution_count": 6,
   "id": "3e075ddd",
   "metadata": {
    "hide_input": true,
    "init_cell": true
   },
   "outputs": [
    {
     "data": {
      "application/vnd.jupyter.widget-view+json": {
       "model_id": "a1d08c91891b4333a58111ef9cd21c8f",
       "version_major": 2,
       "version_minor": 0
      },
      "text/plain": [
       "Text(value='ATM_co2_ground')"
      ]
     },
     "metadata": {},
     "output_type": "display_data"
    },
    {
     "data": {
      "application/vnd.jupyter.widget-view+json": {
       "model_id": "e9cb3b21ffa242be87a31a91729b4a50",
       "version_major": 2,
       "version_minor": 0
      },
      "text/plain": [
       "Output()"
      ]
     },
     "metadata": {},
     "output_type": "display_data"
    }
   ],
   "source": [
    "w = widgets.Text(value='ATM_co2_ground')\n",
    "display(w)\n",
    "def f(w):\n",
    "    if len(w)>0:\n",
    "        \n",
    "        df1 = pd.read_sql(\"SELECT comm_name, comm_desc FROM commodities WHERE comm_name='\" + w + \"'\", con)\n",
    "        df1['desc'] = df1['comm_desc'].str.replace('#','').str.strip()\n",
    "        df1['comm_tech'] = df1['comm_name']\n",
    "        df1['type'] = 'commodity'\n",
    "\n",
    "        df2 = pd.read_sql(\"SELECT * FROM technologies WHERE tech='\" + w + \"'\", con)\n",
    "        df2['desc'] = df2['tech_desc'].str.replace('#','').str.strip()\n",
    "        df2['comm_tech'] = df2['tech']\n",
    "        df2['type'] = 'technology'\n",
    "\n",
    "        df = pd.concat([df1[['comm_tech','type','desc']], df2[['comm_tech','type','desc']]])\n",
    "\n",
    "    \n",
    "        if len(df)>0:\n",
    "            def show_desc(level):\n",
    "                display(Markdown(df['desc'][0]))\n",
    "                final_dem = df['comm_tech'][0]\n",
    "                df_graph = return_flowd_table(final_dem,level)\n",
    "                args = create_args_flowd(df_graph)\n",
    "                colors, quick_run_dot_fmt = return_format_colors()\n",
    "                args.update(colors)\n",
    "                #o_str = 'rankdir = \"LR\" ;'\n",
    "                #r_str = 'rankdir = \"LR\" ; \\n\\t size=\"8,8\";'\n",
    "                #quick_run_dot_fmt = quick_run_dot_fmt.replace(o_str, r_str)\n",
    "                dot_graph = quick_run_dot_fmt % args\n",
    "                display(graphviz.Source(dot_graph))\n",
    "            w2 = widgets.IntSlider(value=1,min=0,max=10,step=1,description='Level:',disabled=False,continuous_update=True,orientation='horizontal',readout=True,readout_format='d')\n",
    "            w = widgets.interactive(show_desc, level=w2)\n",
    "            controls_rows(w)\n",
    "        else:\n",
    "            print('')\n",
    "\n",
    "    else:\n",
    "        print('')\n",
    "            \n",
    "\n",
    "\n",
    "out = widgets.interactive_output(f, {'w': w})\n",
    "display(out)"
   ]
  }
 ],
 "metadata": {
  "celltoolbar": "Initialization Cell",
  "kernelspec": {
   "display_name": "Python 3 (ipykernel)",
   "language": "python",
   "name": "python3"
  },
  "language_info": {
   "codemirror_mode": {
    "name": "ipython",
    "version": 3
   },
   "file_extension": ".py",
   "mimetype": "text/x-python",
   "name": "python",
   "nbconvert_exporter": "python",
   "pygments_lexer": "ipython3",
   "version": "3.7.3"
  },
  "toc": {
   "base_numbering": 1,
   "nav_menu": {},
   "number_sections": true,
   "sideBar": true,
   "skip_h1_title": false,
   "title_cell": "Table of Contents",
   "title_sidebar": "Contents",
   "toc_cell": false,
   "toc_position": {},
   "toc_section_display": true,
   "toc_window_display": true
  }
 },
 "nbformat": 4,
 "nbformat_minor": 5
}
