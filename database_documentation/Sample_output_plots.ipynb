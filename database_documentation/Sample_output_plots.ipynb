{
 "cells": [
  {
   "cell_type": "markdown",
   "id": "d39e643c",
   "metadata": {},
   "source": [
    "### Generate sample output plots\n",
    "Use this notebook to create sample output plots from a Temoa database that contains results. Modify the path to the database and scenario name in the cell below and run all cells to use the notebook. For cells with widgets, select some combination of sector, regions, periods and demand categories to view the output plots."
   ]
  },
  {
   "cell_type": "code",
   "execution_count": 1,
   "id": "f70308e5",
   "metadata": {
    "hide_input": false,
    "init_cell": true
   },
   "outputs": [],
   "source": [
    "db_path = '../data_aggregation/US_BASE_solved.sqlite'\n",
    "scenario = 'test_run'"
   ]
  },
  {
   "cell_type": "code",
   "execution_count": 2,
   "id": "d4656db1",
   "metadata": {
    "hide_input": true,
    "init_cell": true
   },
   "outputs": [],
   "source": [
    "import pandas as pd\n",
    "import sqlite3\n",
    "import numpy as np\n",
    "import matplotlib.pyplot as plt\n",
    "import seaborn as sb\n",
    "\n",
    "from ipywidgets import HBox, VBox, Layout\n",
    "\n",
    "import ipywidgets as widgets\n",
    "from ipywidgets import HBox, VBox, Layout\n",
    "\n",
    "from IPython.display import HTML,Markdown\n",
    "\n",
    "\n",
    "\n",
    "def controls_rows(w):\n",
    "    controls = HBox(w.children[:-1], layout = Layout(flex_flow='row wrap', width='max-content'))\n",
    "    output = w.children[-1]\n",
    "    display(VBox([controls, output],  layout = Layout(flex_flow='columns wrap', width='max-content', size=10)))\n",
    "    \n",
    "import plotly.graph_objects as go\n",
    "import plotly.express as pex\n",
    "#import plotly.io as pio\n",
    "\n",
    "con = sqlite3.connect(db_path)#change path to database\n",
    "sb.set(style='darkgrid', font_scale=1.2)\n",
    "\n",
    "#return sankey diagram dataframe for a sector\n",
    "def sankey_df(con, scenario, sector, region, t_periods):\n",
    "    if sector =='commercial':\n",
    "        fuels_list = ['C_DISTOIL','C_LPG','C_NGA','C_RFO','ELC','SNG_100','H2_100', 'ELCDIST_R']\n",
    "    elif sector=='residential':\n",
    "        fuels_list = ['R_DISTOIL','R_LPG','R_NGA','R_KER','RWHSOL', 'R_BIO','ELC','SNG_100','H2_100', 'ELCDIST_R']\n",
    "    elif sector == 'transport':\n",
    "        fuels_list = ['MGO','DSL','GAS','CNG','ETHANOL', 'JTF', 'RFO', 'T_LPG','MEOH', 'T_Liquids', 'ELC', 'BIODSL', 'BIO_JTF', 'ELCDIST_R']\n",
    "    elif sector == 'industrial':\n",
    "        fuels_list = ['I_COAL', 'I_DFO', 'I_GSL',  'I_NGA', 'I_REN', 'I_RFO', 'I_LPG', 'I_OTH_EA', 'SNG_100', 'MEOH', 'H2_100', 'ELC', 'ELCDIST_R']\n",
    "    else:\n",
    "        print('Sector input is either residential, commercial, industrial, or transport')\n",
    "    \n",
    "    if region=='All':\n",
    "        query = \"SELECT input_comm, output_comm, SUM(vflow_in) AS vflow_in FROM Output_VFlow_In \\\n",
    "    WHERE scenario='\" + scenario + \"' AND sector='\" + sector + \"' AND t_periods=\"+ str(t_periods) + \\\n",
    "    \" GROUP BY sector, input_comm, output_comm ORDER BY input_comm, output_comm\"\n",
    "    else:\n",
    "        query = \"SELECT input_comm, output_comm, SUM(vflow_in) AS vflow_in FROM Output_VFlow_In \\\n",
    "    WHERE scenario='\" + scenario + \"' AND sector='\" + sector + \"' AND t_periods=\"+ str(t_periods) + \" AND regions='\"+ str(region) +\\\n",
    "    \"' GROUP BY sector, input_comm, output_comm ORDER BY input_comm, output_comm\"\n",
    "\n",
    "    df_sector = pd.read_sql_query(query, con)\n",
    "    df_sector = df_sector[df_sector['input_comm'].isin(fuels_list)]\n",
    "    df_demands = pd.read_sql_query(\"SELECT comm_name FROM commodities WHERE flag='d'\", con)\n",
    "    mask = df_sector['output_comm'].isin(list(df_demands['comm_name'].values))\n",
    "    iterval = 1\n",
    "    while len(df_sector[mask]) < len(df_sector):\n",
    "        df_sector_remains = df_sector[mask]\n",
    "        df_sector = df_sector[~mask]\n",
    "        if region=='All':\n",
    "            query = \"SELECT input_comm, output_comm, SUM(vflow_in) AS split FROM Output_VFlow_In \\\n",
    "            WHERE input_comm IN ('\" + \"','\".join(df_sector['output_comm'].unique()) + \"') AND \\\n",
    "            scenario='\" + scenario + \"' AND sector='\" + sector + \"' AND t_periods=\"+ str(t_periods) +\\\n",
    "            \" GROUP BY sector, input_comm, output_comm\"\n",
    "        else:\n",
    "            query = \"SELECT input_comm, output_comm, SUM(vflow_in) AS split FROM Output_VFlow_In \\\n",
    "            WHERE input_comm IN ('\" + \"','\".join(df_sector['output_comm'].unique()) + \"') AND \\\n",
    "            scenario='\" + scenario + \"' AND sector='\" + sector + \"' AND t_periods=\"+ str(t_periods) + \" AND regions='\"+ str(region) +\\\n",
    "            \"' GROUP BY sector, input_comm, output_comm\"\n",
    "\n",
    "        df_eff = pd.read_sql_query(query, con)\n",
    "        df_eff.drop_duplicates(inplace=True)\n",
    "        df_eff = df_eff.merge(df_eff.groupby(by='input_comm').sum().reset_index(),on='input_comm' )\n",
    "        df_eff['split'] = df_eff['split_x']/df_eff['split_y']\n",
    "\n",
    "        df_sector = df_sector.merge(df_eff, left_on = 'output_comm', right_on='input_comm', how='left')\n",
    "        df_sector['vflow_in'] = df_sector['vflow_in']*df_sector['split']\n",
    "        df_sector = df_sector[['input_comm_x', 'output_comm_y','vflow_in']]\n",
    "        df_sector.rename(columns={'input_comm_x':'input_comm', 'output_comm_y':'output_comm'}, inplace=True)\n",
    "        df_sector = pd.concat([df_sector, df_sector_remains])\n",
    "        mask = df_sector['output_comm'].isin(list(df_demands['comm_name'].values))\n",
    "\n",
    "        iterval+=1\n",
    "        if iterval>10:\n",
    "            break\n",
    "    df_sector.rename(columns={'input_comm':'Source', 'output_comm':'Destination', 'vflow_in':'Flow'}, inplace=True)\n",
    "    return df_sector\n",
    "\n",
    "def sankey_df_demand(con, scenario, sector, t_periods, region, demand):\n",
    "    if sector =='commercial':\n",
    "        fuels_list = ['C_DISTOIL','C_LPG','C_NGA','C_RFO','ELC','SNG_100','H2_100', 'ELCDIST_R']\n",
    "    elif sector=='residential':\n",
    "        fuels_list = ['R_DISTOIL','R_LPG','R_NGA','R_KER','RWHSOL', 'R_BIO','ELC','SNG_100','H2_100', 'ELCDIST_R']\n",
    "    elif sector == 'transport':\n",
    "        fuels_list = ['MGO','DSL','GAS','CNG','ETHANOL', 'JTF', 'RFO', 'T_LPG','MEOH', 'T_Liquids', 'ELC', 'BIODSL', 'BIO_JTF', 'ELCDIST_R']\n",
    "    elif sector == 'industrial':\n",
    "        fuels_list = ['I_COAL', 'I_DFO', 'I_GSL',  'I_NGA', 'I_REN', 'I_RFO', 'I_LPG', 'I_OTH_EA', 'SNG_100', 'MEOH', 'H2_100', 'ELC', 'ELCDIST_R']\n",
    "    else:\n",
    "        print('Sector input is either residential, commercial, industrial, or transport')\n",
    "    \n",
    "    if region=='All':\n",
    "        query = \"SELECT input_comm, output_comm, SUM(vflow_in) AS vflow_in FROM Output_VFlow_In \\\n",
    "    WHERE scenario='\" + scenario + \"' AND sector='\" + sector + \"' AND t_periods=\"+ str(t_periods) + \\\n",
    "    \" GROUP BY sector, input_comm, output_comm ORDER BY input_comm, output_comm\"\n",
    "    else:\n",
    "        query = \"SELECT input_comm, output_comm, SUM(vflow_in) AS vflow_in FROM Output_VFlow_In \\\n",
    "    WHERE scenario='\" + scenario + \"' AND sector='\" + sector + \"' AND t_periods=\"+ str(t_periods) + \" AND regions='\"+ str(region) +\\\n",
    "    \"' GROUP BY sector, input_comm, output_comm ORDER BY input_comm, output_comm\"\n",
    "\n",
    "    df_sector = pd.read_sql_query(query, con)\n",
    "    df_sector = df_sector[df_sector['input_comm'].isin(fuels_list)]\n",
    "    df_demands = pd.read_sql_query(\"SELECT comm_name FROM commodities WHERE flag='d'\", con)\n",
    "    mask = df_sector['output_comm'].isin(list(df_demands['comm_name'].values))\n",
    "    iterval = 1\n",
    "    while len(df_sector[mask]) < len(df_sector):\n",
    "        df_sector_remains = df_sector[mask]\n",
    "        df_sector = df_sector[~mask]\n",
    "        if region=='All':\n",
    "            query = \"SELECT input_comm, output_comm, SUM(vflow_in) AS split FROM Output_VFlow_In \\\n",
    "            WHERE input_comm IN ('\" + \"','\".join(df_sector['output_comm'].unique()) + \"') AND \\\n",
    "            scenario='\" + scenario + \"' AND sector='\" + sector + \"' AND t_periods=\"+ str(t_periods) +\\\n",
    "            \" GROUP BY sector, input_comm, output_comm\"\n",
    "        else:\n",
    "            query = \"SELECT input_comm, output_comm, SUM(vflow_in) AS split FROM Output_VFlow_In \\\n",
    "            WHERE input_comm IN ('\" + \"','\".join(df_sector['output_comm'].unique()) + \"') AND \\\n",
    "            scenario='\" + scenario + \"' AND sector='\" + sector + \"' AND t_periods=\"+ str(t_periods) + \" AND regions='\"+ str(region) +\\\n",
    "            \"' GROUP BY sector, input_comm, output_comm\"\n",
    "\n",
    "        df_eff = pd.read_sql_query(query, con)\n",
    "        df_eff.drop_duplicates(inplace=True)\n",
    "        df_eff = df_eff.merge(df_eff.groupby(by='input_comm').sum().reset_index(),on='input_comm' )\n",
    "        df_eff['split'] = df_eff['split_x']/df_eff['split_y']\n",
    "\n",
    "        df_sector = df_sector.merge(df_eff, left_on = 'output_comm', right_on='input_comm', how='left')\n",
    "        df_sector['vflow_in'] = df_sector['vflow_in']*df_sector['split']\n",
    "        df_sector = df_sector[['input_comm_x', 'input_comm_y', 'output_comm_y','vflow_in']]\n",
    "        df_sector.rename(columns={'input_comm_x':'input_comm', 'input_comm_y':'input_comm_int', 'output_comm_y':'output_comm'}, inplace=True)\n",
    "        df_sector = pd.concat([df_sector, df_sector_remains])\n",
    "        mask = df_sector['output_comm'].isin(list(df_demands['comm_name'].values))\n",
    "\n",
    "        iterval+=1\n",
    "        if iterval>10:\n",
    "            break\n",
    "    df_sector = df_sector[df_sector['output_comm']==demand]\n",
    "    df_sector['input_comm_int'].fillna(df_sector['output_comm'], inplace=True)\n",
    "    df_sector.rename(columns={'input_comm':'Source', 'input_comm_int':'Destination', 'vflow_in':'Flow'}, inplace=True)\n",
    "    return df_sector"
   ]
  },
  {
   "cell_type": "markdown",
   "id": "30446755",
   "metadata": {
    "hide_input": true
   },
   "source": [
    "### Sankey diagram representing energy for end-use demands"
   ]
  },
  {
   "cell_type": "code",
   "execution_count": 3,
   "id": "f2464ea0",
   "metadata": {
    "hide_input": true,
    "init_cell": true
   },
   "outputs": [
    {
     "data": {
      "application/vnd.jupyter.widget-view+json": {
       "model_id": "77818bed16cf40a2b93d447735410e51",
       "version_major": 2,
       "version_minor": 0
      },
      "text/plain": [
       "VBox(children=(HBox(children=(Select(description='sector', options=('residential', 'commercial', 'transport', …"
      ]
     },
     "metadata": {},
     "output_type": "display_data"
    }
   ],
   "source": [
    "def show_sankey_sector(con, scenario):\n",
    "    \n",
    "    sector = ['residential', 'commercial','transport','industrial']\n",
    "\n",
    "    regions = pd.read_sql(\"SELECT regions FROM regions\", con)\n",
    "    regions = ['All'] + list(regions['regions'].values)\n",
    "\n",
    "    period = pd.read_sql(\"SELECT t_periods FROM time_periods WHERE flag='f'\", con)\n",
    "    period = period['t_periods'].values\n",
    "    period = period[:-1]\n",
    "\n",
    "    \n",
    "\n",
    "    w1 = widgets.Select(options=sector)\n",
    "    w2 = widgets.Select(options=regions)\n",
    "    w3 = widgets.Select(options=period)\n",
    "    w = widgets.interactive(filter_tech, sector=w1, regions=w2, period=w3, scenario=widgets.fixed(scenario), \\\n",
    "                           con = widgets.fixed(con))\n",
    "\n",
    "    controls_rows(w)\n",
    "    \n",
    "    \n",
    "def filter_tech(sector, regions, period, scenario, con, **kwargs):\n",
    "    start_l = {}\n",
    "    start_l['residential'] = 'R'\n",
    "    start_l['commercial'] = 'C'\n",
    "    start_l['transport'] = 'T'\n",
    "    start_l['industrial'] = 'I'\n",
    "    demands = pd.read_sql_query(\"SELECT DISTINCT(demand_comm) FROM Demand WHERE \\\n",
    "    substr(demand_comm,1,1) = '\" + start_l[sector] + \"'\", con)\n",
    "    df_sankey = sankey_df(con, scenario, sector, regions, period)\n",
    "\n",
    "    colors = pex.colors.qualitative.D3\n",
    "\n",
    "   \n",
    "\n",
    "    list_nodes = list(set(list(df_sankey['Source'].unique()) +  list(df_sankey['Destination'].unique())))\n",
    "    cats = np.arange(len(list_nodes))\n",
    "    res = {list_nodes[i]: cats[i] for i in range(len(list_nodes))}\n",
    "    \n",
    "    node_colors_mappings = dict([(node,np.random.choice(colors)) for node in list_nodes])\n",
    "    node_colors = [node_colors_mappings[node] for node in list_nodes]\n",
    "    edge_colors = [node_colors_mappings[node] for node in df_sankey['Source']]\n",
    "    \n",
    "    link = dict(source = df_sankey['Source'].map(res), target = df_sankey['Destination'].map(res), \\\n",
    "                value = df_sankey['Flow'].tolist(), line = dict(color = \"grey\", width = 0.3))#, color = edge_colors)\n",
    "    node = dict(label = list(res.keys()),pad=10, thickness=20,line = dict(color = \"black\", width = 1.0),) # color = node_colors, \n",
    "    data = go.Sankey(link = link, node=node)\n",
    "\n",
    "\n",
    "    fig = go.Figure(data)\n",
    "    fig.update_layout(height=600)\n",
    "    fig.show()\n",
    "\n",
    "    \n",
    "show_sankey_sector(con, scenario)\n"
   ]
  },
  {
   "cell_type": "markdown",
   "id": "07bd7873",
   "metadata": {},
   "source": [
    "### Sankey diagram representing energy for a single final demand"
   ]
  },
  {
   "cell_type": "code",
   "execution_count": 4,
   "id": "c75fdeaa",
   "metadata": {
    "hide_input": true,
    "init_cell": true
   },
   "outputs": [
    {
     "data": {
      "application/vnd.jupyter.widget-view+json": {
       "model_id": "5820f4624bb94546a626f0f1299b165e",
       "version_major": 2,
       "version_minor": 0
      },
      "text/plain": [
       "VBox(children=(HBox(children=(Select(description='sector', options=('residential', 'commercial', 'transport', …"
      ]
     },
     "metadata": {},
     "output_type": "display_data"
    }
   ],
   "source": [
    "def show_demand_widget(sector, regions, period, con, scenario):\n",
    "    start_l = {}\n",
    "    start_l['residential'] = 'R'\n",
    "    start_l['commercial'] = 'C'\n",
    "    start_l['transport'] = 'T'\n",
    "    start_l['industrial'] = 'I'\n",
    "    \n",
    "    demand = pd.read_sql_query(\"SELECT DISTINCT(demand_comm) FROM Demand WHERE \\\n",
    "    substr(demand_comm,1,1) = '\" + start_l[sector] + \"'\", con)\n",
    "    demand = demand['demand_comm'].values\n",
    "\n",
    "    layout = widgets.Layout(width='900px')\n",
    "    w4 = widgets.Select(options=demand, layout=layout)\n",
    "\n",
    "    w = widgets.interactive(filter_tech,sector=widgets.fixed(sector), regions=widgets.fixed(regions), period=widgets.fixed(period),\\\n",
    "                             demand=w4, con= widgets.fixed(con), scenario=widgets.fixed(scenario))\n",
    "\n",
    "    controls_rows(w)\n",
    "\n",
    "    \n",
    "def filter_tech(sector='residential', regions='US', period = 2020 ,demand = 'RLT', con=con, scenario=scenario,**kwargs):\n",
    "    \n",
    "    df_sankey = sankey_df_demand(con, scenario, sector,period, regions, demand)\n",
    "\n",
    "    colors = pex.colors.qualitative.D3\n",
    "\n",
    "   \n",
    "\n",
    "    list_nodes = list(set(list(df_sankey['Source'].unique()) +  list(df_sankey['Destination'].unique())))\n",
    "    cats = np.arange(len(list_nodes))\n",
    "    res = {list_nodes[i]: cats[i] for i in range(len(list_nodes))}\n",
    "    \n",
    "    node_colors_mappings = dict([(node,np.random.choice(colors)) for node in list_nodes])\n",
    "    node_colors = [node_colors_mappings[node] for node in list_nodes]\n",
    "    edge_colors = [node_colors_mappings[node] for node in df_sankey['Source']]\n",
    "    \n",
    "    link = dict(source = df_sankey['Source'].map(res), target = df_sankey['Destination'].map(res), \\\n",
    "                value = df_sankey['Flow'].tolist(), line = dict(color = \"grey\", width = 0.3))#, color = edge_colors)\n",
    "    node = dict(label = list(res.keys()),pad=1, thickness=20,line = dict(color = \"black\", width = 1.0),) # color = node_colors, \n",
    "    data = go.Sankey(link = link, node=node)\n",
    "\n",
    "\n",
    "    fig = go.Figure(data)\n",
    "    fig.update_layout(height=600)\n",
    "    fig.show()\n",
    "\n",
    "\n",
    "\n",
    "def show_sankey_sector(con, scenario):\n",
    "    \n",
    "    sector = ['residential', 'commercial','transport','industrial']\n",
    "\n",
    "    regions = pd.read_sql(\"SELECT regions FROM regions\", con)\n",
    "    regions = ['All'] + list(regions['regions'].values)\n",
    "\n",
    "    period = pd.read_sql(\"SELECT t_periods FROM time_periods WHERE flag='f'\", con)\n",
    "    period = period['t_periods'].values\n",
    "    period = period[:-1]\n",
    "\n",
    "    w1 = widgets.Select(options=sector)\n",
    "    w2 = widgets.Select(options=regions)\n",
    "    w3 = widgets.Select(options=period)\n",
    "\n",
    "    w = widgets.interactive(show_demand_widget, sector=w1, regions=w2, period=w3, con= widgets.fixed(con),\\\n",
    "                           scenario = widgets.fixed(scenario))\n",
    "\n",
    "    controls_rows(w)\n",
    "    \n",
    "show_sankey_sector(con, scenario)\n"
   ]
  },
  {
   "cell_type": "markdown",
   "id": "8fbc11a2",
   "metadata": {
    "hide_input": true
   },
   "source": [
    "### Primary energy consumption in each end-use sector"
   ]
  },
  {
   "cell_type": "code",
   "execution_count": 5,
   "id": "a270526d",
   "metadata": {
    "hide_input": true,
    "init_cell": true,
    "scrolled": false
   },
   "outputs": [
    {
     "data": {
      "application/vnd.jupyter.widget-view+json": {
       "model_id": "af4afe7b8146414996d083b430cd60fb",
       "version_major": 2,
       "version_minor": 0
      },
      "text/plain": [
       "VBox(children=(HBox(children=(Select(description='sector', options=('residential', 'commercial', 'transport', …"
      ]
     },
     "metadata": {},
     "output_type": "display_data"
    }
   ],
   "source": [
    "def show_stacked_sector(con, scenario):\n",
    "    \n",
    "    sector = ['residential', 'commercial','transport','industrial']\n",
    "\n",
    "    regions = pd.read_sql(\"SELECT regions FROM regions\", con)\n",
    "    regions = ['All'] + list(regions['regions'].values)\n",
    "\n",
    "    period = pd.read_sql(\"SELECT t_periods FROM time_periods WHERE flag='f'\", con)\n",
    "    period = period['t_periods'].values\n",
    "    period = period[:-1]\n",
    "\n",
    "    \n",
    "\n",
    "    w1 = widgets.Select(options=sector)\n",
    "    w2 = widgets.Select(options=regions)\n",
    "    w = widgets.interactive(filter_plot, sector=w1, regions=w2, scenario=widgets.fixed(scenario), \\\n",
    "                           con = widgets.fixed(con))\n",
    "\n",
    "    controls_rows(w)\n",
    "    \n",
    "    \n",
    "def filter_plot(sector, regions, scenario, con, **kwargs):\n",
    "    start_l = {}\n",
    "    start_l['residential'] = 'R'\n",
    "    start_l['commercial'] = 'C'\n",
    "    start_l['transport'] = 'T'\n",
    "    start_l['industrial'] = 'I'\n",
    "    demands = pd.read_sql_query(\"SELECT DISTINCT(demand_comm) FROM Demand WHERE \\\n",
    "    substr(demand_comm,1,1) = '\" + start_l[sector] + \"'\", con)\n",
    "    df_plot = stacked_penergy_sector(con, scenario, sector, regions)\n",
    "    df_plot /=1000\n",
    "    fig, ax = plt.subplots(figsize=(10,5))\n",
    "    plt.bar(df_plot.columns,df_plot.iloc[0,:],label=df_plot.index[0],edgecolor=None)\n",
    "    cumsum = df_plot.iloc[0,:]\n",
    "    for i in np.arange(1,len(df_plot)):\n",
    "        plt.bar(df_plot.columns,df_plot.iloc[i,:],bottom = cumsum,label=df_plot.index[i])\n",
    "        cumsum+=df_plot.iloc[i,:]\n",
    "    plt.legend()\n",
    "    handles, labels = ax.get_legend_handles_labels()\n",
    "    ax.legend(handles[::-1], labels[::-1], loc='upper left',bbox_to_anchor=(1.01, 1), frameon=False)\n",
    "    plt.xticks(rotation=90)\n",
    "    plt.ylabel('Energy consumption (EJ)')\n",
    "    display(fig)\n",
    "    plt.close()\n",
    "    \n",
    "show_stacked_sector(con, scenario)\n"
   ]
  },
  {
   "cell_type": "markdown",
   "id": "3740ed16",
   "metadata": {},
   "source": [
    "### Capacity, generation and consumption plots for the electric sector\n",
    "Below are static plots focused on the electric sector (i.e., do not require any selections to be made). "
   ]
  },
  {
   "cell_type": "code",
   "execution_count": 6,
   "id": "bb0f0e6e",
   "metadata": {
    "hide_input": true,
    "init_cell": true
   },
   "outputs": [],
   "source": [
    "col_order = ['Biomass','Geothermal','Hydro','Nuclear','Coal','Natural Gas','Solar','Wind','Battery', 'Hydrogen']\n",
    "#map powerplant categories\n",
    "map_plants = dict()\n",
    "map_plants['COAL'] = 'Coal'\n",
    "map_plants['GEO'] = 'Geothermal'\n",
    "map_plants['BE'] = 'Biomass'\n",
    "map_plants['BIO'] = 'Biomass'\n",
    "map_plants['HYD'] = 'Hydro'\n",
    "map_plants['NGA'] = 'Natural Gas'\n",
    "map_plants['WND'] = 'Wind'\n",
    "map_plants['SOL'] = 'Solar'\n",
    "map_plants['URN'] = 'Nuclear'\n",
    "map_plants['Batt'] = 'Battery'\n",
    "map_plants['H2'] = 'Hydrogen'\n",
    "\n",
    "# color preferences for energy sources\n",
    "color_dict = dict()\n",
    "color_dict['Coal'] = 'k'\n",
    "color_dict['Geothermal'] = 'pink'\n",
    "color_dict['Biomass'] = 'green'\n",
    "color_dict['Hydro'] = 'b'\n",
    "color_dict['Natural Gas'] = 'darkred'\n",
    "color_dict['Wind'] = 'lightskyblue'\n",
    "color_dict['Solar'] = 'gold'\n",
    "color_dict['Nuclear'] = 'darkorange'\n",
    "color_dict['Battery'] = 'red'\n",
    "color_dict['Hydrogen'] = 'purple'\n",
    "\n",
    "color_dict['commercial'] = 'darkred'\n",
    "color_dict['industrial'] = 'blue'\n",
    "color_dict['transport'] = 'darkorange'\n",
    "color_dict['residential'] = 'lightskyblue'\n",
    "\n",
    "def stacked_bar_plot(df_plot, col_order):\n",
    "    fig, ax = plt.subplots(figsize=(10,5))\n",
    "    df_plot = df_plot.loc[col_order,:]\n",
    "    plt.bar(df_plot.columns,df_plot.iloc[0,:],label=df_plot.index[0],color=color_dict[df_plot.index[0]], edgecolor=None)\n",
    "    cumsum = df_plot.iloc[0,:]\n",
    "    for i in np.arange(1,len(df_plot)):\n",
    "        plt.bar(df_plot.columns,df_plot.iloc[i,:],bottom = cumsum,label=df_plot.index[i], \\\n",
    "                color=color_dict[df_plot.index[i]])\n",
    "        cumsum+=df_plot.iloc[i,:]\n",
    "    plt.legend()\n",
    "    handles, labels = ax.get_legend_handles_labels()\n",
    "    ax.legend(handles[::-1], labels[::-1], loc='upper left',bbox_to_anchor=(1.01, 1), frameon=False)\n",
    "    plt.xticks(rotation=90)\n",
    "    return fig\n",
    "\n",
    "def plot_capacity_stacked(map_plants, col_order, con, scenario):\n",
    "    df = pd.read_sql('SELECT * FROM Output_CapacityByPeriodAndTech', con)\n",
    "\n",
    "    sector = 'electric'\n",
    "    df_s = df.loc[(df.loc[:,'sector']==sector) & (df.loc[:,'scenario']==scenario),:]\n",
    "    df_s = df_s[~df_s['tech'].str.contains('_emissions')]\n",
    "    df_plot = df_s.groupby(['tech' , 't_periods']).sum().pivot_table(values='capacity', index='tech', columns='t_periods')\n",
    "\n",
    "    df_plot = df_plot[~df_plot.index.str.contains('TRANS')]\n",
    "    df_plot = df_plot[~df_plot.index.str.contains('BLND')]\n",
    "    df_plot = df_plot[~df_plot.index.str.contains('_emissions')]\n",
    "    df_plot.loc[:,'agg_tech'] = [map_plants[y] for x in df_plot.index for y in map_plants.keys() if y.lower() in x.lower()] #map agg technologies\n",
    "    \n",
    "    col_order1 = [x for x in col_order if x in df_plot.loc[:,'agg_tech'].values]\n",
    "    df_plot = df_plot.groupby('agg_tech').sum()\n",
    "    fig = stacked_bar_plot(df_plot, col_order1)\n",
    "    plt.ylabel('Capacity (GW)')\n",
    "    plt.tight_layout()\n",
    "    return fig\n",
    "\n",
    "def plot_activity_stacked(map_plants, col_order, con, scenario):\n",
    "    df = pd.read_sql(\"SELECT regions, tech, sector, t_periods, sum(vflow_out) as vflow_out FROM Output_VFlow_Out \\\n",
    "    WHERE scenario='\" + scenario + \"' AND sector='electric' GROUP BY regions, tech, sector, t_periods\", con)\n",
    "\n",
    "    df_plot = df.groupby(['tech' , 't_periods']).sum().pivot_table(values='vflow_out', index='tech', columns='t_periods')\n",
    "\n",
    "    df_plot = df_plot[~df_plot.index.str.contains('TRANS')]\n",
    "    df_plot = df_plot[~df_plot.index.str.contains('BLND')]\n",
    "    df_plot = df_plot[~df_plot.index.str.contains('Batt')]\n",
    "    df_plot = df_plot[~df_plot.index.str.contains('_emissions')]\n",
    "\n",
    "    df_plot.loc[:,'agg_tech'] = [map_plants[y] for x in df_plot.index for y in map_plants.keys() if y.lower() in x.lower()] #map agg technologies\n",
    "    col_order1 = [x for x in col_order if x in df_plot.loc[:,'agg_tech'].values]\n",
    "    df_plot = df_plot.groupby('agg_tech').sum()\n",
    "    df_plot *= 0.277778 #(PJ to TWh)\n",
    "    fig = stacked_bar_plot(df_plot, col_order1)\n",
    "    plt.ylabel('Generation (TWh)')\n",
    "    plt.tight_layout()\n",
    "    return df_plot\n",
    "\n",
    "def get_elec_supply_sec(con, scenario):\n",
    "    query = \"SELECT sector, t_periods, sum(vflow_in) as vflow_in FROM Output_VFlow_In \\\n",
    "        WHERE scenario='\" + scenario + \\\n",
    "        \"' AND (sector = 'residential' OR sector='commercial' OR sector='industrial' OR sector='transport') \" + \\\n",
    "        \" AND (input_comm='ELC' OR input_comm='ELCDIST_R') \\\n",
    "        GROUP BY sector, t_periods\"\n",
    "    df = pd.read_sql(query, con)\n",
    "    df_plot = df.pivot_table(values='vflow_in', index='sector', columns='t_periods')\n",
    "    df_plot*= 0.277778 #(PJ to TWh)\n",
    "\n",
    "    return df_plot"
   ]
  },
  {
   "cell_type": "code",
   "execution_count": 7,
   "id": "0a6cf792",
   "metadata": {
    "hide_input": true,
    "init_cell": true
   },
   "outputs": [
    {
     "data": {
      "image/png": "[encoded data removed]",
      "text/plain": [
       "<Figure size 720x360 with 1 Axes>"
      ]
     },
     "metadata": {},
     "output_type": "display_data"
    }
   ],
   "source": [
    "fig = plot_capacity_stacked(map_plants, col_order, con, scenario)\n",
    "plt.title('Electric sector capacity')\n",
    "plt.tight_layout()"
   ]
  },
  {
   "cell_type": "code",
   "execution_count": 8,
   "id": "2bc05d9f",
   "metadata": {
    "hide_input": true,
    "init_cell": true,
    "scrolled": false
   },
   "outputs": [
    {
     "data": {
      "image/png": "[encoded data removed]",
      "text/plain": [
       "<Figure size 720x360 with 1 Axes>"
      ]
     },
     "metadata": {},
     "output_type": "display_data"
    }
   ],
   "source": [
    "fig = plot_activity_stacked(map_plants, col_order, con, scenario)\n",
    "plt.title('Electric sector generation')\n",
    "plt.tight_layout()"
   ]
  },
  {
   "cell_type": "code",
   "execution_count": 9,
   "id": "1645261d",
   "metadata": {
    "hide_input": true,
    "init_cell": true
   },
   "outputs": [
    {
     "data": {
      "image/png": "[encoded data removed]",
      "text/plain": [
       "<Figure size 720x360 with 1 Axes>"
      ]
     },
     "metadata": {},
     "output_type": "display_data"
    }
   ],
   "source": [
    "df_plot = get_elec_supply_sec(con, scenario)\n",
    "fig = stacked_bar_plot(df_plot,[ 'industrial', 'transport', 'commercial','residential'])\n",
    "plt.ylabel('Electricity consumption (TWh)')\n",
    "plt.title('Electric consumption across the different end-use sectors')\n",
    "plt.tight_layout()"
   ]
  },
  {
   "cell_type": "code",
   "execution_count": 10,
   "id": "9cfe699d",
   "metadata": {
    "hide_input": true,
    "init_cell": true
   },
   "outputs": [],
   "source": [
    "#return sankey diagram dataframe for a sector\n",
    "def stacked_penergy_sector(con, scenario, sector, region):\n",
    "    if sector =='commercial':\n",
    "        fuels_list = ['C_DISTOIL','C_LPG','C_NGA','C_RFO','ELC','SNG_100','H2_100', 'ELCDIST_R']\n",
    "    elif sector=='residential':\n",
    "        fuels_list = ['R_DISTOIL','R_LPG','R_NGA','R_KER','RWHSOL', 'R_BIO','ELC','SNG_100','H2_100', 'ELCDIST_R']\n",
    "    elif sector == 'transport':\n",
    "        fuels_list = ['MGO','DSL','GAS','CNG','ETHANOL', 'JTF', 'RFO', 'T_LPG','MEOH', 'T_Liquids', 'ELC', 'BIODSL', 'BIO_JTF', 'ELCDIST_R']\n",
    "    elif sector == 'industrial':\n",
    "        fuels_list = ['I_COAL', 'I_DFO', 'I_GSL',  'I_NGA', 'I_REN', 'I_RFO', 'I_LPG', 'I_OTH_EA', 'SNG_100', 'MEOH', 'H2_100', 'ELC', 'ELCDIST_R']\n",
    "    else:\n",
    "        print('Sector input is either residential, commercial, industrial, or transport')\n",
    "    \n",
    "    if region=='All':\n",
    "        query = \"SELECT input_comm, t_periods, SUM(vflow_in) AS vflow_in FROM Output_VFlow_In \\\n",
    "    WHERE scenario='\" + scenario + \"' AND sector='\" + sector + \\\n",
    "    \"' GROUP BY sector, input_comm, t_periods\"\n",
    "    else:\n",
    "        query = \"SELECT input_comm, t_periods, SUM(vflow_in) AS vflow_in FROM Output_VFlow_In \\\n",
    "    WHERE scenario='\" + scenario + \"' AND sector='\" + sector + \"' AND regions='\"+ str(region) +\\\n",
    "    \"' GROUP BY sector, input_comm, t_periods\"\n",
    "\n",
    "    df_sector = pd.read_sql_query(query, con)\n",
    "    df_sector = df_sector[df_sector['input_comm'].isin(fuels_list)]\n",
    "    \n",
    "\n",
    "    df_sector = df_sector.pivot_table(values='vflow_in', index='input_comm', columns='t_periods')\n",
    "    df_sector.fillna(0, inplace=True)\n",
    "    return df_sector"
   ]
  },
  {
   "cell_type": "markdown",
   "id": "78f6c282",
   "metadata": {},
   "source": [
    "### Technology/commodity look-up tool <a class=\"anchor\" id=\"description_look_up\"></a>\n",
    "Use the tool below to retrieve the description for any technology or commodity within the database. Type the commodity or technology name in the box below to view the description. Note that names are case sensitive."
   ]
  },
  {
   "cell_type": "code",
   "execution_count": 11,
   "id": "4e6c17da",
   "metadata": {
    "hide_input": true,
    "init_cell": true
   },
   "outputs": [
    {
     "data": {
      "application/vnd.jupyter.widget-view+json": {
       "model_id": "bd881d09700a41c2ad5d3a16ef7fb4a1",
       "version_major": 2,
       "version_minor": 0
      },
      "text/plain": [
       "Text(value='ELC')"
      ]
     },
     "metadata": {},
     "output_type": "display_data"
    },
    {
     "data": {
      "application/vnd.jupyter.widget-view+json": {
       "model_id": "745fc744d74b4156a02019d65ed398a9",
       "version_major": 2,
       "version_minor": 0
      },
      "text/plain": [
       "Output()"
      ]
     },
     "metadata": {},
     "output_type": "display_data"
    }
   ],
   "source": [
    "w = widgets.Text(value='ELC')\n",
    "display(w)\n",
    "def f(w):\n",
    "    df = pd.read_sql(\"SELECT * FROM commodities WHERE comm_name='\" + w + \"'\", con)\n",
    "    if len(df)==0:\n",
    "        df = pd.read_sql(\"SELECT * FROM technologies WHERE tech='\" + w + \"'\", con)\n",
    "\n",
    "    if len(df)>0:\n",
    "        try:\n",
    "            display(Markdown((df['comm_desc'].values[0].replace('#', '').strip())))\n",
    "        except:\n",
    "            display(Markdown(df['tech_desc'].values[0].replace('#', '').strip()))\n",
    "    else:\n",
    "        print('')\n",
    "\n",
    "\n",
    "out = widgets.interactive_output(f, {'w': w})\n",
    "display(out)\n"
   ]
  }
 ],
 "metadata": {
  "celltoolbar": "Initialization Cell",
  "kernelspec": {
   "display_name": "Python 3 (ipykernel)",
   "language": "python",
   "name": "python3"
  },
  "language_info": {
   "codemirror_mode": {
    "name": "ipython",
    "version": 3
   },
   "file_extension": ".py",
   "mimetype": "text/x-python",
   "name": "python",
   "nbconvert_exporter": "python",
   "pygments_lexer": "ipython3",
   "version": "3.7.3"
  },
  "toc": {
   "base_numbering": 1,
   "nav_menu": {},
   "number_sections": true,
   "sideBar": true,
   "skip_h1_title": false,
   "title_cell": "Table of Contents",
   "title_sidebar": "Contents",
   "toc_cell": false,
   "toc_position": {},
   "toc_section_display": true,
   "toc_window_display": true
  }
 },
 "nbformat": 4,
 "nbformat_minor": 5
}
