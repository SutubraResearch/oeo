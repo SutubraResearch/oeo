{
 "cells": [
  {
   "cell_type": "code",
   "execution_count": null,
   "id": "e5c86f22",
   "metadata": {
    "hide_input": true
   },
   "outputs": [],
   "source": [
    "import pandas as pd\n",
    "import numpy as np\n",
    "import os\n",
    "import sqlite3\n",
    "import shutil\n",
    "import datetime\n",
    "import matplotlib.pyplot as plt\n",
    "from matplotlib.ticker import MaxNLocator\n",
    "from IPython.display import HTML, display, Markdown\n",
    "import tabulate\n",
    "import ipywidgets as widgets\n",
    "from ipywidgets import HBox, VBox, Layout\n",
    "import graphviz\n",
    "from GraphVizUtil import *\n",
    "from GraphVizFormats import *\n",
    "import warnings\n",
    "warnings.filterwarnings('ignore')\n",
    "import seaborn as sb\n",
    "sb.set(style='darkgrid', font_scale=1.2)\n",
    "\n",
    "def filter_descriptions(tech_comm_desc):\n",
    "    try:\n",
    "        tech_comm_desc = tech_comm_desc.values[0][0].replace('#', '').replace('\"','').replace(\"\\n\",'').strip()\n",
    "    except:\n",
    "        tech_comm_desc = 'No description provided'\n",
    "    return tech_comm_desc\n",
    "\n",
    "def create_args_flowd(df_graph):\n",
    "    nodes, tech, ltech, to_tech, from_tech = set(), set(), set(), set(), set()\n",
    "    for ind,row in df_graph.iterrows():\n",
    "        #descriptions:\n",
    "        input_comm_des = filter_descriptions(pd.read_sql(\"SELECT comm_desc FROM commodities WHERE comm_name='\" + row['input_comm'] + \"'\", con))\n",
    "        output_comm_des = filter_descriptions(pd.read_sql(\"SELECT comm_desc FROM commodities WHERE comm_name='\" + row['output_comm'] + \"'\", con))\n",
    "        tech_des = filter_descriptions(pd.read_sql(\"SELECT tech_desc FROM technologies WHERE tech='\" + row['tech'] + \"'\", con))\n",
    "\n",
    "        if 'ethos' in row['input_comm']:\n",
    "            ltech.add('\"' + row['tech'] + '\"' +  ' [tooltip = \"' + tech_des + '\"]')\n",
    "        else :\n",
    "            nodes.add('\"' + row['input_comm'] + '\"' +  ' [tooltip = \"' + input_comm_des + '\"]')\n",
    "        nodes.add('\"' + row['output_comm'] + '\"' +  ' [tooltip = \"' + output_comm_des + '\"]')\n",
    "        tech.add('\"' + row['tech'] + '\"' +  ' [tooltip = \"' + tech_des + '\"]')\n",
    "\n",
    "        if row['input_comm'] != 'ethos':\n",
    "            to_tech.add('\"%s\"' % row['input_comm'] + '\\t->\\t\"%s\"' % row['tech']) \n",
    "        from_tech.add('\"%s\"' % row['tech'] + '\\t->\\t\"%s\"' % row['output_comm'])\n",
    "    args = dict(\n",
    "    enodes = \"\".join('%s;\\n\\t\\t' % x for x in nodes),\n",
    "    tnodes = \"\".join('%s;\\n\\t\\t' % x for x in tech),\n",
    "    iedges = \"\".join('%s;\\n\\t\\t' % x for x in to_tech),\n",
    "    oedges = \"\".join('%s;\\n\\t\\t' % x for x in from_tech),\n",
    "    snodes = \";\".join('%s' %x for x in ltech),\n",
    "    )\n",
    "    return args\n",
    "\n",
    "def return_format_colors():\n",
    "    colors = {}\n",
    "    colors.update(getColorConfig(False))\n",
    "    return colors, quick_run_dot_fmt\n",
    "\n",
    "def return_flowd_table(final_dem, level=1):\n",
    "    df = pd.read_sql(\"SELECT * FROM Efficiency\", con)\n",
    "    df_sel = df[df['output_comm']==final_dem]\n",
    "    if len(df_sel)==0:\n",
    "        df_sel = df[df['tech']==final_dem]\n",
    "    inputs = df_sel['input_comm'].unique()\n",
    "    iterval=0\n",
    "    if level!=0:\n",
    "        while len(inputs)>0:\n",
    "            df_append = df[df['output_comm'].isin(inputs)]\n",
    "            df_sel = pd.concat([df_sel, df_append])\n",
    "            inputs = df_append['input_comm'].unique()\n",
    "            iterval+=1\n",
    "            if iterval>level-1:\n",
    "                break\n",
    "    df_graph = df_sel[['input_comm', 'tech', 'output_comm']].drop_duplicates()\n",
    "    return df_graph\n",
    "\n",
    "def return_flowd_table_fwds(final_dem):\n",
    "    df = pd.read_sql(\"SELECT * FROM Efficiency\", con)\n",
    "    df_sel = df[df['output_comm']==final_dem]\n",
    "    if len(df_sel)==0:\n",
    "        df_sel = df[df['tech']==final_dem]\n",
    "    inputs = df_sel['input_comm'].unique()\n",
    "    outputs = df_sel['output_comm'].unique()\n",
    "\n",
    "    iterval=0\n",
    "    while len(inputs)>0:\n",
    "        df_append = df[df['output_comm'].isin(inputs)]\n",
    "        df_sel = pd.concat([df_sel, df_append])\n",
    "        inputs = df_append['input_comm'].unique()\n",
    "        iterval+=1\n",
    "        if iterval>2:\n",
    "            break\n",
    "    iterval=0\n",
    "    while len(outputs)>0:\n",
    "        df_append = df[df['input_comm'].isin(outputs)]\n",
    "        df_sel = pd.concat([df_sel, df_append])\n",
    "        outputs = df_append['output_comm'].unique()\n",
    "        iterval+=1\n",
    "        if iterval>=0:\n",
    "            break\n",
    "\n",
    "    df_graph = df_sel[['input_comm', 'tech', 'output_comm']].drop_duplicates()\n",
    "    return df_graph\n",
    "\n",
    "con = sqlite3.connect(r'../US_9R_8D.sqlite') #change path to database\n",
    "cur = con.cursor()   \n",
    "con.text_factory = str \n",
    "\n",
    "def controls_rows(w):\n",
    "    controls = HBox(w.children[:-1], layout = Layout(flex_flow='row wrap', width='max-content'))\n",
    "    output = w.children[-1]\n",
    "    display(VBox([controls, output],  layout = Layout(flex_flow='columns wrap', width='max-content', size=10)))\n",
    "    \n",
    "#https://www.eia.gov/energyexplained/units-and-calculators/\n",
    "btu_per_oil_bbl = 5698000\n",
    "PJ_per_oil_bbl = btu_per_oil_bbl*1.05506e-12"
   ]
  },
  {
   "cell_type": "markdown",
   "id": "7212e7a3",
   "metadata": {},
   "source": [
    "### Overview\n",
    "This notebook describes on a series of policy scenarios in the [OEO 2022 report](https://www.cmu.edu/energy/key-initiatives/open-energy-outlook/oeo-report-2022.html) that highlight the interplay between policy and technology to achieve deep reductions in CO<sub>2</sub> emissions by 2050. The scenarios described below are meant to cover a wide range of plausible outcomes that lead to varying degrees of emissions reduction."
   ]
  },
  {
   "cell_type": "markdown",
   "id": "541c1476",
   "metadata": {},
   "source": [
    "### No new policy beyond 2021 (‘No Policy’)\n",
    "This scenario assumes that all existing policies as of the end of 2021 remain in their current form, and no new federal or state policies are implemented. The results indicate how projected fuel prices and technology costs will shape the energy system in the absence of climate policies. A no-policy baseline provides a valuable point of comparison to the policy scenarios. The policies included in this scenario represent the policies in place by the end of 2021: state-level Renewable Portfolio Standards (RPS), the Cross-State Air Pollution Rule (CSAPR), the California cap and trade program, and the federal Investment Tax Credit (ITC). Note that these existing policies are also included in the other scenarios described below. In this No Policy scenario, exogenous fuel prices are set based on the [EIA Annual Energy Outlook (AEO) 2022 Reference case](https://www.eia.gov/outlooks/aeo/).\n",
    "It is worth noting that in August of 2022, the U.S. Congress passed the Inflation Reduction Act (IRA), which allocated ~ $385 billion in funding for climate mitigation activities between 2022 and 2031. This version of the database does not include an explicit analysis of the IRA provisions. We do, however, explore how the provisions in the IRA align with the results of the scenarios included in our modeling efforts and their associated results in the [OEO 2022 report.](https://www.cmu.edu/energy/key-initiatives/open-energy-outlook/oeo-report-2022.html)"
   ]
  },
  {
   "cell_type": "markdown",
   "id": "322882ca",
   "metadata": {},
   "source": [
    "### State-level action in the absence of federal policy (‘State Action’)\n",
    "This scenario considers the possibility of ambitious state-level action to reduce CO<sub>2</sub> emissions without any new federal policy beyond what was available by the end of 2021. The scenario assumes that a collection of U.S. states will implement legislation to achieve net-zero CO<sub>2</sub> emissions from the energy system by 2050. To select the states that would most likely pursue such a policy, we include those states with a renewable or clean energy policy and that have demonstrated a potential willingness to pursue more ambitious actions (e.g., voting history). Figure 1 shows the states with net-zero targets for the energy system in this State Action scenario. This scenario is not meant to serve as a policy forecast but rather an ambitious yet plausible scenario where a subset of state governments take action to reduce emissions. The results inform the degree to which bottom-up, state-level action can reduce emissions compared to the scenarios involving federal action. In this scenario, exogenous fuel prices are set based on the [EIA AEO 2022 Low Oil Price case](https://www.eia.gov/outlooks/aeo/), consistent with expected price impacts due to reductions in petroleum demand."
   ]
  },
  {
   "cell_type": "markdown",
   "id": "4befadba",
   "metadata": {},
   "source": [
    "<img src=\"documentation_images/StateActionPolicyMap.png\" width=\"60%\"/>\n",
    "\n",
    "**Figure 1.**  States with targets of net-zero CO<sub>2</sub> emissions from the energy system in the State Action scenario"
   ]
  },
  {
   "cell_type": "markdown",
   "id": "82610f5f",
   "metadata": {},
   "source": [
    "### UNFCCC COP26 commitments (‘COP26’)\n",
    "This scenario includes the policy commitments in the U.S. Nationally Determined Contributions (NDC), submitted to the UNFCCC as part of the COP26 negotiations. Compared to the No Policy scenario, the results from this scenario indicate how international commitments to climate mitigation can drive reductions in greenhouse gas emissions. Compared with the Net Zero scenario, this COP26 scenario shows the ambition gap between existing international commitments and achieving net-zero emissions. In this scenario, exogenous fuel prices are set based on the [EIA AEO 2022 Low Oil Price case](https://www.eia.gov/outlooks/aeo/)."
   ]
  },
  {
   "cell_type": "markdown",
   "id": "6d60777a",
   "metadata": {},
   "source": [
    "### Policy neutral net-zero (‘Net Zero’)\n",
    "This scenario assumes that the United States will reach net-zero CO<sub>2</sub> emissions by 2050. A constraint caps CO<sub>2</sub> emissions across the energy system to achieve this objective, with linear declines beginning in the 2025 model period and reaching net-zero by 2050. The ‘net’ term indicates that the model can balance any residual CO<sub>2</sub> emissions with carbon dioxide removal (CDR) technologies that draw CO<sub>2</sub> directly out of the atmosphere, including biomass integrated gasification combined cycle with carbon capture and sequestration (BECCS) and direct air capture (DAC). The results from this scenario provide a prescriptive look at the energy system transformation to net-zero without regard to the specific policy mechanisms required to achieve it. In this scenario, exogenous fuel prices are set based on the [EIA AEO 2022 Low Oil Price case](https://www.eia.gov/outlooks/aeo/)."
   ]
  },
  {
   "cell_type": "markdown",
   "id": "ce5c6b3a",
   "metadata": {},
   "source": [
    "### A note on fuel prices\n",
    "Fuel prices are an exogenous input in this analysis. Specifically, this analysis relies on fuel prices reported in the [US EIA Annual Energy Outlook 2022](https://www.eia.gov/outlooks/aeo/). The No Policy scenario relies on the prices in EIA’s Reference case, while the State Action, COP26, and Net Zero scenarios rely on the prices in EIA’s Low Oil Price case. These differences in the prices among the scenarios aim to capture the price elasticity of supply: as demand for fuels decreases in the State Action, COP26, and Net Zero scenarios, the price also drops."
   ]
  },
  {
   "cell_type": "markdown",
   "id": "be4b96f8",
   "metadata": {},
   "source": [
    "### Summary \n",
    "\n",
    "The scenarios in the report collectively represent a full range of emissions pathways. The No Policy and Net Zero scenarios form upper and lower bounds on the emissions trajectories. The remaining scenarios - State Action and COP26 - represent varying levels of policy ambition that will produce emissions trajectories within the prescribed range."
   ]
  }
 ],
 "metadata": {
  "kernelspec": {
   "display_name": "Python 3 (ipykernel)",
   "language": "python",
   "name": "python3"
  },
  "language_info": {
   "codemirror_mode": {
    "name": "ipython",
    "version": 3
   },
   "file_extension": ".py",
   "mimetype": "text/x-python",
   "name": "python",
   "nbconvert_exporter": "python",
   "pygments_lexer": "ipython3",
   "version": "3.7.3"
  },
  "toc": {
   "base_numbering": 1,
   "nav_menu": {},
   "number_sections": true,
   "sideBar": true,
   "skip_h1_title": false,
   "title_cell": "Table of Contents",
   "title_sidebar": "Contents",
   "toc_cell": false,
   "toc_position": {},
   "toc_section_display": true,
   "toc_window_display": true
  }
 },
 "nbformat": 4,
 "nbformat_minor": 5
}
