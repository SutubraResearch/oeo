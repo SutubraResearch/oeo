{
 "cells": [
  {
   "cell_type": "code",
   "execution_count": null,
   "metadata": {
    "hide_input": true,
    "jupyter": {
     "source_hidden": true
    }
   },
   "outputs": [],
   "source": [
    "import pandas as pd\n",
    "import numpy as np\n",
    "import os\n",
    "import sqlite3\n",
    "import shutil\n",
    "import datetime\n",
    "import matplotlib.pyplot as plt\n",
    "import tabulate\n",
    "from IPython.display import HTML, display, Markdown\n",
    "import csv\n",
    "import unicodedata\n",
    "import getopt\n",
    "from ipywidgets import HBox, VBox, Layout\n",
    "\n",
    "import ipywidgets as widgets\n",
    "from ipywidgets import HBox, VBox, Layout\n",
    "import graphviz\n",
    "from GraphVizUtil import *\n",
    "from GraphVizFormats import *\n",
    "import warnings\n",
    "warnings.filterwarnings('ignore')\n",
    "import seaborn as sb\n",
    "sb.set(style='darkgrid', font_scale=1.2)\n",
    "\n",
    "def filter_descriptions(tech_comm_desc):\n",
    "    try:\n",
    "        tech_comm_desc = tech_comm_desc.values[0][0].replace('#', '').replace('\"','').replace(\"\\n\",'').strip()\n",
    "    except:\n",
    "        tech_comm_desc = 'No description provided'\n",
    "    return tech_comm_desc\n",
    "\n",
    "def create_args_flowd(df_graph):\n",
    "    nodes, tech, ltech, to_tech, from_tech = set(), set(), set(), set(), set()\n",
    "    for ind,row in df_graph.iterrows():\n",
    "        #descriptions:\n",
    "        input_comm_des = filter_descriptions(pd.read_sql(\"SELECT comm_desc FROM commodities WHERE comm_name='\" + row['input_comm'] + \"'\", con))\n",
    "        output_comm_des = filter_descriptions(pd.read_sql(\"SELECT comm_desc FROM commodities WHERE comm_name='\" + row['output_comm'] + \"'\", con))\n",
    "        tech_des = filter_descriptions(pd.read_sql(\"SELECT tech_desc FROM technologies WHERE tech='\" + row['tech'] + \"'\", con))\n",
    "\n",
    "        if 'ethos' in row['input_comm']:\n",
    "            ltech.add('\"' + row['tech'] + '\"' +  ' [tooltip = \"' + tech_des + '\"]')\n",
    "        else :\n",
    "            nodes.add('\"' + row['input_comm'] + '\"' +  ' [tooltip = \"' + input_comm_des + '\"]')\n",
    "        nodes.add('\"' + row['output_comm'] + '\"' +  ' [tooltip = \"' + output_comm_des + '\"]')\n",
    "        tech.add('\"' + row['tech'] + '\"' +  ' [tooltip = \"' + tech_des + '\"]')\n",
    "\n",
    "        if row['input_comm'] != 'ethos':\n",
    "            to_tech.add('\"%s\"' % row['input_comm'] + '\\t->\\t\"%s\"' % row['tech']) \n",
    "        from_tech.add('\"%s\"' % row['tech'] + '\\t->\\t\"%s\"' % row['output_comm'])\n",
    "    args = dict(\n",
    "    enodes = \"\".join('%s;\\n\\t\\t' % x for x in nodes),\n",
    "    tnodes = \"\".join('%s;\\n\\t\\t' % x for x in tech),\n",
    "    iedges = \"\".join('%s;\\n\\t\\t' % x for x in to_tech),\n",
    "    oedges = \"\".join('%s;\\n\\t\\t' % x for x in from_tech),\n",
    "    snodes = \";\".join('%s' %x for x in ltech),\n",
    "    )\n",
    "    return args\n",
    "\n",
    "\n",
    "def return_format_colors():\n",
    "    colors = {}\n",
    "    colors.update(getColorConfig(False))\n",
    "    return colors, quick_run_dot_fmt\n",
    "\n",
    "def return_flowd_table(final_dem, level=1):\n",
    "    df = pd.read_sql(\"SELECT * FROM Efficiency\", con)\n",
    "    df_sel = df[df['output_comm']==final_dem]\n",
    "    if len(df_sel)==0:\n",
    "        df_sel = df[df['tech']==final_dem]\n",
    "    inputs = df_sel['input_comm'].unique()\n",
    "    iterval=0\n",
    "    if level!=0:\n",
    "        while len(inputs)>0:\n",
    "            df_append = df[df['output_comm'].isin(inputs)]\n",
    "            df_sel = pd.concat([df_sel, df_append])\n",
    "            inputs = df_append['input_comm'].unique()\n",
    "            iterval+=1\n",
    "            if iterval>level-1:\n",
    "                break\n",
    "    df_graph = df_sel[['input_comm', 'tech', 'output_comm']].drop_duplicates()\n",
    "    return df_graph\n",
    "\n",
    "def return_flowd_table_fwds(final_dem):\n",
    "    df = pd.read_sql(\"SELECT * FROM Efficiency\", con)\n",
    "    df_sel = df[df['output_comm']==final_dem]\n",
    "    if len(df_sel)==0:\n",
    "        df_sel = df[df['tech']==final_dem]\n",
    "    inputs = df_sel['input_comm'].unique()\n",
    "    outputs = df_sel['output_comm'].unique()\n",
    "\n",
    "    iterval=0\n",
    "    while len(inputs)>0:\n",
    "        df_append = df[df['output_comm'].isin(inputs)]\n",
    "        df_sel = pd.concat([df_sel, df_append])\n",
    "        inputs = df_append['input_comm'].unique()\n",
    "        iterval+=1\n",
    "        if iterval>2:\n",
    "            break\n",
    "    iterval=0\n",
    "    while len(outputs)>0:\n",
    "        df_append = df[df['input_comm'].isin(outputs)]\n",
    "        df_sel = pd.concat([df_sel, df_append])\n",
    "        outputs = df_append['output_comm'].unique()\n",
    "        iterval+=1\n",
    "        if iterval>=0:\n",
    "            break\n",
    "\n",
    "    df_graph = df_sel[['input_comm', 'tech', 'output_comm']].drop_duplicates()\n",
    "    return df_graph\n",
    "\n",
    "con = sqlite3.connect(r'../US_Regional.sqlite') #change path to database\n",
    "cur = con.cursor()   \n",
    "con.text_factory = str \n",
    "\n",
    "def controls_rows(w):\n",
    "    controls = HBox(w.children[:-1], layout = Layout(flex_flow='row wrap', width='max-content'))\n",
    "    output = w.children[-1]\n",
    "    display(VBox([controls, output],  layout = Layout(flex_flow='columns wrap', width='max-content', size=10)))\n",
    "    "
   ]
  },
  {
   "cell_type": "markdown",
   "metadata": {},
   "source": [
    "#### 1. Introduction\n",
    "\n",
    "This notebook serves as the documentation for the Temoa input database used to produce the Open Energy Outlook (OEO) for the United States. [Temoa](https://temoacloud.com/) is an energy system optimization model, and thus performs capacity expansion of energy technologies across the whole energy system - fuel supply, electricity, transport, buildings and industry - over several future decades. This documentation is meant to provide a thorough explanation of the how technologies, commodities, and end-use demands are represented within the model, and also serves as a data repository and benchmark for other modeling efforts. Note that modeling such a complex system over several decades requires simplifications in order to make the model tractable.\n",
    "\n",
    "When comparing the level of detail in our database with other modeling efforts, be sure to ask yourself the following questions:\n",
    "1. What research questions is the model trying to answer?\n",
    "2. Does the model cover the whole energy system or a particular sector?\n",
    "3. Does the model perform capacity expansion over future years or does it focus on a single time period or operational issues given an existing capacity mix?\n",
    "\n",
    "For the Open Energy Outlook, our [Roadmap](https://github.com/TemoaProject/oeo/blob/master/OEO_Roadmap.md) lays out the research questions we are planning to address. Addressing these questions requires consideration of three critical issues in the development of the model input database: spatial resolution, temporal resolution, and the level of technology detail, as explained below.\n",
    "\n",
    "**Spatial resolution.** Regional differences in fuel supply, renewable resources, end-use demands, and existing capacities are an important determinant of how the future US energy system may evolve. While it would be useful to model all 50 states, particularly so we can capture state-level energy and climate policies, such a spatial resolution would be computational infeasible, given the other modeling requirements. Thus we need to aggregate states into regions. One of the critical challenges in choosing regions is the electric sector representation, where balancing authorities do not neatly follow state lines. Using [PowerGenome](https://github.com/PowerGenome/PowerGenome), we experimented with the aggregation of balancing authorities into regions that largely follow state boundaries, while still capturing the variations in supply and demand across the country. More details are given the electric power section of this document. Figure 1 shows the regions in the database, based on state-level aggregations, while Table 1 provides the definition of each region.\n",
    "\n",
    "<img src=\"documentation_images/states_to_temoa_state_groups.jpg\" width=\"60%\"/> \n",
    "\n",
    "\n",
    "\n",
    "**Figure 1.** The nine US regions in the OEO input database"
   ]
  },
  {
   "cell_type": "code",
   "execution_count": null,
   "metadata": {
    "hide_input": true,
    "jupyter": {
     "source_hidden": true
    }
   },
   "outputs": [],
   "source": [
    "df = pd.read_sql(\"SELECT * FROM regions\", con)\n",
    "headers=[\"Region\",\"Description\"]\n",
    "display(Markdown('**Table 1.** Regions in the OEO input database'))\n",
    "display(HTML(tabulate.tabulate(df.set_index('regions'), headers, stralign=\"left\",tablefmt='html')))"
   ]
  },
  {
   "cell_type": "markdown",
   "metadata": {},
   "source": [
    "**Temporal resolution.** While the focus of energy systems modeling is on energy systems development over several decades, operational issues associated with electricity system dispatch are important to capture. The ability to adequately model electric power operation and dispatch is particularly important when considering systems that have a high penetration of renewable energy. Our base year is 2020, and the model has five-year time periods that extend to 2050. Each year within a given 5-year time period is assumed to be identical, and thus the model optimizes a representative year within each model time period. In order to capture operational issues and balance supply and demand at the sub-annual level, each representative year is broken down into a number of user-defined time slices. Those time slices can be defined as large blocks of time; for example, \"summer - day\", or at highly granular level; for example, hourly or sub-hourly resolution. Given our interest in modeling high renewables penetration, the brute force approach would suggest modeling every hour of the year for all future years in the projection, but such an approach is computationally infeasible. Thus we need a more clever approach. In this database, we use a \"representative days\" approach where several days, modeled at an hourly resolution, are used to represent an entire year's operations. These representative days are selected from annual datasets that include energy demands as well as wind and solar capacity factors using k-means clustering, as described in [Mallapragada et al, 2018](https://doi.org/10.1016/j.energy.2018.08.015) for the electricity sector, and implemented in [PowerGenome](https://github.com/PowerGenome/PowerGenome). Further details on the clustering approach are presented in the Electric Sector section.\n",
    "\n",
    "Temoa is often solved in \"perfect foresight\" mode, where all decision variables corresponding to installed capacity and commodity flows are optimized simultaneously across all future time periods. To increase the number of representative days that can be modeled, we have developed a \"myopic\" mode for Temoa, whereby the user can solve a subset of future time periods at once. For example, it is possible to solve only the 2020-2025 time periods, retain the 2020 results, optimize the 2025-2030 results, retain the 2025 results, etc. Such a myopic approach conveys two advantages. First, by splitting one large capacity expansion problem into a series of smaller ones, the problem becomes more computationally tractable, and allows us to increase the number of representative days in the model. Second, a myopic approach is more realistic, as it provides limited look ahead rather than the \"crystal ball\" associated with perfect foresight runs.\n",
    "\n",
    "The database used to produce the Open Energy Outlook has a time horizon that spans 2020 to 2050, with 5-year time periods. While we are still performing computational tests with different numbers of representative days, we expect that the eventual database will include between 4 and 12 representative days over which supply and demand are balanced.\n",
    "\n",
    "\n",
    "**Technology detail.** Energy system optimization models like Temoa represent technologies as a set of processes connected within a system by commodity flows. Technologies are represented by a set of engineering-economic parameters, including capital cost, fixed and variable operations and maintenance costs, conversion efficiencies, and emissions coefficients. The strength of models such as Temoa resides in their ability to capture these detailed cost and performance characteristics. While high granularity in technology representation can be an asset, unnecessary detail degrades computational performance and makes the model harder to interrogate. Across the sectors modeled in this project, we have applied expert judgement and articulated our assumptions regarding technology representation. The descriptions embedded in the following sections lay our our assumptions in detail, and are guided by the thinking laid out in our [Roadmap](https://github.com/TemoaProject/oeo/blob/master/OEO_Roadmap.md).\n",
    "\n",
    "Within the input database, we model the following sectors: fuel supply, electricity, industry, buildings, and transportation. Because the database represents the whole energy system, energy commodities flow between technologies in different sectors, linking the entire system together in one large network. An example pathway associated with renewable electricity generation is shown in Figure 2."
   ]
  },
  {
   "cell_type": "code",
   "execution_count": null,
   "metadata": {
    "hide_input": true,
    "jupyter": {
     "source_hidden": true
    }
   },
   "outputs": [],
   "source": [
    "def refinery_network_diagram(con):\n",
    "    final_dem = 'ELCP_Renewables'\n",
    "    df_graph = return_flowd_table(final_dem,2)\n",
    "    args = create_args_flowd(df_graph)\n",
    "    colors, quick_run_dot_fmt = return_format_colors()\n",
    "    args.update(colors)\n",
    "    o_str = 'rankdir = \"LR\" ;'\n",
    "    r_str = 'rankdir = \"LR\" ; \\n\\t size=\"8,8\";'\n",
    "    quick_run_dot_fmt = quick_run_dot_fmt.replace(o_str, r_str)\n",
    "    dot_graph = quick_run_dot_fmt % args\n",
    "    display(Markdown('**Figure 2.** An example pathway (of renewable electricity generation) in the modeled system'))\n",
    "    display(graphviz.Source(dot_graph))\n",
    "    \n",
    "refinery_network_diagram(con)\n"
   ]
  },
  {
   "cell_type": "markdown",
   "metadata": {
    "jupyter": {
     "source_hidden": false
    }
   },
   "source": [
    "#### 2. Database Naming Conventions\n",
    "This section describes the basic naming convention used for technologies and commodities in the database.\n",
    "\n",
    "##### 2.1  Technologies\n",
    "The technology names in the database consists of several parts. These parts that are separated by an '_' and are meant to reveal information about a technology. Every technology name starts with a letter that identifies the sector to which the technology belongs. Table 2 shows the letters used to demonstrate different sectors.\n",
    "\n",
    "**Table 2**. Letters and their corresponding sectors\n",
    "\n",
    "| Letter | R | C | T | I | E\n",
    "| :--- | :--- | :--- | :--- | :--- |  :--- |\n",
    "| **Sector** | residential | commercial | transportation | industrial | electric\n",
    "\n",
    "After the sector identifier, a shortened description of the technology is provided. For instance, “E_SOLPVCEN” represents utility-scale solar PV, and “C_SH_AHP_ELC” represents electric air-cooled heat pumps used for space heating in the commercial sector. As noted above, the “E” and “C” at the beginning of the names denote the sector to which the technology belongs. A full description of all the names are provided in the “technologies” table of the database. Technologies with an “EA” and “BLND” designation are used to facilitate emissions accounting and blending of separate fuels, respectively.\n",
    "\n",
    "The last identifier indicates whether the technology exists in the base year or it is a future technology. Existing technologies have an “R” (i.e., \"residual\") while new technologies are shown by “N” (i.e., \"new\"). For example, “E_SOLPVCEN_R” and “C_SH_AHP_ELC_N” refer to existing (residual) utility-scale PV plants and new electric air-cooled heat pumps used for space heating in the commercial sector, respectively."
   ]
  },
  {
   "cell_type": "markdown",
   "metadata": {},
   "source": [
    "##### 2.2  Energy Commodities\n",
    "Table 3 defines the main energy carriers used in the database.\n",
    "\n",
    "**Table 3.** Fuels names in the database\n",
    "\n",
    "|Name in the database | Fuel|\n",
    "| :--- | :--- |\n",
    "|NGA\t\t\t|\tNatural gas |\n",
    "|COAL\t\t\t|\tLignite coal|\n",
    "|COAB\t\t\t|\tBituminous coal|\n",
    "|COAS\t\t\t|\tSubbituminous coal|\n",
    "|URN\t\t\t|\tUranium|\n",
    "|ELCP\t\t\t|\tElectricity from fossil-based plants|\n",
    "|ELCP_Renewables|\tElectricity from renewable plants|\n",
    "|ELC\t\t\t|\tElectricity at the point of consumption|\n",
    "|STV\t\t\t|\tCorn stover|\n",
    "|AGR\t\t\t|\tAgricultural residue|\n",
    "|ECG\t\t\t|\tEnergy crop – grass|\n",
    "|ECW\t\t\t|\tEnergy crop – woody|\n",
    "|FSR\t\t\t|\tForest residue|\n",
    "|UWW\t\t\t|\tUrban wood waster|\n",
    "|SOY\t\t\t|\tSoy|\n",
    "|DISTOIL\t\t|\tDistillate oil|\n",
    "|KER\t\t\t|\tKerosene|\n",
    "|RFO\t\t\t|\tResidual fuel oil|\n",
    "|LPG\t\t\t|\tLiquified petroleum gas|\n",
    "|CNG\t\t\t|\tCompressed natural gas|\n",
    "|GAS\t\t\t|\tGasoline|\n",
    "|DSL\t\t\t|\tDiesel|\n",
    "|E10\t\t\t|\tBlend of 10% ethanol and 90% gasoline|\n",
    "|E85\t\t\t|\tBlend of 85% ethanol and 15% gasoline|\n",
    "|B20\t\t\t|\tBlend of 20% bio-diesel and 80% diesel|\n",
    "|JTF\t\t\t|\tJet fuel|\n",
    "|BIOJTF\t\t\t|\tBio jet fuel|\n",
    "|ETH_CORN\t\t|\tCorn ethanol|\n",
    "|ETH_CEL\t\t|\tCellulosic ethanol|\n",
    "|MEOH\t\t\t|\tMethanol|\n",
    "|BIODSL\t\t\t|\tBiodiesel|\n",
    "|H2\t\t\t\t|\tHydrogen|\n",
    "|SNG\t\t\t|\tSynthetic gas|\n"
   ]
  },
  {
   "cell_type": "markdown",
   "metadata": {
    "jupyter": {
     "source_hidden": false
    }
   },
   "source": [
    "#### 3. Technology/commodity description lookup tool <a class=\"anchor\" id=\"description_look_up\"></a>\n",
    "Use the tool below to search for any key words that may describe a technology or commodity of interest (e.g. heating, cooling). The tool provides a list of all the technologies or commodities in the database that may be relevant to the query.\n"
   ]
  },
  {
   "cell_type": "code",
   "execution_count": null,
   "metadata": {
    "hide_input": true,
    "jupyter": {
     "source_hidden": true
    }
   },
   "outputs": [],
   "source": [
    "w = widgets.Text(value='space heating demand')\n",
    "display(w)\n",
    "def f(w):\n",
    "    if len(w)>0:\n",
    "        df1 = pd.read_sql(\"SELECT * FROM commodities WHERE comm_desc LIKE '%\" + w + \"%'\", con)\n",
    "        df1['desc'] = df1['comm_desc'].str.replace('#','').str.strip()\n",
    "        df1['comm_tech'] = df1['comm_name']\n",
    "        df1['type'] = 'commodity'\n",
    "\n",
    "        df2 = pd.read_sql(\"SELECT * FROM technologies WHERE tech_desc LIKE '%\" + w + \"%'\", con)\n",
    "        df2['desc'] = df2['tech_desc'].str.replace('#','').str.strip()\n",
    "        df2['comm_tech'] = df2['tech']\n",
    "        df2['type'] = 'technology'\n",
    "\n",
    "\n",
    "        df = pd.concat([df1[['comm_tech','type','desc']], df2[['comm_tech','type','desc']]])\n",
    "        \n",
    "        if len(df)>0:\n",
    "            display(HTML(tabulate.tabulate(df.set_index('comm_tech'),['technology/commodity','type','description'],stralign='left',tablefmt='html')))\n",
    "        else:\n",
    "            print('')\n",
    "    else:\n",
    "        print('')\n",
    "            \n",
    "\n",
    "\n",
    "out = widgets.interactive_output(f, {'w': w})\n",
    "display(out)"
   ]
  },
  {
   "cell_type": "markdown",
   "metadata": {},
   "source": [
    "#### 4. Network diagram lookup tool  <a class=\"anchor\" id=\"network_look_up\"></a>\n",
    "Use the [description lookup tool](#description_look_up) above to identify specific commodity or technology names. Type the name in the box below to generate a corresponding network diagram for that commodity or technology. The slider can be used to view different upstream levels of the network diagram."
   ]
  },
  {
   "cell_type": "code",
   "execution_count": null,
   "metadata": {
    "hide_input": true,
    "jupyter": {
     "source_hidden": true
    }
   },
   "outputs": [],
   "source": [
    "w = widgets.Text(value='RSH')\n",
    "display(w)\n",
    "def f(w):\n",
    "    if len(w)>0:\n",
    "        \n",
    "        df1 = pd.read_sql(\"SELECT comm_name, comm_desc FROM commodities WHERE comm_name='\" + w + \"'\", con)\n",
    "        df1['desc'] = df1['comm_desc'].str.replace('#','').str.strip()\n",
    "        df1['comm_tech'] = df1['comm_name']\n",
    "        df1['type'] = 'commodity'\n",
    "\n",
    "        df2 = pd.read_sql(\"SELECT * FROM technologies WHERE tech='\" + w + \"'\", con)\n",
    "        df2['desc'] = df2['tech_desc'].str.replace('#','').str.strip()\n",
    "        df2['comm_tech'] = df2['tech']\n",
    "        df2['type'] = 'technology'\n",
    "\n",
    "        df = pd.concat([df1[['comm_tech','type','desc']], df2[['comm_tech','type','desc']]])\n",
    "\n",
    "    \n",
    "        if len(df)>0:\n",
    "            def show_desc(level):\n",
    "                display(Markdown(df['desc'][0]))\n",
    "                final_dem = df['comm_tech'][0]\n",
    "                df_graph = return_flowd_table(final_dem,level)\n",
    "                args = create_args_flowd(df_graph)\n",
    "                colors, quick_run_dot_fmt = return_format_colors()\n",
    "                args.update(colors)\n",
    "                o_str = 'rankdir = \"LR\" ;'\n",
    "                r_str = 'rankdir = \"LR\" ; \\n\\t size=\"8,8\";'\n",
    "                quick_run_dot_fmt = quick_run_dot_fmt.replace(o_str, r_str)\n",
    "                dot_graph = quick_run_dot_fmt % args\n",
    "                display(graphviz.Source(dot_graph))\n",
    "            w2 = widgets.IntSlider(value=1,min=0,max=10,step=1,description='Level:',disabled=False,continuous_update=True,orientation='horizontal',readout=True,readout_format='d')\n",
    "            w = widgets.interactive(show_desc, level=w2)\n",
    "            controls_rows(w)\n",
    "        else:\n",
    "            print('')\n",
    "\n",
    "    else:\n",
    "        print('')\n",
    "            \n",
    "\n",
    "\n",
    "out = widgets.interactive_output(f, {'w': w})\n",
    "display(out)"
   ]
  },
  {
   "cell_type": "markdown",
   "metadata": {},
   "source": [
    "#### 5. Technology/commodity look-up tool\n",
    "Use the tool below to retrieve the description for any technology or commodity within the database. Type the commodity or technology name in the box below to view the description. Note that names are case sensitive."
   ]
  },
  {
   "cell_type": "code",
   "execution_count": null,
   "metadata": {
    "hide_input": true,
    "jupyter": {
     "source_hidden": true
    }
   },
   "outputs": [],
   "source": [
    "w = widgets.Text(value='ELC')\n",
    "display(w)\n",
    "def f(w):\n",
    "    df = pd.read_sql(\"SELECT * FROM commodities WHERE comm_name='\" + w + \"'\", con)\n",
    "    if len(df)==0:\n",
    "        df = pd.read_sql(\"SELECT * FROM technologies WHERE tech='\" + w + \"'\", con)\n",
    "\n",
    "    if len(df)>0:\n",
    "        try:\n",
    "            display(Markdown((df['comm_desc'].values[0].replace('#', '').strip())))\n",
    "        except:\n",
    "            display(Markdown(df['tech_desc'].values[0].replace('#', '').strip()))\n",
    "    else:\n",
    "        print('')\n",
    "\n",
    "\n",
    "out = widgets.interactive_output(f, {'w': w})\n",
    "display(out)\n"
   ]
  }
 ],
 "metadata": {
  "celltoolbar": "Initialization Cell",
  "kernelspec": {
   "display_name": "Python 3",
   "language": "python",
   "name": "python3"
  },
  "language_info": {
   "codemirror_mode": {
    "name": "ipython",
    "version": 3
   },
   "file_extension": ".py",
   "mimetype": "text/x-python",
   "name": "python",
   "nbconvert_exporter": "python",
   "pygments_lexer": "ipython3",
   "version": "3.7.3"
  }
 },
 "nbformat": 4,
 "nbformat_minor": 4
}
